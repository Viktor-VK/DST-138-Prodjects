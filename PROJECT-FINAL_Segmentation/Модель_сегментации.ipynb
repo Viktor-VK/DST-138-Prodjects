{
 "cells": [
  {
   "cell_type": "markdown",
   "metadata": {},
   "source": [
    "# Создание модели с автоматическими сегментами"
   ]
  },
  {
   "cell_type": "markdown",
   "metadata": {},
   "source": [
    "# 0. Импорт библиотек"
   ]
  },
  {
   "cell_type": "code",
   "execution_count": 130,
   "metadata": {},
   "outputs": [],
   "source": [
    "import pandas as pd\n",
    "import numpy as np\n",
    "from sklearn.cluster import AgglomerativeClustering\n",
    "from scipy.cluster.hierarchy import dendrogram, linkage\n",
    "from matplotlib import pyplot as plt\n",
    "import seaborn as sns\n",
    "import plotly.express as px\n",
    "import warnings\n",
    "warnings.filterwarnings('ignore')"
   ]
  },
  {
   "cell_type": "markdown",
   "metadata": {},
   "source": [
    "# 1. Знакомство с данными"
   ]
  },
  {
   "cell_type": "markdown",
   "metadata": {},
   "source": [
    "### Справочник категорий"
   ]
  },
  {
   "cell_type": "code",
   "execution_count": 131,
   "metadata": {},
   "outputs": [
    {
     "data": {
      "text/html": [
       "<div>\n",
       "<style scoped>\n",
       "    .dataframe tbody tr th:only-of-type {\n",
       "        vertical-align: middle;\n",
       "    }\n",
       "\n",
       "    .dataframe tbody tr th {\n",
       "        vertical-align: top;\n",
       "    }\n",
       "\n",
       "    .dataframe thead th {\n",
       "        text-align: right;\n",
       "    }\n",
       "</style>\n",
       "<table border=\"1\" class=\"dataframe\">\n",
       "  <thead>\n",
       "    <tr style=\"text-align: right;\">\n",
       "      <th></th>\n",
       "      <th>КодКатегории</th>\n",
       "      <th>Уровень4</th>\n",
       "    </tr>\n",
       "  </thead>\n",
       "  <tbody>\n",
       "    <tr>\n",
       "      <th>0</th>\n",
       "      <td>EM85913</td>\n",
       "      <td>Стеклоочиститель портативный</td>\n",
       "    </tr>\n",
       "    <tr>\n",
       "      <th>1</th>\n",
       "      <td>AM24371</td>\n",
       "      <td>Пылесос строительный</td>\n",
       "    </tr>\n",
       "  </tbody>\n",
       "</table>\n",
       "</div>"
      ],
      "text/plain": [
       "  КодКатегории                      Уровень4\n",
       "0      EM85913  Стеклоочиститель портативный\n",
       "1      AM24371          Пылесос строительный"
      ]
     },
     "metadata": {},
     "output_type": "display_data"
    }
   ],
   "source": [
    "# Чтение данных\n",
    "dim_category = pd.read_csv('data/dim_category.zip')\n",
    "display(dim_category.head(2))"
   ]
  },
  {
   "cell_type": "code",
   "execution_count": 132,
   "metadata": {},
   "outputs": [
    {
     "name": "stdout",
     "output_type": "stream",
     "text": [
      "<class 'pandas.core.frame.DataFrame'>\n",
      "RangeIndex: 718 entries, 0 to 717\n",
      "Data columns (total 2 columns):\n",
      " #   Column        Non-Null Count  Dtype \n",
      "---  ------        --------------  ----- \n",
      " 0   КодКатегории  718 non-null    object\n",
      " 1   Уровень4      718 non-null    object\n",
      "dtypes: object(2)\n",
      "memory usage: 11.3+ KB\n"
     ]
    }
   ],
   "source": [
    "dim_category.info()"
   ]
  },
  {
   "cell_type": "code",
   "execution_count": 133,
   "metadata": {},
   "outputs": [
    {
     "data": {
      "text/html": [
       "<div>\n",
       "<style scoped>\n",
       "    .dataframe tbody tr th:only-of-type {\n",
       "        vertical-align: middle;\n",
       "    }\n",
       "\n",
       "    .dataframe tbody tr th {\n",
       "        vertical-align: top;\n",
       "    }\n",
       "\n",
       "    .dataframe thead th {\n",
       "        text-align: right;\n",
       "    }\n",
       "</style>\n",
       "<table border=\"1\" class=\"dataframe\">\n",
       "  <thead>\n",
       "    <tr style=\"text-align: right;\">\n",
       "      <th></th>\n",
       "      <th>КодКатегории</th>\n",
       "      <th>Уровень4</th>\n",
       "    </tr>\n",
       "  </thead>\n",
       "  <tbody>\n",
       "    <tr>\n",
       "      <th>count</th>\n",
       "      <td>718</td>\n",
       "      <td>718</td>\n",
       "    </tr>\n",
       "    <tr>\n",
       "      <th>unique</th>\n",
       "      <td>718</td>\n",
       "      <td>718</td>\n",
       "    </tr>\n",
       "    <tr>\n",
       "      <th>top</th>\n",
       "      <td>EM85913</td>\n",
       "      <td>Стеклоочиститель портативный</td>\n",
       "    </tr>\n",
       "    <tr>\n",
       "      <th>freq</th>\n",
       "      <td>1</td>\n",
       "      <td>1</td>\n",
       "    </tr>\n",
       "  </tbody>\n",
       "</table>\n",
       "</div>"
      ],
      "text/plain": [
       "       КодКатегории                      Уровень4\n",
       "count           718                           718\n",
       "unique          718                           718\n",
       "top         EM85913  Стеклоочиститель портативный\n",
       "freq              1                             1"
      ]
     },
     "execution_count": 133,
     "metadata": {},
     "output_type": "execute_result"
    }
   ],
   "source": [
    "# Описательная статистика\n",
    "dim_category.describe()"
   ]
  },
  {
   "cell_type": "markdown",
   "metadata": {},
   "source": [
    "В справочнике всего 718 уникальных категорий, пропусков нет."
   ]
  },
  {
   "cell_type": "markdown",
   "metadata": {},
   "source": [
    "### Приоритеты характеристик"
   ]
  },
  {
   "cell_type": "code",
   "execution_count": 134,
   "metadata": {},
   "outputs": [
    {
     "data": {
      "text/html": [
       "<div>\n",
       "<style scoped>\n",
       "    .dataframe tbody tr th:only-of-type {\n",
       "        vertical-align: middle;\n",
       "    }\n",
       "\n",
       "    .dataframe tbody tr th {\n",
       "        vertical-align: top;\n",
       "    }\n",
       "\n",
       "    .dataframe thead th {\n",
       "        text-align: right;\n",
       "    }\n",
       "</style>\n",
       "<table border=\"1\" class=\"dataframe\">\n",
       "  <thead>\n",
       "    <tr style=\"text-align: right;\">\n",
       "      <th></th>\n",
       "      <th>Категория</th>\n",
       "      <th>ID характеристики</th>\n",
       "      <th>Название характеристики</th>\n",
       "      <th>Приоритет</th>\n",
       "      <th>Частота использования, %</th>\n",
       "      <th>Количество кликов</th>\n",
       "    </tr>\n",
       "  </thead>\n",
       "  <tbody>\n",
       "    <tr>\n",
       "      <th>0</th>\n",
       "      <td>Электронные книги</td>\n",
       "      <td>1000</td>\n",
       "      <td>Объем встроенной памяти</td>\n",
       "      <td>720</td>\n",
       "      <td>0.0013</td>\n",
       "      <td>80</td>\n",
       "    </tr>\n",
       "    <tr>\n",
       "      <th>1</th>\n",
       "      <td>Электронные книги</td>\n",
       "      <td>989</td>\n",
       "      <td>Диагональ дисплея</td>\n",
       "      <td>900</td>\n",
       "      <td>0.2591</td>\n",
       "      <td>15525</td>\n",
       "    </tr>\n",
       "  </tbody>\n",
       "</table>\n",
       "</div>"
      ],
      "text/plain": [
       "           Категория  ID характеристики  Название характеристики  Приоритет  \\\n",
       "0  Электронные книги               1000  Объем встроенной памяти        720   \n",
       "1  Электронные книги                989        Диагональ дисплея        900   \n",
       "\n",
       "   Частота использования, %  Количество кликов  \n",
       "0                    0.0013                 80  \n",
       "1                    0.2591              15525  "
      ]
     },
     "execution_count": 134,
     "metadata": {},
     "output_type": "execute_result"
    }
   ],
   "source": [
    "# Чтение данных\n",
    "site_priorities = pd.read_csv('data/site_priorities.zip')\n",
    "site_priorities.head(2)"
   ]
  },
  {
   "cell_type": "code",
   "execution_count": 135,
   "metadata": {},
   "outputs": [
    {
     "name": "stdout",
     "output_type": "stream",
     "text": [
      "<class 'pandas.core.frame.DataFrame'>\n",
      "RangeIndex: 27296 entries, 0 to 27295\n",
      "Data columns (total 6 columns):\n",
      " #   Column                    Non-Null Count  Dtype  \n",
      "---  ------                    --------------  -----  \n",
      " 0   Категория                 27296 non-null  object \n",
      " 1   ID характеристики         27296 non-null  int64  \n",
      " 2   Название характеристики   27296 non-null  object \n",
      " 3   Приоритет                 27296 non-null  int64  \n",
      " 4   Частота использования, %  27296 non-null  float64\n",
      " 5   Количество кликов         27296 non-null  int64  \n",
      "dtypes: float64(1), int64(3), object(2)\n",
      "memory usage: 1.2+ MB\n"
     ]
    }
   ],
   "source": [
    "site_priorities.info()"
   ]
  },
  {
   "cell_type": "code",
   "execution_count": 136,
   "metadata": {},
   "outputs": [
    {
     "data": {
      "text/plain": [
       "count    27296.000000\n",
       "mean       825.076568\n",
       "std         85.131890\n",
       "min       -140.000000\n",
       "25%        800.000000\n",
       "50%        850.000000\n",
       "75%        880.000000\n",
       "max        900.000000\n",
       "Name: Приоритет, dtype: float64"
      ]
     },
     "metadata": {},
     "output_type": "display_data"
    },
    {
     "data": {
      "text/plain": [
       "Категория                    2654\n",
       "ID характеристики           26610\n",
       "Название характеристики      7942\n",
       "Приоритет                     105\n",
       "Частота использования, %     3074\n",
       "Количество кликов            3604\n",
       "dtype: int64"
      ]
     },
     "execution_count": 136,
     "metadata": {},
     "output_type": "execute_result"
    }
   ],
   "source": [
    "# Описательная статистика\n",
    "display(site_priorities['Приоритет'].describe())\n",
    "site_priorities.nunique()"
   ]
  },
  {
   "cell_type": "markdown",
   "metadata": {},
   "source": [
    "1. В справочнике приоритетов 2654 категории, 26610 характеристик, пропусков нет.\n",
    "2. Диапазон приоритетов от -140 до 900"
   ]
  },
  {
   "cell_type": "code",
   "execution_count": 137,
   "metadata": {},
   "outputs": [],
   "source": [
    "# Меняю тип данных на строковый\n",
    "site_priorities['ID характеристики'] = site_priorities['ID характеристики'].astype('str')"
   ]
  },
  {
   "cell_type": "markdown",
   "metadata": {},
   "source": [
    "### Справочник характеристик товара"
   ]
  },
  {
   "cell_type": "code",
   "execution_count": 138,
   "metadata": {},
   "outputs": [
    {
     "data": {
      "text/html": [
       "<div>\n",
       "<style scoped>\n",
       "    .dataframe tbody tr th:only-of-type {\n",
       "        vertical-align: middle;\n",
       "    }\n",
       "\n",
       "    .dataframe tbody tr th {\n",
       "        vertical-align: top;\n",
       "    }\n",
       "\n",
       "    .dataframe thead th {\n",
       "        text-align: right;\n",
       "    }\n",
       "</style>\n",
       "<table border=\"1\" class=\"dataframe\">\n",
       "  <thead>\n",
       "    <tr style=\"text-align: right;\">\n",
       "      <th></th>\n",
       "      <th>Код</th>\n",
       "      <th>ВидХарактеристики</th>\n",
       "      <th>КодВидаХарактеристики</th>\n",
       "      <th>КодХарактеристики</th>\n",
       "      <th>Характеристика</th>\n",
       "      <th>Значимость</th>\n",
       "    </tr>\n",
       "  </thead>\n",
       "  <tbody>\n",
       "    <tr>\n",
       "      <th>0</th>\n",
       "      <td>5334213</td>\n",
       "      <td>Наличие фильтра от мелких частиц</td>\n",
       "      <td>13494</td>\n",
       "      <td>163267</td>\n",
       "      <td>есть</td>\n",
       "      <td>200</td>\n",
       "    </tr>\n",
       "    <tr>\n",
       "      <th>1</th>\n",
       "      <td>5334213</td>\n",
       "      <td>Напряжение питания</td>\n",
       "      <td>1205937</td>\n",
       "      <td>60932058</td>\n",
       "      <td>220-240 В / 50 Гц</td>\n",
       "      <td>110</td>\n",
       "    </tr>\n",
       "  </tbody>\n",
       "</table>\n",
       "</div>"
      ],
      "text/plain": [
       "       Код                 ВидХарактеристики  КодВидаХарактеристики  \\\n",
       "0  5334213  Наличие фильтра от мелких частиц                  13494   \n",
       "1  5334213                Напряжение питания                1205937   \n",
       "\n",
       "   КодХарактеристики     Характеристика  Значимость  \n",
       "0             163267               есть         200  \n",
       "1           60932058  220-240 В / 50 Гц         110  "
      ]
     },
     "execution_count": 138,
     "metadata": {},
     "output_type": "execute_result"
    }
   ],
   "source": [
    "# Чтение данных\n",
    "product_specifications = pd.read_csv('data/product_specifications.zip')\n",
    "df_0 = product_specifications.copy() # Копия исходных данных\n",
    "product_specifications.head(2)"
   ]
  },
  {
   "cell_type": "code",
   "execution_count": 139,
   "metadata": {},
   "outputs": [
    {
     "name": "stdout",
     "output_type": "stream",
     "text": [
      "<class 'pandas.core.frame.DataFrame'>\n",
      "RangeIndex: 82949 entries, 0 to 82948\n",
      "Data columns (total 6 columns):\n",
      " #   Column                 Non-Null Count  Dtype \n",
      "---  ------                 --------------  ----- \n",
      " 0   КодТовара              82949 non-null  int64 \n",
      " 1   ВидХарактеристики      82949 non-null  object\n",
      " 2   КодВидаХарактеристики  82949 non-null  int64 \n",
      " 3   КодХарактеристики      82949 non-null  int64 \n",
      " 4   Характеристика         82942 non-null  object\n",
      " 5   Значимость             82949 non-null  int64 \n",
      "dtypes: int64(4), object(2)\n",
      "memory usage: 3.8+ MB\n"
     ]
    }
   ],
   "source": [
    "product_specifications = product_specifications.rename(columns={'Код':'КодТовара'})\n",
    "product_specifications.info()"
   ]
  },
  {
   "cell_type": "code",
   "execution_count": 140,
   "metadata": {},
   "outputs": [
    {
     "data": {
      "text/plain": [
       "count    82949.000000\n",
       "mean       199.946027\n",
       "std         54.466492\n",
       "min          0.000000\n",
       "25%        190.000000\n",
       "50%        218.000000\n",
       "75%        240.000000\n",
       "max        255.000000\n",
       "Name: Значимость, dtype: float64"
      ]
     },
     "execution_count": 140,
     "metadata": {},
     "output_type": "execute_result"
    }
   ],
   "source": [
    "# Проверка диапазона значимости\n",
    "product_specifications['Значимость'].describe()"
   ]
  },
  {
   "cell_type": "markdown",
   "metadata": {},
   "source": [
    "1. Диапазон \"Значимость\" от 0 до 250.\n",
    "2. В таблице есть пропуски, их заполнением займемся далее.\n",
    "3. Нужно преобразование типов данных."
   ]
  },
  {
   "cell_type": "code",
   "execution_count": 141,
   "metadata": {},
   "outputs": [],
   "source": [
    "product_specifications[['КодТовара', 'КодВидаХарактеристики', 'КодХарактеристики']] = product_specifications[['КодТовара', 'КодВидаХарактеристики', 'КодХарактеристики']].astype('str')"
   ]
  },
  {
   "cell_type": "markdown",
   "metadata": {},
   "source": [
    "### Справочник Товар - Категория"
   ]
  },
  {
   "cell_type": "code",
   "execution_count": 142,
   "metadata": {},
   "outputs": [
    {
     "data": {
      "text/html": [
       "<div>\n",
       "<style scoped>\n",
       "    .dataframe tbody tr th:only-of-type {\n",
       "        vertical-align: middle;\n",
       "    }\n",
       "\n",
       "    .dataframe tbody tr th {\n",
       "        vertical-align: top;\n",
       "    }\n",
       "\n",
       "    .dataframe thead th {\n",
       "        text-align: right;\n",
       "    }\n",
       "</style>\n",
       "<table border=\"1\" class=\"dataframe\">\n",
       "  <thead>\n",
       "    <tr style=\"text-align: right;\">\n",
       "      <th></th>\n",
       "      <th>КодТовара</th>\n",
       "      <th>КодКатегории</th>\n",
       "    </tr>\n",
       "  </thead>\n",
       "  <tbody>\n",
       "    <tr>\n",
       "      <th>0</th>\n",
       "      <td>142961</td>\n",
       "      <td>AM19415</td>\n",
       "    </tr>\n",
       "    <tr>\n",
       "      <th>1</th>\n",
       "      <td>142962</td>\n",
       "      <td>AM19415</td>\n",
       "    </tr>\n",
       "  </tbody>\n",
       "</table>\n",
       "</div>"
      ],
      "text/plain": [
       "   КодТовара КодКатегории\n",
       "0     142961      AM19415\n",
       "1     142962      AM19415"
      ]
     },
     "execution_count": 142,
     "metadata": {},
     "output_type": "execute_result"
    }
   ],
   "source": [
    "# Чтение данных\n",
    "dim_product = pd.read_csv('data/dim_product.zip')\n",
    "dim_product.head(2)"
   ]
  },
  {
   "cell_type": "code",
   "execution_count": 143,
   "metadata": {},
   "outputs": [
    {
     "name": "stdout",
     "output_type": "stream",
     "text": [
      "<class 'pandas.core.frame.DataFrame'>\n",
      "RangeIndex: 6565 entries, 0 to 6564\n",
      "Data columns (total 2 columns):\n",
      " #   Column        Non-Null Count  Dtype \n",
      "---  ------        --------------  ----- \n",
      " 0   КодТовара     6565 non-null   int64 \n",
      " 1   КодКатегории  6565 non-null   object\n",
      "dtypes: int64(1), object(1)\n",
      "memory usage: 102.7+ KB\n"
     ]
    }
   ],
   "source": [
    "dim_product.info()"
   ]
  },
  {
   "cell_type": "code",
   "execution_count": 144,
   "metadata": {},
   "outputs": [],
   "source": [
    "dim_product['КодТовара'] = dim_product['КодТовара'].astype('str')"
   ]
  },
  {
   "cell_type": "markdown",
   "metadata": {},
   "source": [
    "# 2. Обработка пропусков"
   ]
  },
  {
   "cell_type": "code",
   "execution_count": 145,
   "metadata": {},
   "outputs": [
    {
     "data": {
      "text/plain": [
       "КодТовара                0\n",
       "ВидХарактеристики        0\n",
       "КодВидаХарактеристики    0\n",
       "КодХарактеристики        0\n",
       "Характеристика           7\n",
       "Значимость               0\n",
       "dtype: int64"
      ]
     },
     "execution_count": 145,
     "metadata": {},
     "output_type": "execute_result"
    }
   ],
   "source": [
    "product_specifications.isna().sum()"
   ]
  },
  {
   "cell_type": "markdown",
   "metadata": {},
   "source": [
    "Поскольку сегментация должна происходить по характеристикам, то строки с незаполненными характеристиками нам не интересны, их можно удалить."
   ]
  },
  {
   "cell_type": "code",
   "execution_count": 146,
   "metadata": {},
   "outputs": [
    {
     "name": "stdout",
     "output_type": "stream",
     "text": [
      "Осталось пропусков  0\n"
     ]
    }
   ],
   "source": [
    "product_specifications.dropna(inplace=True)\n",
    "print('Осталось пропусков ', product_specifications.isna().sum().sum())"
   ]
  },
  {
   "cell_type": "markdown",
   "metadata": {},
   "source": [
    "# 3. Базовая модель (baseline)"
   ]
  },
  {
   "cell_type": "markdown",
   "metadata": {},
   "source": [
    "## Обработка признаков для модели"
   ]
  },
  {
   "cell_type": "markdown",
   "metadata": {},
   "source": [
    "### Расстановка итоговых приоритетов"
   ]
  },
  {
   "cell_type": "markdown",
   "metadata": {},
   "source": [
    "Значения приоритетности есть в двух источниках. По просьбе заказчика предпочтительнее использовать рейтинг частоты использования (кликабельность) характеристик в качестве фильтров на сайте. Но там есть не все технические характеристики, а толькор самые основные. Для получения общего рейтинга совместим параметры приоритетности и значимости. Максимум в таблице приоритетов 900, а максимум в таблице значимости 250, поэтому, взяв из них максимум, как раз получим нужный рейтинг с учетом основных и второстепенных характеристик."
   ]
  },
  {
   "cell_type": "code",
   "execution_count": 147,
   "metadata": {},
   "outputs": [
    {
     "data": {
      "text/html": [
       "<div>\n",
       "<style scoped>\n",
       "    .dataframe tbody tr th:only-of-type {\n",
       "        vertical-align: middle;\n",
       "    }\n",
       "\n",
       "    .dataframe tbody tr th {\n",
       "        vertical-align: top;\n",
       "    }\n",
       "\n",
       "    .dataframe thead th {\n",
       "        text-align: right;\n",
       "    }\n",
       "</style>\n",
       "<table border=\"1\" class=\"dataframe\">\n",
       "  <thead>\n",
       "    <tr style=\"text-align: right;\">\n",
       "      <th></th>\n",
       "      <th>КодТовара</th>\n",
       "      <th>ВидХарактеристики</th>\n",
       "      <th>КодВидаХарактеристики</th>\n",
       "      <th>КодХарактеристики</th>\n",
       "      <th>Характеристика</th>\n",
       "      <th>Значимость</th>\n",
       "      <th>ID характеристики</th>\n",
       "      <th>Приоритет</th>\n",
       "      <th>КодКатегории</th>\n",
       "    </tr>\n",
       "  </thead>\n",
       "  <tbody>\n",
       "    <tr>\n",
       "      <th>0</th>\n",
       "      <td>5334213</td>\n",
       "      <td>Наличие фильтра от мелких частиц</td>\n",
       "      <td>13494</td>\n",
       "      <td>163267</td>\n",
       "      <td>есть</td>\n",
       "      <td>200</td>\n",
       "      <td>13494</td>\n",
       "      <td>820.0</td>\n",
       "      <td>AM22962</td>\n",
       "    </tr>\n",
       "    <tr>\n",
       "      <th>1</th>\n",
       "      <td>5334213</td>\n",
       "      <td>Напряжение питания</td>\n",
       "      <td>1205937</td>\n",
       "      <td>60932058</td>\n",
       "      <td>220-240 В / 50 Гц</td>\n",
       "      <td>110</td>\n",
       "      <td>NaN</td>\n",
       "      <td>NaN</td>\n",
       "      <td>AM22962</td>\n",
       "    </tr>\n",
       "  </tbody>\n",
       "</table>\n",
       "</div>"
      ],
      "text/plain": [
       "  КодТовара                 ВидХарактеристики КодВидаХарактеристики  \\\n",
       "0   5334213  Наличие фильтра от мелких частиц                 13494   \n",
       "1   5334213                Напряжение питания               1205937   \n",
       "\n",
       "  КодХарактеристики     Характеристика  Значимость ID характеристики  \\\n",
       "0            163267               есть         200             13494   \n",
       "1          60932058  220-240 В / 50 Гц         110               NaN   \n",
       "\n",
       "   Приоритет КодКатегории  \n",
       "0      820.0      AM22962  \n",
       "1        NaN      AM22962  "
      ]
     },
     "execution_count": 147,
     "metadata": {},
     "output_type": "execute_result"
    }
   ],
   "source": [
    "df_full_priorities = product_specifications.merge(site_priorities[['ID характеристики', 'Приоритет', ]], how='left', left_on='КодВидаХарактеристики', right_on='ID характеристики')\n",
    "df_full_priorities = df_full_priorities.merge(dim_product, how='left', on='КодТовара') # Добавление кода категории\n",
    "df_full_priorities.head(2)"
   ]
  },
  {
   "cell_type": "code",
   "execution_count": 148,
   "metadata": {},
   "outputs": [
    {
     "data": {
      "text/html": [
       "<div>\n",
       "<style scoped>\n",
       "    .dataframe tbody tr th:only-of-type {\n",
       "        vertical-align: middle;\n",
       "    }\n",
       "\n",
       "    .dataframe tbody tr th {\n",
       "        vertical-align: top;\n",
       "    }\n",
       "\n",
       "    .dataframe thead th {\n",
       "        text-align: right;\n",
       "    }\n",
       "</style>\n",
       "<table border=\"1\" class=\"dataframe\">\n",
       "  <thead>\n",
       "    <tr style=\"text-align: right;\">\n",
       "      <th></th>\n",
       "      <th>КодТовара</th>\n",
       "      <th>ВидХарактеристики</th>\n",
       "      <th>КодВидаХарактеристики</th>\n",
       "      <th>КодХарактеристики</th>\n",
       "      <th>Характеристика</th>\n",
       "      <th>КодКатегории</th>\n",
       "      <th>Рейтинг</th>\n",
       "    </tr>\n",
       "  </thead>\n",
       "  <tbody>\n",
       "    <tr>\n",
       "      <th>9284</th>\n",
       "      <td>1125285</td>\n",
       "      <td>Загрузка белья для стирки и отжима</td>\n",
       "      <td>3899</td>\n",
       "      <td>34365</td>\n",
       "      <td>7 кг</td>\n",
       "      <td>AM19415</td>\n",
       "      <td>1.0</td>\n",
       "    </tr>\n",
       "    <tr>\n",
       "      <th>42897</th>\n",
       "      <td>9943095</td>\n",
       "      <td>Загрузка белья для стирки и отжима</td>\n",
       "      <td>3899</td>\n",
       "      <td>34365</td>\n",
       "      <td>7 кг</td>\n",
       "      <td>EY29489</td>\n",
       "      <td>1.0</td>\n",
       "    </tr>\n",
       "    <tr>\n",
       "      <th>42834</th>\n",
       "      <td>9953456</td>\n",
       "      <td>Загрузка белья для стирки и отжима</td>\n",
       "      <td>3899</td>\n",
       "      <td>34368</td>\n",
       "      <td>8 кг</td>\n",
       "      <td>AM19415</td>\n",
       "      <td>1.0</td>\n",
       "    </tr>\n",
       "  </tbody>\n",
       "</table>\n",
       "</div>"
      ],
      "text/plain": [
       "      КодТовара                   ВидХарактеристики КодВидаХарактеристики  \\\n",
       "9284    1125285  Загрузка белья для стирки и отжима                  3899   \n",
       "42897   9943095  Загрузка белья для стирки и отжима                  3899   \n",
       "42834   9953456  Загрузка белья для стирки и отжима                  3899   \n",
       "\n",
       "      КодХарактеристики Характеристика КодКатегории  Рейтинг  \n",
       "9284              34365           7 кг      AM19415      1.0  \n",
       "42897             34365           7 кг      EY29489      1.0  \n",
       "42834             34368           8 кг      AM19415      1.0  "
      ]
     },
     "execution_count": 148,
     "metadata": {},
     "output_type": "execute_result"
    }
   ],
   "source": [
    "df_full_priorities['Рейтинг'] = df_full_priorities[['Значимость', 'Приоритет']].max(axis=1) # выбор максимального значения из двух признаков\n",
    "df_full_priorities['Рейтинг'] = (df_full_priorities['Рейтинг']/df_full_priorities['Рейтинг'].max()).round(2) # Нормирование от 0 до 1\n",
    "df_full_priorities.drop(columns=['Приоритет', 'ID характеристики', 'Значимость'], inplace=True) #Удаление лишних признаков\n",
    "df_full_priorities.sort_values('Рейтинг', ascending=False, inplace=True) # Сортировка по рейтингу\n",
    "df_full_priorities.head(3)"
   ]
  },
  {
   "cell_type": "markdown",
   "metadata": {},
   "source": [
    "### Справочник видов характеристик с приоритетами"
   ]
  },
  {
   "cell_type": "code",
   "execution_count": 149,
   "metadata": {},
   "outputs": [
    {
     "data": {
      "text/html": [
       "<div>\n",
       "<style scoped>\n",
       "    .dataframe tbody tr th:only-of-type {\n",
       "        vertical-align: middle;\n",
       "    }\n",
       "\n",
       "    .dataframe tbody tr th {\n",
       "        vertical-align: top;\n",
       "    }\n",
       "\n",
       "    .dataframe thead th {\n",
       "        text-align: right;\n",
       "    }\n",
       "</style>\n",
       "<table border=\"1\" class=\"dataframe\">\n",
       "  <thead>\n",
       "    <tr style=\"text-align: right;\">\n",
       "      <th></th>\n",
       "      <th>ВидХарактеристики</th>\n",
       "      <th>КодВидаХарактеристики</th>\n",
       "      <th>КодКатегории</th>\n",
       "      <th>Рейтинг</th>\n",
       "    </tr>\n",
       "  </thead>\n",
       "  <tbody>\n",
       "    <tr>\n",
       "      <th>678</th>\n",
       "      <td>Ширина</td>\n",
       "      <td>10355</td>\n",
       "      <td>IW29402</td>\n",
       "      <td>1.0</td>\n",
       "    </tr>\n",
       "    <tr>\n",
       "      <th>226</th>\n",
       "      <td>Загрузка белья для стирки и отжима</td>\n",
       "      <td>3899</td>\n",
       "      <td>EY29489</td>\n",
       "      <td>1.0</td>\n",
       "    </tr>\n",
       "    <tr>\n",
       "      <th>223</th>\n",
       "      <td>Загрузка белья для стирки и отжима</td>\n",
       "      <td>3899</td>\n",
       "      <td>AM19415</td>\n",
       "      <td>1.0</td>\n",
       "    </tr>\n",
       "  </tbody>\n",
       "</table>\n",
       "</div>"
      ],
      "text/plain": [
       "                      ВидХарактеристики КодВидаХарактеристики КодКатегории  \\\n",
       "678                              Ширина                 10355      IW29402   \n",
       "226  Загрузка белья для стирки и отжима                  3899      EY29489   \n",
       "223  Загрузка белья для стирки и отжима                  3899      AM19415   \n",
       "\n",
       "     Рейтинг  \n",
       "678      1.0  \n",
       "226      1.0  \n",
       "223      1.0  "
      ]
     },
     "execution_count": 149,
     "metadata": {},
     "output_type": "execute_result"
    }
   ],
   "source": [
    "dim_view = df_full_priorities[['ВидХарактеристики', 'КодВидаХарактеристики', 'Рейтинг', 'КодКатегории']].groupby(\n",
    "    by= ['ВидХарактеристики', 'КодВидаХарактеристики', 'КодКатегории']).mean().reset_index().sort_values('Рейтинг', ascending=False)\n",
    "\n",
    "dim_view.head(3)"
   ]
  },
  {
   "cell_type": "markdown",
   "metadata": {},
   "source": [
    "### Выбор категории"
   ]
  },
  {
   "cell_type": "code",
   "execution_count": 150,
   "metadata": {},
   "outputs": [
    {
     "data": {
      "text/plain": [
       "'AM19415'"
      ]
     },
     "execution_count": 150,
     "metadata": {},
     "output_type": "execute_result"
    }
   ],
   "source": [
    "# Сегментацию нужно строить внутри категории, выберу одну категорию\n",
    "category = df_full_priorities['КодКатегории'].iloc[0]\n",
    "category"
   ]
  },
  {
   "cell_type": "code",
   "execution_count": 151,
   "metadata": {},
   "outputs": [],
   "source": [
    "df_category = df_full_priorities[df_full_priorities['КодКатегории']==category]\n",
    "# df_category.nunique() # Количество уникалных значений всех признаков"
   ]
  },
  {
   "cell_type": "markdown",
   "metadata": {},
   "source": [
    "### Преобразование к виду для модели"
   ]
  },
  {
   "cell_type": "code",
   "execution_count": 152,
   "metadata": {},
   "outputs": [
    {
     "data": {
      "text/html": [
       "<div>\n",
       "<style scoped>\n",
       "    .dataframe tbody tr th:only-of-type {\n",
       "        vertical-align: middle;\n",
       "    }\n",
       "\n",
       "    .dataframe tbody tr th {\n",
       "        vertical-align: top;\n",
       "    }\n",
       "\n",
       "    .dataframe thead th {\n",
       "        text-align: right;\n",
       "    }\n",
       "</style>\n",
       "<table border=\"1\" class=\"dataframe\">\n",
       "  <thead>\n",
       "    <tr style=\"text-align: right;\">\n",
       "      <th>ВидХарактеристики</th>\n",
       "      <th>Автобаланс</th>\n",
       "      <th>Автовзвешивание</th>\n",
       "      <th>Активатор</th>\n",
       "      <th>Бак для воды</th>\n",
       "      <th>Блокировка от детей</th>\n",
       "      <th>Вес в упаковке</th>\n",
       "      <th>Вес стиральной машины</th>\n",
       "      <th>Вид</th>\n",
       "      <th>Возможность установки в колонну</th>\n",
       "      <th>Возможность установки под столешницу</th>\n",
       "      <th>...</th>\n",
       "      <th>Тип</th>\n",
       "      <th>Тип загрузки</th>\n",
       "      <th>Тип управления</th>\n",
       "      <th>Угол открывания люка</th>\n",
       "      <th>Управление со смартфона</th>\n",
       "      <th>Уровень шума при отжиме</th>\n",
       "      <th>Уровень шума при стирке</th>\n",
       "      <th>Функциональные особенности</th>\n",
       "      <th>Ширина</th>\n",
       "      <th>Язык панели управления</th>\n",
       "    </tr>\n",
       "    <tr>\n",
       "      <th>КодТовара</th>\n",
       "      <th></th>\n",
       "      <th></th>\n",
       "      <th></th>\n",
       "      <th></th>\n",
       "      <th></th>\n",
       "      <th></th>\n",
       "      <th></th>\n",
       "      <th></th>\n",
       "      <th></th>\n",
       "      <th></th>\n",
       "      <th></th>\n",
       "      <th></th>\n",
       "      <th></th>\n",
       "      <th></th>\n",
       "      <th></th>\n",
       "      <th></th>\n",
       "      <th></th>\n",
       "      <th></th>\n",
       "      <th></th>\n",
       "      <th></th>\n",
       "      <th></th>\n",
       "    </tr>\n",
       "  </thead>\n",
       "  <tbody>\n",
       "    <tr>\n",
       "      <th>1027919</th>\n",
       "      <td>есть</td>\n",
       "      <td>есть</td>\n",
       "      <td>нет</td>\n",
       "      <td>нет</td>\n",
       "      <td>есть</td>\n",
       "      <td>57 кг</td>\n",
       "      <td>54 кг</td>\n",
       "      <td>автомат</td>\n",
       "      <td>нет</td>\n",
       "      <td>нет</td>\n",
       "      <td>...</td>\n",
       "      <td>стиральная машина</td>\n",
       "      <td>фронтальная</td>\n",
       "      <td>поворотный механизм, кнопочное</td>\n",
       "      <td>NaN</td>\n",
       "      <td>нет</td>\n",
       "      <td>76 дБ</td>\n",
       "      <td>61 дБ</td>\n",
       "      <td>самодиагностика</td>\n",
       "      <td>60 см</td>\n",
       "      <td>русский</td>\n",
       "    </tr>\n",
       "    <tr>\n",
       "      <th>1029567</th>\n",
       "      <td>есть</td>\n",
       "      <td>нет</td>\n",
       "      <td>нет</td>\n",
       "      <td>нет</td>\n",
       "      <td>есть</td>\n",
       "      <td>64 кг</td>\n",
       "      <td>62 кг</td>\n",
       "      <td>автомат</td>\n",
       "      <td>нет</td>\n",
       "      <td>нет</td>\n",
       "      <td>...</td>\n",
       "      <td>стиральная машина</td>\n",
       "      <td>фронтальная</td>\n",
       "      <td>поворотный механизм, кнопочное</td>\n",
       "      <td>NaN</td>\n",
       "      <td>нет</td>\n",
       "      <td>68 дБ</td>\n",
       "      <td>59 дБ</td>\n",
       "      <td>дозагрузка белья, самодиагностика</td>\n",
       "      <td>59.6 см</td>\n",
       "      <td>русский</td>\n",
       "    </tr>\n",
       "    <tr>\n",
       "      <th>1030107</th>\n",
       "      <td>есть</td>\n",
       "      <td>есть</td>\n",
       "      <td>нет</td>\n",
       "      <td>нет</td>\n",
       "      <td>есть</td>\n",
       "      <td>62 кг</td>\n",
       "      <td>59 кг</td>\n",
       "      <td>автомат</td>\n",
       "      <td>нет</td>\n",
       "      <td>нет</td>\n",
       "      <td>...</td>\n",
       "      <td>стиральная машина</td>\n",
       "      <td>фронтальная</td>\n",
       "      <td>поворотный механизм, кнопочное</td>\n",
       "      <td>NaN</td>\n",
       "      <td>нет</td>\n",
       "      <td>76 дБ</td>\n",
       "      <td>55 дБ</td>\n",
       "      <td>самодиагностика, обработка паром</td>\n",
       "      <td>60 см</td>\n",
       "      <td>русский</td>\n",
       "    </tr>\n",
       "  </tbody>\n",
       "</table>\n",
       "<p>3 rows × 66 columns</p>\n",
       "</div>"
      ],
      "text/plain": [
       "ВидХарактеристики Автобаланс Автовзвешивание Активатор Бак для воды  \\\n",
       "КодТовара                                                             \n",
       "1027919                 есть            есть       нет          нет   \n",
       "1029567                 есть             нет       нет          нет   \n",
       "1030107                 есть            есть       нет          нет   \n",
       "\n",
       "ВидХарактеристики Блокировка от детей Вес в упаковке Вес стиральной машины  \\\n",
       "КодТовара                                                                    \n",
       "1027919                          есть          57 кг                 54 кг   \n",
       "1029567                          есть          64 кг                 62 кг   \n",
       "1030107                          есть          62 кг                 59 кг   \n",
       "\n",
       "ВидХарактеристики      Вид Возможность установки в колонну  \\\n",
       "КодТовара                                                    \n",
       "1027919            автомат                             нет   \n",
       "1029567            автомат                             нет   \n",
       "1030107            автомат                             нет   \n",
       "\n",
       "ВидХарактеристики Возможность установки под столешницу  ...  \\\n",
       "КодТовара                                               ...   \n",
       "1027919                                            нет  ...   \n",
       "1029567                                            нет  ...   \n",
       "1030107                                            нет  ...   \n",
       "\n",
       "ВидХарактеристики                Тип Тип загрузки  \\\n",
       "КодТовара                                           \n",
       "1027919            стиральная машина  фронтальная   \n",
       "1029567            стиральная машина  фронтальная   \n",
       "1030107            стиральная машина  фронтальная   \n",
       "\n",
       "ВидХарактеристики                  Тип управления Угол открывания люка  \\\n",
       "КодТовара                                                                \n",
       "1027919            поворотный механизм, кнопочное                  NaN   \n",
       "1029567            поворотный механизм, кнопочное                  NaN   \n",
       "1030107            поворотный механизм, кнопочное                  NaN   \n",
       "\n",
       "ВидХарактеристики Управление со смартфона Уровень шума при отжиме  \\\n",
       "КодТовара                                                           \n",
       "1027919                               нет                   76 дБ   \n",
       "1029567                               нет                   68 дБ   \n",
       "1030107                               нет                   76 дБ   \n",
       "\n",
       "ВидХарактеристики Уровень шума при стирке         Функциональные особенности  \\\n",
       "КодТовара                                                                      \n",
       "1027919                             61 дБ                    самодиагностика   \n",
       "1029567                             59 дБ  дозагрузка белья, самодиагностика   \n",
       "1030107                             55 дБ   самодиагностика, обработка паром   \n",
       "\n",
       "ВидХарактеристики   Ширина Язык панели управления  \n",
       "КодТовара                                          \n",
       "1027919              60 см                русский  \n",
       "1029567            59.6 см                русский  \n",
       "1030107              60 см                русский  \n",
       "\n",
       "[3 rows x 66 columns]"
      ]
     },
     "execution_count": 152,
     "metadata": {},
     "output_type": "execute_result"
    }
   ],
   "source": [
    "df_matrix_text = df_category.pivot_table(\n",
    "        values='Характеристика',\n",
    "        index='КодТовара',\n",
    "        columns='ВидХарактеристики',\n",
    "        aggfunc=lambda x: ', '.join(x)\n",
    "    )\n",
    "df_matrix_text.head(3)"
   ]
  },
  {
   "cell_type": "code",
   "execution_count": 154,
   "metadata": {},
   "outputs": [
    {
     "name": "stdout",
     "output_type": "stream",
     "text": [
      "Всего пропусков:  5193\n"
     ]
    }
   ],
   "source": [
    "# Проверка на пропуски\n",
    "print('Всего пропусков: ', df_matrix_text.isna().sum().sum())"
   ]
  },
  {
   "cell_type": "markdown",
   "metadata": {},
   "source": [
    "#### Обработка пропусков"
   ]
  },
  {
   "cell_type": "code",
   "execution_count": 155,
   "metadata": {},
   "outputs": [
    {
     "data": {
      "text/plain": [
       "ВидХарактеристики\n",
       "Парковка барабана                                   99.385246\n",
       "Код производителя                                   90.368852\n",
       "Совместимый соединительный элемент                  87.704918\n",
       "Совместимая сушильная машина для сбора в колонну    87.090164\n",
       "Угол открывания люка                                72.131148\n",
       "                                                      ...    \n",
       "Загрузка белья для стирки и отжима                   0.000000\n",
       "Дисплей                                              0.000000\n",
       "Модель                                               0.000000\n",
       "Ширина                                               0.000000\n",
       "Основной цвет                                        0.000000\n",
       "Length: 66, dtype: float64"
      ]
     },
     "execution_count": 155,
     "metadata": {},
     "output_type": "execute_result"
    }
   ],
   "source": [
    "# Определяем долю пропусков в столбце\n",
    "missing_values = df_matrix_text.isna().sum() / len(df_matrix_text) * 100\n",
    "missing_values_sorted = missing_values.sort_values(ascending=False)\n",
    "missing_values_sorted"
   ]
  },
  {
   "cell_type": "code",
   "execution_count": 156,
   "metadata": {},
   "outputs": [
    {
     "name": "stdout",
     "output_type": "stream",
     "text": [
      "Удалено 13 столбцов с высокими пропусками\n",
      "\n",
      "ВидХарактеристики\n",
      "Парковка барабана                                   99.385246\n",
      "Код производителя                                   90.368852\n",
      "Совместимый соединительный элемент                  87.704918\n",
      "Совместимая сушильная машина для сбора в колонну    87.090164\n",
      "Угол открывания люка                                72.131148\n",
      "Глубина с открытой дверцей                          63.729508\n",
      "Потребляемая мощность в спящем режиме               59.631148\n",
      "Диаметр загрузочного люка                           56.762295\n",
      "Возможность установки в колонну                     54.508197\n",
      "Глубина с учетом выступающих элементов              47.745902\n",
      "Защита от скачков напряжения                        42.827869\n",
      "Автобаланс                                          26.024590\n",
      "Возможность установки под столешницу                23.155738\n",
      "dtype: float64\n"
     ]
    }
   ],
   "source": [
    "# Столбцы превышающие порог пропусков 0.8 удаляем\n",
    "Columns_to_delete = list(missing_values_sorted[missing_values_sorted > 20].index) # Столбцы к удалению\n",
    "print(f'Удалено {len(Columns_to_delete)} столбцов с высокими пропусками')\n",
    "print()\n",
    "print(missing_values_sorted[missing_values_sorted > 20])\n",
    "# print('--------------------------')\n",
    "df_matrix_text.drop(columns = Columns_to_delete, inplace=True)   "
   ]
  },
  {
   "cell_type": "code",
   "execution_count": 157,
   "metadata": {},
   "outputs": [
    {
     "name": "stdout",
     "output_type": "stream",
     "text": [
      "Пропусков после обработки =  0\n",
      "--------------------------\n"
     ]
    }
   ],
   "source": [
    "# Заполнение пропусков (модой)\n",
    "df_matrix_text_nonnull = df_matrix_text.fillna(df_matrix_text.mode().iloc[0]) # Мода\n",
    "пропуски_после = df_matrix_text_nonnull.isna().sum().sum()\n",
    "print('Пропусков после обработки = ', пропуски_после)\n",
    "print('--------------------------')\n",
    "df_text_copy = df_matrix_text_nonnull.copy()"
   ]
  },
  {
   "cell_type": "markdown",
   "metadata": {},
   "source": [
    "### Преобразование в числовые признаки"
   ]
  },
  {
   "cell_type": "code",
   "execution_count": 158,
   "metadata": {},
   "outputs": [
    {
     "name": "stdout",
     "output_type": "stream",
     "text": [
      "Получено новых столбцов:  3219\n"
     ]
    },
    {
     "data": {
      "text/html": [
       "<div>\n",
       "<style scoped>\n",
       "    .dataframe tbody tr th:only-of-type {\n",
       "        vertical-align: middle;\n",
       "    }\n",
       "\n",
       "    .dataframe tbody tr th {\n",
       "        vertical-align: top;\n",
       "    }\n",
       "\n",
       "    .dataframe thead th {\n",
       "        text-align: right;\n",
       "    }\n",
       "</style>\n",
       "<table border=\"1\" class=\"dataframe\">\n",
       "  <thead>\n",
       "    <tr style=\"text-align: right;\">\n",
       "      <th></th>\n",
       "      <th>Автовзвешивание_есть</th>\n",
       "      <th>Автовзвешивание_нет</th>\n",
       "      <th>Активатор_нет</th>\n",
       "      <th>Бак для воды_есть</th>\n",
       "      <th>Бак для воды_нет</th>\n",
       "      <th>Блокировка от детей_есть</th>\n",
       "      <th>Блокировка от детей_нет</th>\n",
       "      <th>Вес в упаковке_106 кг</th>\n",
       "      <th>Вес в упаковке_22.66 кг</th>\n",
       "      <th>Вес в упаковке_49 кг</th>\n",
       "      <th>...</th>\n",
       "      <th>Ширина_59.6 см</th>\n",
       "      <th>Ширина_59.7 см</th>\n",
       "      <th>Ширина_59.8 см</th>\n",
       "      <th>Ширина_60 см</th>\n",
       "      <th>Ширина_70.1 см</th>\n",
       "      <th>Язык панели управления_английский</th>\n",
       "      <th>Язык панели управления_румынский</th>\n",
       "      <th>Язык панели управления_русский</th>\n",
       "      <th>Язык панели управления_русский + язык на выбор</th>\n",
       "      <th>Язык панели управления_хинди, английский</th>\n",
       "    </tr>\n",
       "    <tr>\n",
       "      <th>КодТовара</th>\n",
       "      <th></th>\n",
       "      <th></th>\n",
       "      <th></th>\n",
       "      <th></th>\n",
       "      <th></th>\n",
       "      <th></th>\n",
       "      <th></th>\n",
       "      <th></th>\n",
       "      <th></th>\n",
       "      <th></th>\n",
       "      <th></th>\n",
       "      <th></th>\n",
       "      <th></th>\n",
       "      <th></th>\n",
       "      <th></th>\n",
       "      <th></th>\n",
       "      <th></th>\n",
       "      <th></th>\n",
       "      <th></th>\n",
       "      <th></th>\n",
       "      <th></th>\n",
       "    </tr>\n",
       "  </thead>\n",
       "  <tbody>\n",
       "    <tr>\n",
       "      <th>1027919</th>\n",
       "      <td>1</td>\n",
       "      <td>0</td>\n",
       "      <td>1</td>\n",
       "      <td>0</td>\n",
       "      <td>1</td>\n",
       "      <td>1</td>\n",
       "      <td>0</td>\n",
       "      <td>0</td>\n",
       "      <td>0</td>\n",
       "      <td>0</td>\n",
       "      <td>...</td>\n",
       "      <td>0</td>\n",
       "      <td>0</td>\n",
       "      <td>0</td>\n",
       "      <td>1</td>\n",
       "      <td>0</td>\n",
       "      <td>0</td>\n",
       "      <td>0</td>\n",
       "      <td>1</td>\n",
       "      <td>0</td>\n",
       "      <td>0</td>\n",
       "    </tr>\n",
       "    <tr>\n",
       "      <th>1029567</th>\n",
       "      <td>0</td>\n",
       "      <td>1</td>\n",
       "      <td>1</td>\n",
       "      <td>0</td>\n",
       "      <td>1</td>\n",
       "      <td>1</td>\n",
       "      <td>0</td>\n",
       "      <td>0</td>\n",
       "      <td>0</td>\n",
       "      <td>0</td>\n",
       "      <td>...</td>\n",
       "      <td>1</td>\n",
       "      <td>0</td>\n",
       "      <td>0</td>\n",
       "      <td>0</td>\n",
       "      <td>0</td>\n",
       "      <td>0</td>\n",
       "      <td>0</td>\n",
       "      <td>1</td>\n",
       "      <td>0</td>\n",
       "      <td>0</td>\n",
       "    </tr>\n",
       "    <tr>\n",
       "      <th>1030107</th>\n",
       "      <td>1</td>\n",
       "      <td>0</td>\n",
       "      <td>1</td>\n",
       "      <td>0</td>\n",
       "      <td>1</td>\n",
       "      <td>1</td>\n",
       "      <td>0</td>\n",
       "      <td>0</td>\n",
       "      <td>0</td>\n",
       "      <td>0</td>\n",
       "      <td>...</td>\n",
       "      <td>0</td>\n",
       "      <td>0</td>\n",
       "      <td>0</td>\n",
       "      <td>1</td>\n",
       "      <td>0</td>\n",
       "      <td>0</td>\n",
       "      <td>0</td>\n",
       "      <td>1</td>\n",
       "      <td>0</td>\n",
       "      <td>0</td>\n",
       "    </tr>\n",
       "    <tr>\n",
       "      <th>1035880</th>\n",
       "      <td>1</td>\n",
       "      <td>0</td>\n",
       "      <td>1</td>\n",
       "      <td>0</td>\n",
       "      <td>1</td>\n",
       "      <td>1</td>\n",
       "      <td>0</td>\n",
       "      <td>0</td>\n",
       "      <td>0</td>\n",
       "      <td>0</td>\n",
       "      <td>...</td>\n",
       "      <td>0</td>\n",
       "      <td>0</td>\n",
       "      <td>0</td>\n",
       "      <td>0</td>\n",
       "      <td>0</td>\n",
       "      <td>0</td>\n",
       "      <td>0</td>\n",
       "      <td>1</td>\n",
       "      <td>0</td>\n",
       "      <td>0</td>\n",
       "    </tr>\n",
       "    <tr>\n",
       "      <th>1048714</th>\n",
       "      <td>1</td>\n",
       "      <td>0</td>\n",
       "      <td>1</td>\n",
       "      <td>0</td>\n",
       "      <td>1</td>\n",
       "      <td>0</td>\n",
       "      <td>1</td>\n",
       "      <td>0</td>\n",
       "      <td>0</td>\n",
       "      <td>0</td>\n",
       "      <td>...</td>\n",
       "      <td>0</td>\n",
       "      <td>0</td>\n",
       "      <td>0</td>\n",
       "      <td>0</td>\n",
       "      <td>0</td>\n",
       "      <td>0</td>\n",
       "      <td>0</td>\n",
       "      <td>1</td>\n",
       "      <td>0</td>\n",
       "      <td>0</td>\n",
       "    </tr>\n",
       "  </tbody>\n",
       "</table>\n",
       "<p>5 rows × 3219 columns</p>\n",
       "</div>"
      ],
      "text/plain": [
       "           Автовзвешивание_есть  Автовзвешивание_нет  Активатор_нет  \\\n",
       "КодТовара                                                             \n",
       "1027919                       1                    0              1   \n",
       "1029567                       0                    1              1   \n",
       "1030107                       1                    0              1   \n",
       "1035880                       1                    0              1   \n",
       "1048714                       1                    0              1   \n",
       "\n",
       "           Бак для воды_есть  Бак для воды_нет  Блокировка от детей_есть  \\\n",
       "КодТовара                                                                  \n",
       "1027919                    0                 1                         1   \n",
       "1029567                    0                 1                         1   \n",
       "1030107                    0                 1                         1   \n",
       "1035880                    0                 1                         1   \n",
       "1048714                    0                 1                         0   \n",
       "\n",
       "           Блокировка от детей_нет  Вес в упаковке_106 кг  \\\n",
       "КодТовара                                                   \n",
       "1027919                          0                      0   \n",
       "1029567                          0                      0   \n",
       "1030107                          0                      0   \n",
       "1035880                          0                      0   \n",
       "1048714                          1                      0   \n",
       "\n",
       "           Вес в упаковке_22.66 кг  Вес в упаковке_49 кг  ...  Ширина_59.6 см  \\\n",
       "КодТовара                                                 ...                   \n",
       "1027919                          0                     0  ...               0   \n",
       "1029567                          0                     0  ...               1   \n",
       "1030107                          0                     0  ...               0   \n",
       "1035880                          0                     0  ...               0   \n",
       "1048714                          0                     0  ...               0   \n",
       "\n",
       "           Ширина_59.7 см  Ширина_59.8 см  Ширина_60 см  Ширина_70.1 см  \\\n",
       "КодТовара                                                                 \n",
       "1027919                 0               0             1               0   \n",
       "1029567                 0               0             0               0   \n",
       "1030107                 0               0             1               0   \n",
       "1035880                 0               0             0               0   \n",
       "1048714                 0               0             0               0   \n",
       "\n",
       "           Язык панели управления_английский  \\\n",
       "КодТовара                                      \n",
       "1027919                                    0   \n",
       "1029567                                    0   \n",
       "1030107                                    0   \n",
       "1035880                                    0   \n",
       "1048714                                    0   \n",
       "\n",
       "           Язык панели управления_румынский  Язык панели управления_русский  \\\n",
       "КодТовара                                                                     \n",
       "1027919                                   0                               1   \n",
       "1029567                                   0                               1   \n",
       "1030107                                   0                               1   \n",
       "1035880                                   0                               1   \n",
       "1048714                                   0                               1   \n",
       "\n",
       "           Язык панели управления_русский + язык на выбор  \\\n",
       "КодТовара                                                   \n",
       "1027919                                                 0   \n",
       "1029567                                                 0   \n",
       "1030107                                                 0   \n",
       "1035880                                                 0   \n",
       "1048714                                                 0   \n",
       "\n",
       "           Язык панели управления_хинди, английский  \n",
       "КодТовара                                            \n",
       "1027919                                           0  \n",
       "1029567                                           0  \n",
       "1030107                                           0  \n",
       "1035880                                           0  \n",
       "1048714                                           0  \n",
       "\n",
       "[5 rows x 3219 columns]"
      ]
     },
     "metadata": {},
     "output_type": "display_data"
    }
   ],
   "source": [
    "df_numeric = pd.get_dummies(df_matrix_text_nonnull, columns= df_matrix_text_nonnull.columns, dtype=int)\n",
    "\n",
    "print('Получено новых столбцов: ', df_numeric.shape[1])\n",
    "display(df_numeric.head())"
   ]
  },
  {
   "cell_type": "markdown",
   "metadata": {},
   "source": [
    "### Модель AgglomerativeClustering"
   ]
  },
  {
   "cell_type": "code",
   "execution_count": 159,
   "metadata": {},
   "outputs": [
    {
     "data": {
      "text/plain": [
       "array([0, 6, 5, 0, 0, 0, 0, 0, 0, 7, 7, 7, 7, 0, 5, 6, 6, 6, 6, 6, 6, 6,\n",
       "       7, 2, 4, 4, 7, 4, 2, 7, 7, 0, 0, 0, 3, 0, 6, 6, 0, 7, 0, 3, 4, 7,\n",
       "       4, 5, 5, 4, 2, 5, 0, 5, 5, 5, 5, 0, 0, 0, 5, 2, 5, 5, 0, 2, 2, 3,\n",
       "       2, 2, 2, 2, 2, 2, 0, 2, 5, 5, 2, 2, 2, 5, 3, 0, 0, 5, 1, 7, 7, 7,\n",
       "       2, 2, 2, 0, 0, 1, 5, 2, 5, 5, 2, 1, 1, 1, 2, 4, 2, 2, 0, 2, 1, 1,\n",
       "       1, 1, 0, 0, 5, 1, 1, 1, 1, 3, 3, 3, 3, 5, 1, 4, 7, 7, 7, 7, 3, 3,\n",
       "       2, 2, 2, 2, 8, 5, 2, 1, 1, 2, 2, 5, 5, 0, 5, 5, 1, 2, 2, 5, 5, 5,\n",
       "       1, 5, 5, 5, 5, 5, 2, 5, 1, 1, 5, 1, 1, 3, 3, 3, 3, 9, 9, 9, 9, 9,\n",
       "       9, 3, 2, 5, 0, 1, 1, 1, 3, 4, 4, 4, 5, 5, 5, 0, 0, 2, 2, 2, 2, 2,\n",
       "       2, 2, 2, 3, 3, 3, 3, 3, 3, 0, 0, 0, 3, 0, 2, 3, 4, 4, 2, 2, 2, 2,\n",
       "       2, 2, 2, 4, 3, 1, 1, 1, 2, 2, 3, 2, 2, 0, 0, 0, 0, 2, 2, 4, 3, 3,\n",
       "       3, 8, 8, 8, 2, 8, 8, 8, 2, 2, 2, 2, 2, 1, 2, 2, 2, 2, 2, 2, 2, 2,\n",
       "       1, 1, 1, 1, 1, 1, 1, 2, 2, 2, 2, 2, 1, 2, 1, 8, 8, 1, 1, 5, 2, 2,\n",
       "       2, 2, 2, 2, 5, 2, 5, 1, 1, 1, 5, 1, 1, 1, 1, 1, 1, 1, 1, 1, 2, 3,\n",
       "       3, 5, 8, 8, 8, 8, 3, 3, 1, 1, 1, 1, 1, 1, 2, 2, 4, 4, 4, 0, 0, 7,\n",
       "       1, 7, 7, 7, 3, 0, 0, 7, 6, 7, 3, 5, 6, 6, 0, 2, 2, 0, 6, 2, 3, 3,\n",
       "       5, 2, 2, 2, 2, 0, 2, 2, 2, 0, 0, 0, 0, 2, 2, 2, 2, 2, 0, 5, 0, 1,\n",
       "       3, 2, 7, 2, 7, 0, 4, 4, 2, 2, 2, 2, 2, 5, 5, 5, 5, 5, 6, 7, 2, 9,\n",
       "       9, 9, 9, 9, 1, 2, 2, 0, 8, 8, 8, 3, 3, 3, 0, 2, 0, 6, 6, 6, 2, 2,\n",
       "       2, 2, 5, 5, 5, 5, 3, 0, 0, 5, 5, 5, 0, 2, 0, 2, 2, 1, 2, 2, 2, 2,\n",
       "       2, 2, 2, 2, 2, 2, 2, 2, 3, 2, 2, 2, 2, 0, 0, 0, 2, 0, 0, 0, 0, 0,\n",
       "       0, 0, 0, 0, 0, 0, 0, 0, 0, 0, 0, 0, 0, 0, 0, 0, 2, 2, 2, 2, 2, 1,\n",
       "       1, 1, 2, 2], dtype=int64)"
      ]
     },
     "execution_count": 159,
     "metadata": {},
     "output_type": "execute_result"
    }
   ],
   "source": [
    "X = df_numeric\n",
    "\n",
    "agglomerative_clustering = AgglomerativeClustering(n_clusters=10)\n",
    "agglomerative_clustering.fit(X)\n",
    "agglomerative_clustering.labels_"
   ]
  },
  {
   "cell_type": "code",
   "execution_count": 160,
   "metadata": {},
   "outputs": [
    {
     "data": {
      "image/png": "[encoded data removed]",
      "text/plain": [
       "<Figure size 1000x700 with 1 Axes>"
      ]
     },
     "metadata": {},
     "output_type": "display_data"
    }
   ],
   "source": [
    "# визуализация дендрограммы\n",
    "linked = linkage(X, 'single')\n",
    "plt.figure(figsize=(10, 7))\n",
    "\n",
    "dendrogram(linked,\n",
    "            orientation='top',\n",
    "            labels=agglomerative_clustering.labels_,\n",
    "            distance_sort='descending',\n",
    "            show_leaf_counts=True)\n",
    "\n",
    "plt.show()"
   ]
  },
  {
   "cell_type": "code",
   "execution_count": 161,
   "metadata": {},
   "outputs": [
    {
     "data": {
      "text/html": [
       "<div>\n",
       "<style scoped>\n",
       "    .dataframe tbody tr th:only-of-type {\n",
       "        vertical-align: middle;\n",
       "    }\n",
       "\n",
       "    .dataframe tbody tr th {\n",
       "        vertical-align: top;\n",
       "    }\n",
       "\n",
       "    .dataframe thead th {\n",
       "        text-align: right;\n",
       "    }\n",
       "</style>\n",
       "<table border=\"1\" class=\"dataframe\">\n",
       "  <thead>\n",
       "    <tr style=\"text-align: right;\">\n",
       "      <th>ВидХарактеристики</th>\n",
       "      <th>Автовзвешивание</th>\n",
       "      <th>Активатор</th>\n",
       "      <th>Бак для воды</th>\n",
       "      <th>Блокировка от детей</th>\n",
       "      <th>Вес в упаковке</th>\n",
       "      <th>Вес стиральной машины</th>\n",
       "      <th>Вид</th>\n",
       "      <th>Выбор скорости отжима</th>\n",
       "      <th>Высота</th>\n",
       "      <th>Габариты в упаковке (ШxВxГ)</th>\n",
       "      <th>...</th>\n",
       "      <th>Тип</th>\n",
       "      <th>Тип загрузки</th>\n",
       "      <th>Тип управления</th>\n",
       "      <th>Управление со смартфона</th>\n",
       "      <th>Уровень шума при отжиме</th>\n",
       "      <th>Уровень шума при стирке</th>\n",
       "      <th>Функциональные особенности</th>\n",
       "      <th>Ширина</th>\n",
       "      <th>Язык панели управления</th>\n",
       "      <th>Сегмент</th>\n",
       "    </tr>\n",
       "    <tr>\n",
       "      <th>КодТовара</th>\n",
       "      <th></th>\n",
       "      <th></th>\n",
       "      <th></th>\n",
       "      <th></th>\n",
       "      <th></th>\n",
       "      <th></th>\n",
       "      <th></th>\n",
       "      <th></th>\n",
       "      <th></th>\n",
       "      <th></th>\n",
       "      <th></th>\n",
       "      <th></th>\n",
       "      <th></th>\n",
       "      <th></th>\n",
       "      <th></th>\n",
       "      <th></th>\n",
       "      <th></th>\n",
       "      <th></th>\n",
       "      <th></th>\n",
       "      <th></th>\n",
       "      <th></th>\n",
       "    </tr>\n",
       "  </thead>\n",
       "  <tbody>\n",
       "    <tr>\n",
       "      <th>1027919</th>\n",
       "      <td>есть</td>\n",
       "      <td>нет</td>\n",
       "      <td>нет</td>\n",
       "      <td>есть</td>\n",
       "      <td>57 кг</td>\n",
       "      <td>54 кг</td>\n",
       "      <td>автомат</td>\n",
       "      <td>есть</td>\n",
       "      <td>85 см</td>\n",
       "      <td>65x88x54 см</td>\n",
       "      <td>...</td>\n",
       "      <td>стиральная машина</td>\n",
       "      <td>фронтальная</td>\n",
       "      <td>поворотный механизм, кнопочное</td>\n",
       "      <td>нет</td>\n",
       "      <td>76 дБ</td>\n",
       "      <td>61 дБ</td>\n",
       "      <td>самодиагностика</td>\n",
       "      <td>60 см</td>\n",
       "      <td>русский</td>\n",
       "      <td>0</td>\n",
       "    </tr>\n",
       "    <tr>\n",
       "      <th>1029567</th>\n",
       "      <td>нет</td>\n",
       "      <td>нет</td>\n",
       "      <td>нет</td>\n",
       "      <td>есть</td>\n",
       "      <td>64 кг</td>\n",
       "      <td>62 кг</td>\n",
       "      <td>автомат</td>\n",
       "      <td>есть</td>\n",
       "      <td>84.6 см</td>\n",
       "      <td>64.2х87.5х53.5 см</td>\n",
       "      <td>...</td>\n",
       "      <td>стиральная машина</td>\n",
       "      <td>фронтальная</td>\n",
       "      <td>поворотный механизм, кнопочное</td>\n",
       "      <td>нет</td>\n",
       "      <td>68 дБ</td>\n",
       "      <td>59 дБ</td>\n",
       "      <td>дозагрузка белья, самодиагностика</td>\n",
       "      <td>59.6 см</td>\n",
       "      <td>русский</td>\n",
       "      <td>6</td>\n",
       "    </tr>\n",
       "  </tbody>\n",
       "</table>\n",
       "<p>2 rows × 54 columns</p>\n",
       "</div>"
      ],
      "text/plain": [
       "ВидХарактеристики Автовзвешивание Активатор Бак для воды Блокировка от детей  \\\n",
       "КодТовара                                                                      \n",
       "1027919                      есть       нет          нет                есть   \n",
       "1029567                       нет       нет          нет                есть   \n",
       "\n",
       "ВидХарактеристики Вес в упаковке Вес стиральной машины      Вид  \\\n",
       "КодТовара                                                         \n",
       "1027919                    57 кг                 54 кг  автомат   \n",
       "1029567                    64 кг                 62 кг  автомат   \n",
       "\n",
       "ВидХарактеристики Выбор скорости отжима   Высота Габариты в упаковке (ШxВxГ)  \\\n",
       "КодТовара                                                                      \n",
       "1027919                            есть    85 см                 65x88x54 см   \n",
       "1029567                            есть  84.6 см           64.2х87.5х53.5 см   \n",
       "\n",
       "ВидХарактеристики  ...                Тип Тип загрузки  \\\n",
       "КодТовара          ...                                   \n",
       "1027919            ...  стиральная машина  фронтальная   \n",
       "1029567            ...  стиральная машина  фронтальная   \n",
       "\n",
       "ВидХарактеристики                  Тип управления Управление со смартфона  \\\n",
       "КодТовара                                                                   \n",
       "1027919            поворотный механизм, кнопочное                     нет   \n",
       "1029567            поворотный механизм, кнопочное                     нет   \n",
       "\n",
       "ВидХарактеристики Уровень шума при отжиме Уровень шума при стирке  \\\n",
       "КодТовара                                                           \n",
       "1027919                             76 дБ                   61 дБ   \n",
       "1029567                             68 дБ                   59 дБ   \n",
       "\n",
       "ВидХарактеристики         Функциональные особенности   Ширина  \\\n",
       "КодТовара                                                       \n",
       "1027919                              самодиагностика    60 см   \n",
       "1029567            дозагрузка белья, самодиагностика  59.6 см   \n",
       "\n",
       "ВидХарактеристики Язык панели управления Сегмент  \n",
       "КодТовара                                         \n",
       "1027919                          русский       0  \n",
       "1029567                          русский       6  \n",
       "\n",
       "[2 rows x 54 columns]"
      ]
     },
     "execution_count": 161,
     "metadata": {},
     "output_type": "execute_result"
    }
   ],
   "source": [
    "# Добавление предсказанных кластеров в общий датафрейм\n",
    "df_matrix_text_nonnull['Сегмент'] = agglomerative_clustering.labels_\n",
    "df_matrix_text_nonnull.head(2)"
   ]
  },
  {
   "cell_type": "code",
   "execution_count": 162,
   "metadata": {},
   "outputs": [
    {
     "data": {
      "text/plain": [
       "2    145\n",
       "0     84\n",
       "1     65\n",
       "5     60\n",
       "3     43\n",
       "7     26\n",
       "4     20\n",
       "6     18\n",
       "8     16\n",
       "9     11\n",
       "Name: Сегмент, dtype: int64"
      ]
     },
     "execution_count": 162,
     "metadata": {},
     "output_type": "execute_result"
    }
   ],
   "source": [
    "# Сколько товаров в сегментах\n",
    "df_matrix_text_nonnull['Сегмент'].value_counts()"
   ]
  },
  {
   "cell_type": "markdown",
   "metadata": {},
   "source": [
    "## Выводы по базовой модели"
   ]
  },
  {
   "cell_type": "markdown",
   "metadata": {},
   "source": [
    "Базовый метод кластеризации не дает нужного результат по ряду причин:\n",
    "1) Слишком много уникальных характеристик, что сильно усложняет работу пользователя с сегментами.\n",
    "2) Непонятно, на какое количество кластеров делить первый уровень, второй и третий.\n",
    "3) Мы получили какие-то кластеры, но их названия в виде порядковых номеров ни о чем не говорят пользователю.\n",
    "4) Невозможно интерпретировать, почему в одном кластере есть товары с различными значениями характеристик внутри одного вида характеристик.\n",
    "\n",
    "Проблема 4 остается нерешаемой любыми базовыми методами, даже если найти решение для первых трех. Значит, нужно проявить более гибкий подход для получения жизнеспособного результата."
   ]
  },
  {
   "cell_type": "markdown",
   "metadata": {},
   "source": [
    "# 4. Нетиповое решение сегментации"
   ]
  },
  {
   "cell_type": "markdown",
   "metadata": {},
   "source": [
    "Идея нового решения заключается в реализации следующей последовательности:\n",
    "1. Сделать отбор нескольких наиболее подходящих видов характеристик\n",
    "2. Из видов характеристик собрать наборы значений для сегментов разных уровней\n",
    "3. Наборы должны иметь некоторую пластичность, чтобы сегменты получались не слишком мелкими, и не слишком крупными.\n",
    "\n",
    "Отбор характеристик должен быть очень тщательным. С одной стороны нужны признаки, подходящие для качественной сегментации, с другой стороны конечному пользователю сегмента должно быть понятно, почему используются именно такие признаки."
   ]
  },
  {
   "cell_type": "markdown",
   "metadata": {},
   "source": [
    "## Настройка параметров"
   ]
  },
  {
   "cell_type": "markdown",
   "metadata": {},
   "source": [
    "Посмотрим на основные параметры, которые есть для выбранной категории."
   ]
  },
  {
   "cell_type": "code",
   "execution_count": 163,
   "metadata": {},
   "outputs": [
    {
     "name": "stdout",
     "output_type": "stream",
     "text": [
      "Код категории: AM19415\n",
      "Наименование категории:  Стиральная машина с фронтальной загрузкой\n",
      "Количество номенклатуры:  488\n",
      "Количество видов характеристик:  66\n",
      "Количество значений характеристик:  2160\n"
     ]
    }
   ],
   "source": [
    "category_name = dim_category[dim_category['КодКатегории']==category]['Уровень4'].values[0]\n",
    "sku = df_category.nunique()['КодТовара']\n",
    "view_quantity = df_category.nunique()['КодВидаХарактеристики']\n",
    "char_quantity = df_category.nunique()['КодХарактеристики']\n",
    "\n",
    "print(f'Код категории: {category}')\n",
    "print('Наименование категории: ', category_name)\n",
    "print('Количество номенклатуры: ', sku)\n",
    "print('Количество видов характеристик: ', view_quantity)\n",
    "print('Количество значений характеристик: ', char_quantity)"
   ]
  },
  {
   "cell_type": "markdown",
   "metadata": {},
   "source": [
    "Как выяснилось выше, не по всем товарам заполняются все характеристики. Для удобства задам порог пропусков, превышение которого будет говорить о непригодности данного вида характеристик к использованию."
   ]
  },
  {
   "cell_type": "code",
   "execution_count": 164,
   "metadata": {},
   "outputs": [],
   "source": [
    "## Порог заполнения характеристик\n",
    "filling_threshold = 0.7\n",
    "Pass_threshold = int((1 - filling_threshold) * 100)"
   ]
  },
  {
   "cell_type": "markdown",
   "metadata": {},
   "source": [
    "Если какой-то вид характеристики будет иметь единственное в основной массе значение, он будет мало ценен для кластеризации. Для исключения таких признаков задаю порог доминации для одной характеристики, выше которого вид характеристики будет исключен."
   ]
  },
  {
   "cell_type": "code",
   "execution_count": 165,
   "metadata": {},
   "outputs": [],
   "source": [
    "## Порог доминации одной характеристики\n",
    "dom = 0.8 "
   ]
  },
  {
   "cell_type": "markdown",
   "metadata": {},
   "source": [
    "Разные категории содержат в себе разное количество активной номенклатуры, от нескольких единиц, до нескольких тысяч. Логично предположить, что в таком случае минимальные размеры сегментов первого уровня должны быть разными. Для решения создам функцию, которая будет задавать минимальный размер кластера в зависимости от количества номенклатурных позиций в категории."
   ]
  },
  {
   "cell_type": "code",
   "execution_count": 166,
   "metadata": {},
   "outputs": [],
   "source": [
    "## Функция выбора минимального порога сегмента\n",
    "def get_segment_treshhold_SKU(SKU):\n",
    "    if SKU < 500:\n",
    "        return 10\n",
    "    elif SKU < 1000:\n",
    "        return 20\n",
    "    else:\n",
    "        return 30"
   ]
  },
  {
   "cell_type": "markdown",
   "metadata": {},
   "source": [
    "Предположу, что для нормальной грануляции сегмент первого уровня должен содержать в себе в среднем 4 сегмента второго уровня. А сегмент 3-го уровня может состоять из 2 взаимозаменяемых товаров."
   ]
  },
  {
   "cell_type": "code",
   "execution_count": 167,
   "metadata": {},
   "outputs": [],
   "source": [
    "## Сколько кластеров в сегменте (примерно)    \n",
    "clusters_in_the_segment = 4\n",
    "\n",
    "## Порог ячейки в штуках\n",
    "cell_treshhold_SKU = 2"
   ]
  },
  {
   "cell_type": "markdown",
   "metadata": {},
   "source": [
    "Использовать весь набор видов характеристик для сегментации может быть нецелесообразно. Лучше отобрать для этого несколько наиболее подходящих видов характеристик. Эмпирически задам для 3-го уровня максимальное количество 12 видов характеристик. Предполагаю, что в сегмент 3-го уровня должны попадать товары, у которых совпадают все 12 характеристик, то есть доля совпадений 100%. Для объединения во 2-й уровень доля совпадений должна быть 60%, для первого уровня достаточно 40%."
   ]
  },
  {
   "cell_type": "code",
   "execution_count": 168,
   "metadata": {},
   "outputs": [],
   "source": [
    "# Сколько видов характеристик оставлять\n",
    "columns_count = 12\n",
    "\n",
    "# Какие доли использовать от общего количества признаков\n",
    "part_sign_segment = 0.4 # доля признаков в сегменте\n",
    "part_sign_cluster = 0.6 # доля признаков в кластере\n",
    "part_sign_cell = 1 # доля признаков в ячейке"
   ]
  },
  {
   "cell_type": "markdown",
   "metadata": {},
   "source": [
    "Границы по признакам задаю в виде коэффициентов, а не абсолютных значений, поскольку не у всех категорий может набраться 12 видов характеристик для 3 уровня. Соответственно, характеристик на первых двух уровнях должно быть пропорционально меньше."
   ]
  },
  {
   "cell_type": "markdown",
   "metadata": {},
   "source": [
    "## Future ingenering"
   ]
  },
  {
   "cell_type": "markdown",
   "metadata": {},
   "source": [
    "### Очистка от некачественных признаков"
   ]
  },
  {
   "cell_type": "code",
   "execution_count": 169,
   "metadata": {},
   "outputs": [
    {
     "name": "stdout",
     "output_type": "stream",
     "text": [
      "Всего видов характеристик: 66\n",
      "Из них достаточно хорошо заполнены: 48\n"
     ]
    }
   ],
   "source": [
    "df = df_category # для сохранения df_category в изначальном виде\n",
    "\n",
    "total_view = df['ВидХарактеристики'].value_counts() / sku\n",
    "print(f\"Всего видов характеристик: {len(total_view)}\")\n",
    "total_view_mod = total_view[total_view < 1.5][total_view > filling_threshold] # Убираем виды с множественным значением и плохо заполненные\n",
    "print(f\"Из них достаточно хорошо заполнены: {len(total_view_mod)}\")\n",
    "total_view_mod_list = list(total_view_mod.index)\n",
    "df = df[df['ВидХарактеристики'].isin(total_view_mod_list)] # Срезаем плохо заполненные"
   ]
  },
  {
   "cell_type": "markdown",
   "metadata": {},
   "source": [
    "### Создание числового признака"
   ]
  },
  {
   "cell_type": "markdown",
   "metadata": {},
   "source": [
    "Поскольку уникльных значений характеристик очень много, есть идея числовые признаки объединить в диапазоны. Для этого создам числовой столбец характеристики с помощью регулярного выражения. Также какие-то категории изначально могут иметь мало видов характеристик. В таком случаи объединение в диапазоны не потребуется, отражу это в специальном условии."
   ]
  },
  {
   "cell_type": "code",
   "execution_count": 170,
   "metadata": {},
   "outputs": [
    {
     "data": {
      "text/html": [
       "<div>\n",
       "<style scoped>\n",
       "    .dataframe tbody tr th:only-of-type {\n",
       "        vertical-align: middle;\n",
       "    }\n",
       "\n",
       "    .dataframe tbody tr th {\n",
       "        vertical-align: top;\n",
       "    }\n",
       "\n",
       "    .dataframe thead th {\n",
       "        text-align: right;\n",
       "    }\n",
       "</style>\n",
       "<table border=\"1\" class=\"dataframe\">\n",
       "  <thead>\n",
       "    <tr style=\"text-align: right;\">\n",
       "      <th></th>\n",
       "      <th>КодТовара</th>\n",
       "      <th>ВидХарактеристики</th>\n",
       "      <th>КодВидаХарактеристики</th>\n",
       "      <th>КодХарактеристики</th>\n",
       "      <th>Характеристика</th>\n",
       "      <th>КодКатегории</th>\n",
       "      <th>Рейтинг</th>\n",
       "      <th>ЧисловоеЗначение</th>\n",
       "    </tr>\n",
       "  </thead>\n",
       "  <tbody>\n",
       "    <tr>\n",
       "      <th>9284</th>\n",
       "      <td>1125285</td>\n",
       "      <td>Загрузка белья для стирки и отжима</td>\n",
       "      <td>3899</td>\n",
       "      <td>34365</td>\n",
       "      <td>7 кг</td>\n",
       "      <td>AM19415</td>\n",
       "      <td>1.0</td>\n",
       "      <td>7</td>\n",
       "    </tr>\n",
       "    <tr>\n",
       "      <th>42834</th>\n",
       "      <td>9953456</td>\n",
       "      <td>Загрузка белья для стирки и отжима</td>\n",
       "      <td>3899</td>\n",
       "      <td>34368</td>\n",
       "      <td>8 кг</td>\n",
       "      <td>AM19415</td>\n",
       "      <td>1.0</td>\n",
       "      <td>8</td>\n",
       "    </tr>\n",
       "    <tr>\n",
       "      <th>66822</th>\n",
       "      <td>1093687</td>\n",
       "      <td>Загрузка белья для стирки и отжима</td>\n",
       "      <td>3899</td>\n",
       "      <td>34366</td>\n",
       "      <td>6 кг</td>\n",
       "      <td>AM19415</td>\n",
       "      <td>1.0</td>\n",
       "      <td>6</td>\n",
       "    </tr>\n",
       "    <tr>\n",
       "      <th>54017</th>\n",
       "      <td>5321213</td>\n",
       "      <td>Загрузка белья для стирки и отжима</td>\n",
       "      <td>3899</td>\n",
       "      <td>34373</td>\n",
       "      <td>9 кг</td>\n",
       "      <td>AM19415</td>\n",
       "      <td>1.0</td>\n",
       "      <td>9</td>\n",
       "    </tr>\n",
       "    <tr>\n",
       "      <th>2963</th>\n",
       "      <td>1248798</td>\n",
       "      <td>Загрузка белья для стирки и отжима</td>\n",
       "      <td>3899</td>\n",
       "      <td>34365</td>\n",
       "      <td>7 кг</td>\n",
       "      <td>AM19415</td>\n",
       "      <td>1.0</td>\n",
       "      <td>7</td>\n",
       "    </tr>\n",
       "  </tbody>\n",
       "</table>\n",
       "</div>"
      ],
      "text/plain": [
       "      КодТовара                   ВидХарактеристики КодВидаХарактеристики  \\\n",
       "9284    1125285  Загрузка белья для стирки и отжима                  3899   \n",
       "42834   9953456  Загрузка белья для стирки и отжима                  3899   \n",
       "66822   1093687  Загрузка белья для стирки и отжима                  3899   \n",
       "54017   5321213  Загрузка белья для стирки и отжима                  3899   \n",
       "2963    1248798  Загрузка белья для стирки и отжима                  3899   \n",
       "\n",
       "      КодХарактеристики Характеристика КодКатегории  Рейтинг ЧисловоеЗначение  \n",
       "9284              34365           7 кг      AM19415      1.0                7  \n",
       "42834             34368           8 кг      AM19415      1.0                8  \n",
       "66822             34366           6 кг      AM19415      1.0                6  \n",
       "54017             34373           9 кг      AM19415      1.0                9  \n",
       "2963              34365           7 кг      AM19415      1.0                7  "
      ]
     },
     "execution_count": 170,
     "metadata": {},
     "output_type": "execute_result"
    }
   ],
   "source": [
    "# Условие отсутствия признаков\n",
    "def get_non_number(df):\n",
    "    if df.shape[0] == 0 or df.shape[1] == 0 or len(total_view_mod_list) <= columns_count:\n",
    "        return True\n",
    "    else: return False\n",
    "\n",
    "# Условие пропуска этого этапа, если видов характеристик недостаточно для дальнейшей фильтрации\n",
    "if get_non_number(df):\n",
    "    df = df.astype(str)\n",
    "    df['ЧисловоеЗначение'] = np.nan # создание пустого столбца при отсутствии числовых значений\n",
    "else:\n",
    "    regex = '\\d*\\.\\d*|\\d*' # регулярное выражение для нахождения чисел\n",
    "    df['ЧисловоеЗначение'] = df['Характеристика'].str.findall(regex).str.get(0) # вывод столбца с числами\n",
    "    df.replace('', np.nan, inplace=True)\n",
    "    \n",
    "df.head()"
   ]
  },
  {
   "cell_type": "markdown",
   "metadata": {},
   "source": [
    "### Разбивка датафрейма на два вида: с числовыми и текстовыми характеристиками"
   ]
  },
  {
   "cell_type": "code",
   "execution_count": 171,
   "metadata": {},
   "outputs": [
    {
     "data": {
      "text/html": [
       "<div>\n",
       "<style scoped>\n",
       "    .dataframe tbody tr th:only-of-type {\n",
       "        vertical-align: middle;\n",
       "    }\n",
       "\n",
       "    .dataframe tbody tr th {\n",
       "        vertical-align: top;\n",
       "    }\n",
       "\n",
       "    .dataframe thead th {\n",
       "        text-align: right;\n",
       "    }\n",
       "</style>\n",
       "<table border=\"1\" class=\"dataframe\">\n",
       "  <thead>\n",
       "    <tr style=\"text-align: right;\">\n",
       "      <th></th>\n",
       "      <th>КодТовара</th>\n",
       "      <th>ВидХарактеристики</th>\n",
       "      <th>КодВидаХарактеристики</th>\n",
       "      <th>КодХарактеристики</th>\n",
       "      <th>Характеристика</th>\n",
       "      <th>КодКатегории</th>\n",
       "      <th>Рейтинг</th>\n",
       "      <th>ЧисловоеЗначение</th>\n",
       "    </tr>\n",
       "  </thead>\n",
       "  <tbody>\n",
       "    <tr>\n",
       "      <th>9284</th>\n",
       "      <td>1125285</td>\n",
       "      <td>Загрузка белья для стирки и отжима</td>\n",
       "      <td>3899</td>\n",
       "      <td>34365</td>\n",
       "      <td>7 кг</td>\n",
       "      <td>AM19415</td>\n",
       "      <td>1.0</td>\n",
       "      <td>7</td>\n",
       "    </tr>\n",
       "    <tr>\n",
       "      <th>45787</th>\n",
       "      <td>9909692</td>\n",
       "      <td>Загрузка белья для стирки и отжима</td>\n",
       "      <td>3899</td>\n",
       "      <td>34365</td>\n",
       "      <td>7 кг</td>\n",
       "      <td>AM19415</td>\n",
       "      <td>1.0</td>\n",
       "      <td>7</td>\n",
       "    </tr>\n",
       "  </tbody>\n",
       "</table>\n",
       "</div>"
      ],
      "text/plain": [
       "      КодТовара                   ВидХарактеристики КодВидаХарактеристики  \\\n",
       "9284    1125285  Загрузка белья для стирки и отжима                  3899   \n",
       "45787   9909692  Загрузка белья для стирки и отжима                  3899   \n",
       "\n",
       "      КодХарактеристики Характеристика КодКатегории  Рейтинг ЧисловоеЗначение  \n",
       "9284              34365           7 кг      AM19415      1.0                7  \n",
       "45787             34365           7 кг      AM19415      1.0                7  "
      ]
     },
     "metadata": {},
     "output_type": "display_data"
    },
    {
     "name": "stdout",
     "output_type": "stream",
     "text": [
      "\n"
     ]
    },
    {
     "data": {
      "text/html": [
       "<div>\n",
       "<style scoped>\n",
       "    .dataframe tbody tr th:only-of-type {\n",
       "        vertical-align: middle;\n",
       "    }\n",
       "\n",
       "    .dataframe tbody tr th {\n",
       "        vertical-align: top;\n",
       "    }\n",
       "\n",
       "    .dataframe thead th {\n",
       "        text-align: right;\n",
       "    }\n",
       "</style>\n",
       "<table border=\"1\" class=\"dataframe\">\n",
       "  <thead>\n",
       "    <tr style=\"text-align: right;\">\n",
       "      <th></th>\n",
       "      <th>КодТовара</th>\n",
       "      <th>ВидХарактеристики</th>\n",
       "      <th>КодВидаХарактеристики</th>\n",
       "      <th>КодХарактеристики</th>\n",
       "      <th>Характеристика</th>\n",
       "      <th>КодКатегории</th>\n",
       "      <th>Рейтинг</th>\n",
       "      <th>ЧисловоеЗначение</th>\n",
       "    </tr>\n",
       "  </thead>\n",
       "  <tbody>\n",
       "    <tr>\n",
       "      <th>68806</th>\n",
       "      <td>9956588</td>\n",
       "      <td>Тип загрузки</td>\n",
       "      <td>3892</td>\n",
       "      <td>34291</td>\n",
       "      <td>фронтальная</td>\n",
       "      <td>AM19415</td>\n",
       "      <td>0.98</td>\n",
       "      <td>NaN</td>\n",
       "    </tr>\n",
       "    <tr>\n",
       "      <th>33205</th>\n",
       "      <td>5091382</td>\n",
       "      <td>Тип загрузки</td>\n",
       "      <td>3892</td>\n",
       "      <td>34291</td>\n",
       "      <td>фронтальная</td>\n",
       "      <td>AM19415</td>\n",
       "      <td>0.98</td>\n",
       "      <td>NaN</td>\n",
       "    </tr>\n",
       "  </tbody>\n",
       "</table>\n",
       "</div>"
      ],
      "text/plain": [
       "      КодТовара ВидХарактеристики КодВидаХарактеристики КодХарактеристики  \\\n",
       "68806   9956588      Тип загрузки                  3892             34291   \n",
       "33205   5091382      Тип загрузки                  3892             34291   \n",
       "\n",
       "      Характеристика КодКатегории  Рейтинг ЧисловоеЗначение  \n",
       "68806    фронтальная      AM19415     0.98              NaN  \n",
       "33205    фронтальная      AM19415     0.98              NaN  "
      ]
     },
     "metadata": {},
     "output_type": "display_data"
    }
   ],
   "source": [
    "df_num = df[df['ЧисловоеЗначение'].notnull()].sort_values(by='Рейтинг', ascending=False)\n",
    "df_text = df[df['ЧисловоеЗначение'].isna()].sort_values(by='Рейтинг', ascending=False)\n",
    "\n",
    "display(df_num.head(2))\n",
    "print()\n",
    "display(df_text.head(2))"
   ]
  },
  {
   "cell_type": "markdown",
   "metadata": {},
   "source": [
    "### Обработка числовых характеристик"
   ]
  },
  {
   "cell_type": "code",
   "execution_count": 172,
   "metadata": {},
   "outputs": [
    {
     "name": "stdout",
     "output_type": "stream",
     "text": [
      "Всего числовых признаков: 18\n",
      "Удалено грязных признаков: 2\n",
      "['Загрузка для сушки', 'Мощность в выключенном режиме']\n",
      "Осталось признаков 16\n",
      "--------------------------\n"
     ]
    }
   ],
   "source": [
    "# Проверка на чистоту заполнения числовых данных. Если будет выявлено сильное отклонение среднего от медианы, \n",
    "# то признак может содержать ошибки заполнения и его лучше исключить.\n",
    "\n",
    "df_num['ЧисловоеЗначение'] = df_num['ЧисловоеЗначение'].astype(float) # Приводим к числовому формату\n",
    "df_group = df_num.groupby('ВидХарактеристики')['ЧисловоеЗначение'].agg('describe') # Группировка для контроля отклонения среднего от медианы\n",
    "df_group.sort_values(by='count', ascending=False)\n",
    "\n",
    "print('Всего числовых признаков:', len(df_group))\n",
    "\n",
    "df_group['Error_rate'] = df_group['mean'] / df_group['50%'] - 1 # Столбец с отклонениями медианы от среднего\n",
    "deleted_signs = list(df_group[(abs(df_group['Error_rate']) >= 10) | (df_group['Error_rate'].isna()) ].index) # Список удаляемых столбцов\n",
    "df_group = df_group[abs(df_group['Error_rate']) < 10] # Список оставшихся столбцов\n",
    "\n",
    "print(f'Удалено грязных признаков: {len(deleted_signs)}')\n",
    "print(deleted_signs)\n",
    "print('Осталось признаков', len(df_group))\n",
    "print('--------------------------')\n",
    "df_num = df_num[~df_num['ВидХарактеристики'].isin(deleted_signs)]\n"
   ]
  },
  {
   "cell_type": "code",
   "execution_count": 173,
   "metadata": {},
   "outputs": [
    {
     "data": {
      "text/html": [
       "<div>\n",
       "<style scoped>\n",
       "    .dataframe tbody tr th:only-of-type {\n",
       "        vertical-align: middle;\n",
       "    }\n",
       "\n",
       "    .dataframe tbody tr th {\n",
       "        vertical-align: top;\n",
       "    }\n",
       "\n",
       "    .dataframe thead th {\n",
       "        text-align: right;\n",
       "    }\n",
       "</style>\n",
       "<table border=\"1\" class=\"dataframe\">\n",
       "  <thead>\n",
       "    <tr style=\"text-align: right;\">\n",
       "      <th>ВидХарактеристики</th>\n",
       "      <th>Вес в упаковке</th>\n",
       "      <th>Вес стиральной машины</th>\n",
       "      <th>Высота</th>\n",
       "      <th>Габариты в упаковке (ШxВxГ)</th>\n",
       "      <th>Глубина</th>\n",
       "      <th>Диапазон температур</th>\n",
       "      <th>Загрузка белья для стирки и отжима</th>\n",
       "      <th>Количество программ стирки</th>\n",
       "      <th>Максимальная скорость отжима</th>\n",
       "      <th>Максимальное время отсрочки запуска</th>\n",
       "      <th>Напряжение питания</th>\n",
       "      <th>Потребляемая мощность за цикл</th>\n",
       "      <th>Расход воды за стирку</th>\n",
       "      <th>Уровень шума при отжиме</th>\n",
       "      <th>Уровень шума при стирке</th>\n",
       "      <th>Ширина</th>\n",
       "    </tr>\n",
       "    <tr>\n",
       "      <th>КодТовара</th>\n",
       "      <th></th>\n",
       "      <th></th>\n",
       "      <th></th>\n",
       "      <th></th>\n",
       "      <th></th>\n",
       "      <th></th>\n",
       "      <th></th>\n",
       "      <th></th>\n",
       "      <th></th>\n",
       "      <th></th>\n",
       "      <th></th>\n",
       "      <th></th>\n",
       "      <th></th>\n",
       "      <th></th>\n",
       "      <th></th>\n",
       "      <th></th>\n",
       "    </tr>\n",
       "  </thead>\n",
       "  <tbody>\n",
       "    <tr>\n",
       "      <th>1027919</th>\n",
       "      <td>57.0</td>\n",
       "      <td>54.0</td>\n",
       "      <td>85.0</td>\n",
       "      <td>65.0</td>\n",
       "      <td>45.0</td>\n",
       "      <td>30.0</td>\n",
       "      <td>6.0</td>\n",
       "      <td>8.0</td>\n",
       "      <td>1200.0</td>\n",
       "      <td>19.0</td>\n",
       "      <td>220.0</td>\n",
       "      <td>1.02</td>\n",
       "      <td>39.0</td>\n",
       "      <td>76.0</td>\n",
       "      <td>61.0</td>\n",
       "      <td>60.0</td>\n",
       "    </tr>\n",
       "    <tr>\n",
       "      <th>1029567</th>\n",
       "      <td>64.0</td>\n",
       "      <td>62.0</td>\n",
       "      <td>84.6</td>\n",
       "      <td>64.2</td>\n",
       "      <td>40.7</td>\n",
       "      <td>20.0</td>\n",
       "      <td>6.0</td>\n",
       "      <td>16.0</td>\n",
       "      <td>800.0</td>\n",
       "      <td>24.0</td>\n",
       "      <td>220.0</td>\n",
       "      <td>0.95</td>\n",
       "      <td>50.0</td>\n",
       "      <td>68.0</td>\n",
       "      <td>59.0</td>\n",
       "      <td>59.6</td>\n",
       "    </tr>\n",
       "    <tr>\n",
       "      <th>1030107</th>\n",
       "      <td>62.0</td>\n",
       "      <td>59.0</td>\n",
       "      <td>85.0</td>\n",
       "      <td>64.5</td>\n",
       "      <td>44.0</td>\n",
       "      <td>0.0</td>\n",
       "      <td>6.5</td>\n",
       "      <td>13.0</td>\n",
       "      <td>1200.0</td>\n",
       "      <td>19.0</td>\n",
       "      <td>220.0</td>\n",
       "      <td>1.10</td>\n",
       "      <td>56.0</td>\n",
       "      <td>76.0</td>\n",
       "      <td>55.0</td>\n",
       "      <td>60.0</td>\n",
       "    </tr>\n",
       "  </tbody>\n",
       "</table>\n",
       "</div>"
      ],
      "text/plain": [
       "ВидХарактеристики  Вес в упаковке  Вес стиральной машины  Высота  \\\n",
       "КодТовара                                                          \n",
       "1027919                      57.0                   54.0    85.0   \n",
       "1029567                      64.0                   62.0    84.6   \n",
       "1030107                      62.0                   59.0    85.0   \n",
       "\n",
       "ВидХарактеристики  Габариты в упаковке (ШxВxГ)  Глубина  Диапазон температур  \\\n",
       "КодТовара                                                                      \n",
       "1027919                                   65.0     45.0                 30.0   \n",
       "1029567                                   64.2     40.7                 20.0   \n",
       "1030107                                   64.5     44.0                  0.0   \n",
       "\n",
       "ВидХарактеристики  Загрузка белья для стирки и отжима  \\\n",
       "КодТовара                                               \n",
       "1027919                                           6.0   \n",
       "1029567                                           6.0   \n",
       "1030107                                           6.5   \n",
       "\n",
       "ВидХарактеристики  Количество программ стирки  Максимальная скорость отжима  \\\n",
       "КодТовара                                                                     \n",
       "1027919                                   8.0                        1200.0   \n",
       "1029567                                  16.0                         800.0   \n",
       "1030107                                  13.0                        1200.0   \n",
       "\n",
       "ВидХарактеристики  Максимальное время отсрочки запуска  Напряжение питания  \\\n",
       "КодТовара                                                                    \n",
       "1027919                                           19.0               220.0   \n",
       "1029567                                           24.0               220.0   \n",
       "1030107                                           19.0               220.0   \n",
       "\n",
       "ВидХарактеристики  Потребляемая мощность за цикл  Расход воды за стирку  \\\n",
       "КодТовара                                                                 \n",
       "1027919                                     1.02                   39.0   \n",
       "1029567                                     0.95                   50.0   \n",
       "1030107                                     1.10                   56.0   \n",
       "\n",
       "ВидХарактеристики  Уровень шума при отжиме  Уровень шума при стирке  Ширина  \n",
       "КодТовара                                                                    \n",
       "1027919                               76.0                     61.0    60.0  \n",
       "1029567                               68.0                     59.0    59.6  \n",
       "1030107                               76.0                     55.0    60.0  "
      ]
     },
     "execution_count": 173,
     "metadata": {},
     "output_type": "execute_result"
    }
   ],
   "source": [
    "# Заполнение матрицы числовых значений\n",
    "df_matrix_num = df_num.pivot_table(\n",
    "    values= 'ЧисловоеЗначение',\n",
    "    index= 'КодТовара',\n",
    "    columns= 'ВидХарактеристики',\n",
    "    aggfunc= 'mean'\n",
    ")\n",
    "\n",
    "df_matrix_num.head(3)"
   ]
  },
  {
   "cell_type": "code",
   "execution_count": 174,
   "metadata": {},
   "outputs": [
    {
     "data": {
      "text/plain": [
       "ВидХарактеристики\n",
       "Максимальное время отсрочки запуска    18.852459\n",
       "Потребляемая мощность за цикл          17.008197\n",
       "Расход воды за стирку                  12.500000\n",
       "Диапазон температур                    10.245902\n",
       "Габариты в упаковке (ШxВxГ)             8.811475\n",
       "Вес в упаковке                          7.377049\n",
       "Вес стиральной машины                   3.278689\n",
       "Уровень шума при отжиме                 3.073770\n",
       "Уровень шума при стирке                 3.073770\n",
       "Напряжение питания                      2.868852\n",
       "Количество программ стирки              1.434426\n",
       "Глубина                                 0.614754\n",
       "Максимальная скорость отжима            0.204918\n",
       "Высота                                  0.000000\n",
       "Загрузка белья для стирки и отжима      0.000000\n",
       "Ширина                                  0.000000\n",
       "dtype: float64"
      ]
     },
     "execution_count": 174,
     "metadata": {},
     "output_type": "execute_result"
    }
   ],
   "source": [
    "# Вычисление доли пропущенных значений\n",
    "missing_values = df_matrix_num.isna().sum() / len(df_matrix_num) * 100\n",
    "missing_values_sorted = missing_values.sort_values(ascending=False).head(50)\n",
    "missing_values_sorted\n"
   ]
  },
  {
   "cell_type": "code",
   "execution_count": 175,
   "metadata": {},
   "outputs": [
    {
     "name": "stdout",
     "output_type": "stream",
     "text": [
      "Удалено 0 столбцов с большими пропусками\n",
      "Series([], dtype: float64)\n"
     ]
    }
   ],
   "source": [
    "# Столбцы превышающие порог пропусков (будут удалены)\n",
    "Columns_to_delete = list(missing_values_sorted[missing_values_sorted > Pass_threshold].index) # Столбцы к удалению\n",
    "df_matrix_num.drop(columns = Columns_to_delete, inplace=True)\n",
    "\n",
    "print(f'Удалено {len(Columns_to_delete)} столбцов с большими пропусками')\n",
    "print(missing_values_sorted[missing_values_sorted > Pass_threshold])"
   ]
  },
  {
   "cell_type": "code",
   "execution_count": 176,
   "metadata": {},
   "outputs": [
    {
     "name": "stdout",
     "output_type": "stream",
     "text": [
      "Удалено 1 доминирующих числовых признаков:\n",
      "Напряжение питания\n",
      "Осталось столбцов:  15\n"
     ]
    }
   ],
   "source": [
    "# Заполнение пропусков \n",
    "if get_non_number(df_matrix_num): # проверка, что признаков достаточно для отбора и в таблице есть числовые признаки\n",
    "    df_matrix_num_nonnull = df_matrix_num\n",
    "else:\n",
    "    df_matrix_num_nonnull = df_matrix_num.fillna(df_matrix_num.median().iloc[0]) # Медианой\n",
    "    \n",
    "# Поиск доминирующих числовых признаков\n",
    "list_col = list(df_matrix_num_nonnull.columns)\n",
    "list_dom = []\n",
    "for view in list_col:\n",
    "    if df_matrix_num_nonnull[view].value_counts(normalize=True).iloc[0] > dom:\n",
    "        list_dom.append(view)     \n",
    "print(f'Удалено {len(list_dom)} доминирующих числовых признаков:')\n",
    "for i in list_dom:\n",
    "    print(i) \n",
    "df_matrix_num_nonnull.drop(columns=list_dom, inplace=True)\n",
    "print('Осталось столбцов: ', df_matrix_num_nonnull.shape[1])"
   ]
  },
  {
   "cell_type": "markdown",
   "metadata": {},
   "source": [
    "### Проверка на мультиколлинеарность"
   ]
  },
  {
   "cell_type": "code",
   "execution_count": 177,
   "metadata": {},
   "outputs": [
    {
     "data": {
      "image/png": "[encoded data removed]",
      "text/plain": [
       "<Figure size 833.333x500 with 2 Axes>"
      ]
     },
     "metadata": {},
     "output_type": "display_data"
    }
   ],
   "source": [
    "# Проверка на мультиколлинеарность\n",
    "if get_non_number(df_matrix_num_nonnull):\n",
    "    pass\n",
    "else:\n",
    "    collumns = df_matrix_num_nonnull.shape[1]\n",
    "    df_corr = df_matrix_num_nonnull.corr()\n",
    "    \n",
    "    #строим график\n",
    "    plt.figure(figsize=(collumns/1.8, collumns/3))\n",
    "    sns.heatmap(df_corr, annot=True, fmt='.2f')\n",
    "    plt.title(f'Матрица корреляций {category_name}')\n",
    "    plt.show()"
   ]
  },
  {
   "cell_type": "markdown",
   "metadata": {},
   "source": [
    "### Функция удаления лишних признаков"
   ]
  },
  {
   "cell_type": "code",
   "execution_count": 178,
   "metadata": {},
   "outputs": [],
   "source": [
    "# Функция ищет признаки с кореляцией свыше 0.9 и составляет датафрейм из пар таких признаков.\n",
    "# Далее происходет сравнение схожих признаков по рейтингу, и признак с меньшим признаком удаляется.\n",
    "# Если рейтинги одинаковы, то остаются оба признака. На выходе получаем список столбцов на удаление.\n",
    "\n",
    "def delete_columns(df_corr, dim_view, k = 0.90):\n",
    "    list_1 = []\n",
    "    for i in range(len(df_corr)):\n",
    "        for j in range(len(df_corr)):\n",
    "            if abs(df_corr.iloc[i, j]) > k and i != j:\n",
    "                list_1.append([\n",
    "                    df_corr.iloc[i].index[j],\n",
    "                    df_corr.iloc[j].index[i] \n",
    "                    ])  \n",
    "                \n",
    "    # Подтягиваю значимости\n",
    "    list_sign_1 = []\n",
    "    list_sign_2 = []\n",
    "    list_value_1 = []\n",
    "    list_value_2 = []\n",
    "\n",
    "    for view in list_1:\n",
    "        sign_1 = view[0]\n",
    "        sign_2 = view[1]\n",
    "        value_1 = dim_view['Рейтинг'][dim_view['ВидХарактеристики'] == sign_1].iloc[0]\n",
    "        value_2 = dim_view['Рейтинг'][dim_view['ВидХарактеристики'] == sign_2].iloc[0]\n",
    "        \n",
    "        list_sign_1.append(sign_1)\n",
    "        list_sign_2.append(sign_2)\n",
    "        list_value_1.append(value_1)\n",
    "        list_value_2.append(value_2)\n",
    "\n",
    "    df_sign_value = pd.DataFrame({'Вид_1': list_sign_1, 'Значимость_1' : list_value_1, 'Вид_2': list_sign_2, 'Значимость_2': list_value_2})\n",
    "    # print('Количество схожих пар признаков ', len(df_sign_value))\n",
    "    display(df_sign_value)\n",
    "    \n",
    "    # Список столбцов на удаление\n",
    "    set_col_to_del = set()\n",
    "    for i in range(len(df_sign_value)):\n",
    "        if df_sign_value.iloc[i]['Значимость_1'] == df_sign_value.iloc[i]['Значимость_2']:\n",
    "            continue\n",
    "        if df_sign_value.iloc[i]['Значимость_1'] < df_sign_value.iloc[i]['Значимость_2']:\n",
    "            set_col_to_del.add(df_sign_value.iloc[i]['Вид_1'])\n",
    "        else:\n",
    "            set_col_to_del.add(df_sign_value.iloc[i]['Вид_2'])\n",
    "\n",
    "    list_col_to_del = list(set_col_to_del)\n",
    "    print('Признаки на удаление: ', list_col_to_del)\n",
    "    return list_col_to_del"
   ]
  },
  {
   "cell_type": "markdown",
   "metadata": {},
   "source": [
    "### Удаление признаков с сильной корреляцией"
   ]
  },
  {
   "cell_type": "code",
   "execution_count": 179,
   "metadata": {},
   "outputs": [
    {
     "data": {
      "text/html": [
       "<div>\n",
       "<style scoped>\n",
       "    .dataframe tbody tr th:only-of-type {\n",
       "        vertical-align: middle;\n",
       "    }\n",
       "\n",
       "    .dataframe tbody tr th {\n",
       "        vertical-align: top;\n",
       "    }\n",
       "\n",
       "    .dataframe thead th {\n",
       "        text-align: right;\n",
       "    }\n",
       "</style>\n",
       "<table border=\"1\" class=\"dataframe\">\n",
       "  <thead>\n",
       "    <tr style=\"text-align: right;\">\n",
       "      <th></th>\n",
       "      <th>Вид_1</th>\n",
       "      <th>Значимость_1</th>\n",
       "      <th>Вид_2</th>\n",
       "      <th>Значимость_2</th>\n",
       "    </tr>\n",
       "  </thead>\n",
       "  <tbody>\n",
       "    <tr>\n",
       "      <th>0</th>\n",
       "      <td>Ширина</td>\n",
       "      <td>1.00</td>\n",
       "      <td>Высота</td>\n",
       "      <td>0.99</td>\n",
       "    </tr>\n",
       "    <tr>\n",
       "      <th>1</th>\n",
       "      <td>Высота</td>\n",
       "      <td>0.99</td>\n",
       "      <td>Ширина</td>\n",
       "      <td>1.00</td>\n",
       "    </tr>\n",
       "  </tbody>\n",
       "</table>\n",
       "</div>"
      ],
      "text/plain": [
       "    Вид_1  Значимость_1   Вид_2  Значимость_2\n",
       "0  Ширина          1.00  Высота          0.99\n",
       "1  Высота          0.99  Ширина          1.00"
      ]
     },
     "metadata": {},
     "output_type": "display_data"
    },
    {
     "name": "stdout",
     "output_type": "stream",
     "text": [
      "Признаки на удаление:  ['Высота']\n"
     ]
    },
    {
     "data": {
      "image/png": "[encoded data removed]",
      "text/plain": [
       "<Figure size 777.778x466.667 with 2 Axes>"
      ]
     },
     "metadata": {},
     "output_type": "display_data"
    }
   ],
   "source": [
    "if get_non_number(df_matrix_num_nonnull): # Проверка на достаточное количество признаков и непустой датафрейм\n",
    "    pass\n",
    "else:\n",
    "    col_to_del = delete_columns(df_corr, dim_view, k = 0.9)\n",
    "    df_matrix_num_nonnull = df_matrix_num_nonnull.drop(columns= col_to_del)\n",
    "    \n",
    "    collumns = df_matrix_num_nonnull.shape[1]\n",
    "    df_corr = df_matrix_num_nonnull.corr()\n",
    "    \n",
    "    # строим график\n",
    "    plt.figure(figsize=(collumns/1.8, collumns/3))\n",
    "    sns.heatmap(df_corr, annot=True, fmt='.2f')\n",
    "    plt.title('Корреляция после удаления лишних признаков')\n",
    "    plt.show()\n",
    "    \n",
    "# Если признаков недостаточно, пропускаем действие\n",
    "if len(total_view_mod_list) <= 10:\n",
    "    pass\n",
    "else:\n",
    "    df_num = df_num[df_num['ВидХарактеристики'].isin(df_matrix_num_nonnull.columns)]\n",
    "    df_num['ВидХарактеристики'].value_counts()    "
   ]
  },
  {
   "cell_type": "markdown",
   "metadata": {},
   "source": [
    "### Деление на числовые диапазоны"
   ]
  },
  {
   "cell_type": "markdown",
   "metadata": {},
   "source": [
    "Поскольку значений характеристик очень много (в baseline получилось несколько тысяч), уменьшу их количество путем объединения в диапазоны. Диапазоны задам в соответствии с квартилями. Таким образом, получим 6 диапазонов, с учетом верхних и нижних выбросов."
   ]
  },
  {
   "cell_type": "code",
   "execution_count": 180,
   "metadata": {},
   "outputs": [],
   "source": [
    "if get_non_number(df_matrix_num_nonnull): # Проверка на достаточное количество признаков и непустой датафрейм\n",
    "    pass\n",
    "else:\n",
    "\n",
    "    df_describe = df_num.merge( \n",
    "    df_group, \n",
    "    on='ВидХарактеристики', \n",
    "    how='inner' \n",
    "    )\n",
    "\n",
    "    df_describe['размах'] = df_describe['75%'] - df_describe['25%']\n",
    "    df_describe['нижние_выбросы'] = df_describe['25%'] - df_describe['размах'] * 1.5\n",
    "    df_describe['нижние_выбросы'] = df_describe['нижние_выбросы'].apply(lambda x: 0 if x<0 else x)\n",
    "    df_describe['премиум_сегмент'] = df_describe['75%'] + df_describe['размах'] * 1.5\n",
    "\n",
    "    df_describe['range'] = df_describe.apply(lambda row:\n",
    "        \n",
    "            f\"0) 0-{round(row['нижние_выбросы'], 2)}\" if row['ЧисловоеЗначение'] <= row['нижние_выбросы']      \n",
    "        else f\"1) {round(row['нижние_выбросы'], 2)}-{round(row['25%'], 2)}\" if row['ЧисловоеЗначение'] < row['25%']      \n",
    "        else f\"2) {round(row['25%'], 2)}-{round(row['50%'], 2)}\" if row['ЧисловоеЗначение'] < row['50%']\n",
    "        else f\"3) {round(row['50%'], 2)}-{round(row['75%'], 2)}\" if row['ЧисловоеЗначение'] < row['75%']\n",
    "        else f\"4) {round(row['75%'], 2)}-{round(row['премиум_сегмент'], 2)}\" if row['ЧисловоеЗначение'] < row['премиум_сегмент']\n",
    "        else f\"5) {round(row['премиум_сегмент'], 2)}-{round(row['max'], 2)}\", axis=1)\n",
    "\n",
    "    # Присвоение диапазона каждому числовому значению.\n",
    "    df_num_2 = df_describe[['КодТовара', 'ВидХарактеристики', 'ЧисловоеЗначение', 'range']]\n",
    "    \n",
    "# Конкатенация в один датафрейм бывших числовых и строковых данных   \n",
    "if len(total_view_mod_list) <= 10 or get_non_number(df_matrix_num_nonnull) == 1:\n",
    "    pass\n",
    "else:\n",
    "    df_text_3 = df_text[['КодТовара', 'ВидХарактеристики', 'Характеристика']]\n",
    "    df_num_3 = df_num_2[['КодТовара', 'ВидХарактеристики', 'range']].rename(columns={'range':'Характеристика'})\n",
    "    df_full = pd.concat([df_text_3, df_num_3])\n",
    "    df_full = df_full.drop_duplicates(keep='first')\n",
    "    \n",
    "# Перевод на строковый тип данных    \n",
    "if get_non_number(df_matrix_num_nonnull): # Проверка на достаточное количество признаков и непустой датафрейм\n",
    "    df_full = df\n",
    "else:\n",
    "    pass\n",
    "df_full = df_full.astype('str')"
   ]
  },
  {
   "cell_type": "markdown",
   "metadata": {},
   "source": [
    "## Обработка текстовых характеристик"
   ]
  },
  {
   "cell_type": "markdown",
   "metadata": {},
   "source": [
    "Теперь у нас единый датафрейм, состоящий только из строковых данных."
   ]
  },
  {
   "cell_type": "markdown",
   "metadata": {},
   "source": [
    "### Заполнение матрицы текстовых характеристик"
   ]
  },
  {
   "cell_type": "code",
   "execution_count": 181,
   "metadata": {},
   "outputs": [],
   "source": [
    "df_matrix_text = df_full.pivot_table(\n",
    "    values='Характеристика',\n",
    "    index='КодТовара',\n",
    "    columns='ВидХарактеристики',\n",
    "    aggfunc=lambda x: ', '.join(x)\n",
    ")"
   ]
  },
  {
   "cell_type": "markdown",
   "metadata": {},
   "source": [
    "### Анализ и обработка пропусков"
   ]
  },
  {
   "cell_type": "code",
   "execution_count": 182,
   "metadata": {},
   "outputs": [
    {
     "name": "stdout",
     "output_type": "stream",
     "text": [
      "--------------------------\n",
      "Общая сумма пропусков =  1261\n",
      "--------------------------\n",
      "Удалено 0 столбцов с высокими пропусками\n",
      "Series([], dtype: float64)\n",
      "--------------------------\n",
      "Пропусков после обработки =  0\n",
      "--------------------------\n"
     ]
    }
   ],
   "source": [
    "if len(total_view_mod_list) <= 10:\n",
    "    df_matrix_text.fillna('НеЗаполнено', inplace=True)\n",
    "else:\n",
    "    все_пропуски_до = df_matrix_text.isna().sum().sum()\n",
    "    пропуски_до = df_matrix_text.isna().sum()\n",
    "    print('--------------------------')\n",
    "    print('Общая сумма пропусков = ', все_пропуски_до)\n",
    "    print('--------------------------')\n",
    "    \n",
    "missing_values = df_matrix_text.isna().sum() / len(df_matrix_text) * 100\n",
    "missing_values_sorted = missing_values.sort_values(ascending=False)\n",
    "\n",
    "# Столбцы превышающие порог пропусков (будут удалены)\n",
    "Columns_to_delete = list(missing_values_sorted[missing_values_sorted > Pass_threshold].index) # Столбцы к удалению\n",
    "print(f'Удалено {len(Columns_to_delete)} столбцов с высокими пропусками')\n",
    "print(missing_values_sorted[missing_values_sorted > Pass_threshold])\n",
    "print('--------------------------')\n",
    "df_matrix_text.drop(columns = Columns_to_delete, inplace=True)   \n",
    "\n",
    "# Заполнение пропусков (модой)\n",
    "df_matrix_text_nonnull = df_matrix_text.fillna(df_matrix_text.mode().iloc[0]) # Мода\n",
    "пропуски_после = df_matrix_text_nonnull.isna().sum().sum()\n",
    "print('Пропусков после обработки = ', пропуски_после)\n",
    "print('--------------------------')\n",
    "df_text_copy = df_matrix_text_nonnull.copy()"
   ]
  },
  {
   "cell_type": "markdown",
   "metadata": {},
   "source": [
    "### Поиск доминирующих характеристик"
   ]
  },
  {
   "cell_type": "code",
   "execution_count": 183,
   "metadata": {},
   "outputs": [
    {
     "name": "stdout",
     "output_type": "stream",
     "text": [
      "Удалено 19 доминирующих характеристик:\n",
      "Автобаланс\n",
      "Активатор\n",
      "Бак для воды\n",
      "Блокировка от детей\n",
      "Вид\n",
      "Возможность установки под столешницу\n",
      "Выбор скорости отжима\n",
      "Голосовой помощник\n",
      "Дисплей\n",
      "Изменение температуры стирки\n",
      "Класс стирки\n",
      "Отсрочка запуска\n",
      "Подсветка барабана\n",
      "Прямой привод\n",
      "Сторона открывания двери\n",
      "Тепловой насос\n",
      "Тип\n",
      "Тип загрузки\n",
      "Язык панели управления\n",
      "Осталось столбцов:  25\n",
      "--------------------------\n"
     ]
    }
   ],
   "source": [
    "list_col = list(df_matrix_text_nonnull.columns)\n",
    "list_dom = []\n",
    "for view in list_col:\n",
    "    if df_matrix_text_nonnull[view].value_counts(normalize=True)[0] > dom:\n",
    "        list_dom.append(view)           \n",
    "print(f'Удалено {len(list_dom)} доминирующих характеристик:')\n",
    "for i in list_dom:\n",
    "    print(i)       \n",
    "df_matrix_text_nonnull.drop(columns=list_dom, inplace=True)\n",
    "print('Осталось столбцов: ', df_matrix_text_nonnull.shape[1])\n",
    "print('--------------------------')"
   ]
  },
  {
   "cell_type": "markdown",
   "metadata": {},
   "source": [
    "### Обработка характеристик с высоким разбросом значений"
   ]
  },
  {
   "cell_type": "code",
   "execution_count": 184,
   "metadata": {},
   "outputs": [
    {
     "name": "stdout",
     "output_type": "stream",
     "text": [
      "Уникальные характеристики \n",
      "  ВидХарактеристики\n",
      "Автовзвешивание                          2\n",
      "Вес в упаковке                           6\n",
      "Вес стиральной машины                    6\n",
      "Габариты в упаковке (ШxВxГ)              6\n",
      "Глубина                                  5\n",
      "Диапазон температур                      3\n",
      "Дополнительный цвет                     10\n",
      "Загрузка белья для стирки и отжима       6\n",
      "Защита от протечек                       3\n",
      "Звуковой сигнал окончания стирки         2\n",
      "Инверторный двигатель                    2\n",
      "Класс отжима                             5\n",
      "Класс энергопотребления                  7\n",
      "Количество программ стирки               6\n",
      "Максимальная скорость отжима             5\n",
      "Максимальное время отсрочки запуска      5\n",
      "Модель                                 469\n",
      "Основной цвет                            8\n",
      "Потребляемая мощность за цикл            6\n",
      "Приложение для управления               10\n",
      "Расход воды за стирку                    6\n",
      "Управление со смартфона                  6\n",
      "Уровень шума при отжиме                  6\n",
      "Уровень шума при стирке                  5\n",
      "Ширина                                   5\n",
      "dtype: int64\n",
      "--------------------------\n",
      "Удалено столбцов с высоким разбросом: 1\n",
      "--------------------------\n",
      "ВидХарактеристики\n",
      "Модель    469\n",
      "dtype: int64\n",
      "Осталось столбцов:  24\n",
      "Столбцы:  ['Автовзвешивание' 'Вес в упаковке' 'Вес стиральной машины'\n",
      " 'Габариты в упаковке (ШxВxГ)' 'Глубина' 'Диапазон температур'\n",
      " 'Дополнительный цвет' 'Загрузка белья для стирки и отжима'\n",
      " 'Защита от протечек' 'Звуковой сигнал окончания стирки'\n",
      " 'Инверторный двигатель' 'Класс отжима' 'Класс энергопотребления'\n",
      " 'Количество программ стирки' 'Максимальная скорость отжима'\n",
      " 'Максимальное время отсрочки запуска' 'Основной цвет'\n",
      " 'Потребляемая мощность за цикл' 'Приложение для управления'\n",
      " 'Расход воды за стирку' 'Управление со смартфона'\n",
      " 'Уровень шума при отжиме' 'Уровень шума при стирке' 'Ширина']\n",
      "--------------------------\n"
     ]
    }
   ],
   "source": [
    "sing_total = df_matrix_text_nonnull.nunique().sum()\n",
    "print('Уникальные характеристики \\n ', df_matrix_text_nonnull.nunique())\n",
    "print('--------------------------')\n",
    "\n",
    "if df_matrix_text_nonnull.shape[1] <= 10:\n",
    "    un = sing_total * 0.3 # Порог уникальных значений\n",
    "else:\n",
    "    un = 50 # Порог уникальных значений\n",
    "    \n",
    "# Удаление видов характеристик с высоким разбросом\n",
    "unic = df_matrix_text_nonnull.nunique()\n",
    "unic_to_del = unic.sort_values(ascending=False).loc[unic > un]\n",
    "print(f'Удалено столбцов с высоким разбросом: {len(unic_to_del)}')\n",
    "print('--------------------------')\n",
    "print(unic_to_del)\n",
    "df_matrix_text_nonnull.drop(columns=unic_to_del.index, inplace=True)\n",
    "print('Осталось столбцов: ', df_matrix_text_nonnull.shape[1])\n",
    "print('Столбцы: ', df_matrix_text_nonnull.columns.values)\n",
    "print('--------------------------')\n",
    "df_matrix = df_matrix_text_nonnull"
   ]
  },
  {
   "cell_type": "markdown",
   "metadata": {},
   "source": [
    "### Добавление вида в название характеристики"
   ]
  },
  {
   "cell_type": "code",
   "execution_count": 185,
   "metadata": {},
   "outputs": [
    {
     "data": {
      "text/html": [
       "<div>\n",
       "<style scoped>\n",
       "    .dataframe tbody tr th:only-of-type {\n",
       "        vertical-align: middle;\n",
       "    }\n",
       "\n",
       "    .dataframe tbody tr th {\n",
       "        vertical-align: top;\n",
       "    }\n",
       "\n",
       "    .dataframe thead th {\n",
       "        text-align: right;\n",
       "    }\n",
       "</style>\n",
       "<table border=\"1\" class=\"dataframe\">\n",
       "  <thead>\n",
       "    <tr style=\"text-align: right;\">\n",
       "      <th>ВидХарактеристики</th>\n",
       "      <th>Автовзвешивание</th>\n",
       "      <th>Вес в упаковке</th>\n",
       "      <th>Вес стиральной машины</th>\n",
       "      <th>Габариты в упаковке (ШxВxГ)</th>\n",
       "      <th>Глубина</th>\n",
       "      <th>Диапазон температур</th>\n",
       "      <th>Дополнительный цвет</th>\n",
       "      <th>Загрузка белья для стирки и отжима</th>\n",
       "      <th>Защита от протечек</th>\n",
       "      <th>Звуковой сигнал окончания стирки</th>\n",
       "      <th>...</th>\n",
       "      <th>Максимальная скорость отжима</th>\n",
       "      <th>Максимальное время отсрочки запуска</th>\n",
       "      <th>Основной цвет</th>\n",
       "      <th>Потребляемая мощность за цикл</th>\n",
       "      <th>Приложение для управления</th>\n",
       "      <th>Расход воды за стирку</th>\n",
       "      <th>Управление со смартфона</th>\n",
       "      <th>Уровень шума при отжиме</th>\n",
       "      <th>Уровень шума при стирке</th>\n",
       "      <th>Ширина</th>\n",
       "    </tr>\n",
       "    <tr>\n",
       "      <th>КодТовара</th>\n",
       "      <th></th>\n",
       "      <th></th>\n",
       "      <th></th>\n",
       "      <th></th>\n",
       "      <th></th>\n",
       "      <th></th>\n",
       "      <th></th>\n",
       "      <th></th>\n",
       "      <th></th>\n",
       "      <th></th>\n",
       "      <th></th>\n",
       "      <th></th>\n",
       "      <th></th>\n",
       "      <th></th>\n",
       "      <th></th>\n",
       "      <th></th>\n",
       "      <th></th>\n",
       "      <th></th>\n",
       "      <th></th>\n",
       "      <th></th>\n",
       "      <th></th>\n",
       "    </tr>\n",
       "  </thead>\n",
       "  <tbody>\n",
       "    <tr>\n",
       "      <th>1027919</th>\n",
       "      <td>Автовзвешивание_есть</td>\n",
       "      <td>Вес в упаковке_1) 46.06-58.4</td>\n",
       "      <td>Вес стиральной машины_1) 43.7-56.0</td>\n",
       "      <td>Габариты в упаковке (ШxВxГ)_3) 65.0-66.0</td>\n",
       "      <td>Глубина_3) 44.0-50.0</td>\n",
       "      <td>Диапазон температур_4) 20.0-50.0</td>\n",
       "      <td>Дополнительный цвет_черный</td>\n",
       "      <td>Загрузка белья для стирки и отжима_2) 6.0-7.0</td>\n",
       "      <td>Защита от протечек_частичная</td>\n",
       "      <td>Звуковой сигнал окончания стирки_нет</td>\n",
       "      <td>...</td>\n",
       "      <td>Максимальная скорость отжима_3) 1200.0-1380.0</td>\n",
       "      <td>Максимальное время отсрочки запуска_0) 0-21.5</td>\n",
       "      <td>Основной цвет_белый</td>\n",
       "      <td>Потребляемая мощность за цикл_3) 0.92-1.05</td>\n",
       "      <td>Приложение для управления_нет</td>\n",
       "      <td>Расход воды за стирку_1) 33.0-45.0</td>\n",
       "      <td>Управление со смартфона_нет</td>\n",
       "      <td>Уровень шума при отжиме_3) 75.0-77.0</td>\n",
       "      <td>Уровень шума при стирке_4) 60.0-69.0</td>\n",
       "      <td>Ширина_4) 60.0-60.75</td>\n",
       "    </tr>\n",
       "    <tr>\n",
       "      <th>1029567</th>\n",
       "      <td>Автовзвешивание_нет</td>\n",
       "      <td>Вес в упаковке_3) 63.0-66.62</td>\n",
       "      <td>Вес стиральной машины_3) 60.5-64.2</td>\n",
       "      <td>Габариты в упаковке (ШxВxГ)_1) 62.25-64.5</td>\n",
       "      <td>Глубина_1) 28.5-41.4</td>\n",
       "      <td>Диапазон температур_4) 20.0-50.0</td>\n",
       "      <td>Дополнительный цвет_черный</td>\n",
       "      <td>Загрузка белья для стирки и отжима_2) 6.0-7.0</td>\n",
       "      <td>Защита от протечек_нет</td>\n",
       "      <td>Звуковой сигнал окончания стирки_есть</td>\n",
       "      <td>...</td>\n",
       "      <td>Максимальная скорость отжима_1) 430.0-1000.0</td>\n",
       "      <td>Максимальное время отсрочки запуска_4) 24.0-25.5</td>\n",
       "      <td>Основной цвет_белый</td>\n",
       "      <td>Потребляемая мощность за цикл_3) 0.92-1.05</td>\n",
       "      <td>Приложение для управления_нет</td>\n",
       "      <td>Расход воды за стирку_3) 48.0-53.0</td>\n",
       "      <td>Управление со смартфона_нет</td>\n",
       "      <td>Уровень шума при отжиме_0) 0-69.5</td>\n",
       "      <td>Уровень шума при стирке_3) 57.0-60.0</td>\n",
       "      <td>Ширина_2) 59.5-59.7</td>\n",
       "    </tr>\n",
       "  </tbody>\n",
       "</table>\n",
       "<p>2 rows × 24 columns</p>\n",
       "</div>"
      ],
      "text/plain": [
       "ВидХарактеристики       Автовзвешивание                Вес в упаковке  \\\n",
       "КодТовара                                                               \n",
       "1027919            Автовзвешивание_есть  Вес в упаковке_1) 46.06-58.4   \n",
       "1029567             Автовзвешивание_нет  Вес в упаковке_3) 63.0-66.62   \n",
       "\n",
       "ВидХарактеристики               Вес стиральной машины  \\\n",
       "КодТовара                                               \n",
       "1027919            Вес стиральной машины_1) 43.7-56.0   \n",
       "1029567            Вес стиральной машины_3) 60.5-64.2   \n",
       "\n",
       "ВидХарактеристики                Габариты в упаковке (ШxВxГ)  \\\n",
       "КодТовара                                                      \n",
       "1027919             Габариты в упаковке (ШxВxГ)_3) 65.0-66.0   \n",
       "1029567            Габариты в упаковке (ШxВxГ)_1) 62.25-64.5   \n",
       "\n",
       "ВидХарактеристики               Глубина               Диапазон температур  \\\n",
       "КодТовара                                                                   \n",
       "1027919            Глубина_3) 44.0-50.0  Диапазон температур_4) 20.0-50.0   \n",
       "1029567            Глубина_1) 28.5-41.4  Диапазон температур_4) 20.0-50.0   \n",
       "\n",
       "ВидХарактеристики         Дополнительный цвет  \\\n",
       "КодТовара                                       \n",
       "1027919            Дополнительный цвет_черный   \n",
       "1029567            Дополнительный цвет_черный   \n",
       "\n",
       "ВидХарактеристики             Загрузка белья для стирки и отжима  \\\n",
       "КодТовара                                                          \n",
       "1027919            Загрузка белья для стирки и отжима_2) 6.0-7.0   \n",
       "1029567            Загрузка белья для стирки и отжима_2) 6.0-7.0   \n",
       "\n",
       "ВидХарактеристики            Защита от протечек  \\\n",
       "КодТовара                                         \n",
       "1027919            Защита от протечек_частичная   \n",
       "1029567                  Защита от протечек_нет   \n",
       "\n",
       "ВидХарактеристики       Звуковой сигнал окончания стирки  ...  \\\n",
       "КодТовара                                                 ...   \n",
       "1027919             Звуковой сигнал окончания стирки_нет  ...   \n",
       "1029567            Звуковой сигнал окончания стирки_есть  ...   \n",
       "\n",
       "ВидХарактеристики                   Максимальная скорость отжима  \\\n",
       "КодТовара                                                          \n",
       "1027919            Максимальная скорость отжима_3) 1200.0-1380.0   \n",
       "1029567             Максимальная скорость отжима_1) 430.0-1000.0   \n",
       "\n",
       "ВидХарактеристики               Максимальное время отсрочки запуска  \\\n",
       "КодТовара                                                             \n",
       "1027919               Максимальное время отсрочки запуска_0) 0-21.5   \n",
       "1029567            Максимальное время отсрочки запуска_4) 24.0-25.5   \n",
       "\n",
       "ВидХарактеристики        Основной цвет  \\\n",
       "КодТовара                                \n",
       "1027919            Основной цвет_белый   \n",
       "1029567            Основной цвет_белый   \n",
       "\n",
       "ВидХарактеристики               Потребляемая мощность за цикл  \\\n",
       "КодТовара                                                       \n",
       "1027919            Потребляемая мощность за цикл_3) 0.92-1.05   \n",
       "1029567            Потребляемая мощность за цикл_3) 0.92-1.05   \n",
       "\n",
       "ВидХарактеристики      Приложение для управления  \\\n",
       "КодТовара                                          \n",
       "1027919            Приложение для управления_нет   \n",
       "1029567            Приложение для управления_нет   \n",
       "\n",
       "ВидХарактеристики               Расход воды за стирку  \\\n",
       "КодТовара                                               \n",
       "1027919            Расход воды за стирку_1) 33.0-45.0   \n",
       "1029567            Расход воды за стирку_3) 48.0-53.0   \n",
       "\n",
       "ВидХарактеристики      Управление со смартфона  \\\n",
       "КодТовара                                        \n",
       "1027919            Управление со смартфона_нет   \n",
       "1029567            Управление со смартфона_нет   \n",
       "\n",
       "ВидХарактеристики               Уровень шума при отжиме  \\\n",
       "КодТовара                                                 \n",
       "1027919            Уровень шума при отжиме_3) 75.0-77.0   \n",
       "1029567               Уровень шума при отжиме_0) 0-69.5   \n",
       "\n",
       "ВидХарактеристики               Уровень шума при стирке                Ширина  \n",
       "КодТовара                                                                      \n",
       "1027919            Уровень шума при стирке_4) 60.0-69.0  Ширина_4) 60.0-60.75  \n",
       "1029567            Уровень шума при стирке_3) 57.0-60.0   Ширина_2) 59.5-59.7  \n",
       "\n",
       "[2 rows x 24 columns]"
      ]
     },
     "execution_count": 185,
     "metadata": {},
     "output_type": "execute_result"
    }
   ],
   "source": [
    "df_matrix_name = df_matrix.apply(lambda col: col.name + '_' + col.astype(str))\n",
    "df_matrix_name.head(2)"
   ]
  },
  {
   "cell_type": "markdown",
   "metadata": {},
   "source": [
    "### Отбор признаков по приоритетности"
   ]
  },
  {
   "cell_type": "code",
   "execution_count": 186,
   "metadata": {},
   "outputs": [
    {
     "data": {
      "application/vnd.plotly.v1+json": {
       "config": {
        "plotlyServerURL": "https://plot.ly"
       },
       "data": [
        {
         "alignmentgroup": "True",
         "hovertemplate": "Вид=%{x}<br>Рейтинг=%{text}<extra></extra>",
         "legendgroup": "",
         "marker": {
          "color": "#636efa",
          "pattern": {
           "shape": ""
          }
         },
         "name": "",
         "offsetgroup": "",
         "orientation": "v",
         "showlegend": false,
         "text": [
          1,
          0.97,
          0.96,
          0.93,
          0.92,
          0.88,
          0.86,
          0.84,
          0.81,
          0.8,
          0.79,
          0.76,
          0.63,
          0.62,
          0.61,
          0.6,
          0.27,
          0.23,
          0.22,
          0.21,
          0.2,
          0.2,
          0.19,
          0.11
         ],
         "textposition": "auto",
         "type": "bar",
         "x": [
          "Загрузка белья для стирки и отжима",
          "Глубина",
          "Инверторный двигатель",
          "Ширина",
          "Защита от протечек",
          "Основной цвет",
          "Максимальная скорость отжима",
          "Класс энергопотребления",
          "Уровень шума при отжиме",
          "Управление со смартфона",
          "Класс отжима",
          "Звуковой сигнал окончания стирки",
          "Количество программ стирки",
          "Вес стиральной машины",
          "Приложение для управления",
          "Максимальное время отсрочки запуска",
          "Дополнительный цвет",
          "Диапазон температур",
          "Габариты в упаковке (ШxВxГ)",
          "Автовзвешивание",
          "Вес в упаковке",
          "Уровень шума при стирке",
          "Расход воды за стирку",
          "Потребляемая мощность за цикл"
         ],
         "xaxis": "x",
         "y": [
          1,
          0.97,
          0.96,
          0.93,
          0.92,
          0.88,
          0.86,
          0.84,
          0.81,
          0.8,
          0.79,
          0.76,
          0.63,
          0.62,
          0.61,
          0.6,
          0.27,
          0.23,
          0.22,
          0.21,
          0.2,
          0.2,
          0.19,
          0.11
         ],
         "yaxis": "y"
        }
       ],
       "layout": {
        "barmode": "relative",
        "height": 500,
        "legend": {
         "tracegroupgap": 0
        },
        "template": {
         "data": {
          "bar": [
           {
            "error_x": {
             "color": "#2a3f5f"
            },
            "error_y": {
             "color": "#2a3f5f"
            },
            "marker": {
             "line": {
              "color": "#E5ECF6",
              "width": 0.5
             },
             "pattern": {
              "fillmode": "overlay",
              "size": 10,
              "solidity": 0.2
             }
            },
            "type": "bar"
           }
          ],
          "barpolar": [
           {
            "marker": {
             "line": {
              "color": "#E5ECF6",
              "width": 0.5
             },
             "pattern": {
              "fillmode": "overlay",
              "size": 10,
              "solidity": 0.2
             }
            },
            "type": "barpolar"
           }
          ],
          "carpet": [
           {
            "aaxis": {
             "endlinecolor": "#2a3f5f",
             "gridcolor": "white",
             "linecolor": "white",
             "minorgridcolor": "white",
             "startlinecolor": "#2a3f5f"
            },
            "baxis": {
             "endlinecolor": "#2a3f5f",
             "gridcolor": "white",
             "linecolor": "white",
             "minorgridcolor": "white",
             "startlinecolor": "#2a3f5f"
            },
            "type": "carpet"
           }
          ],
          "choropleth": [
           {
            "colorbar": {
             "outlinewidth": 0,
             "ticks": ""
            },
            "type": "choropleth"
           }
          ],
          "contour": [
           {
            "colorbar": {
             "outlinewidth": 0,
             "ticks": ""
            },
            "colorscale": [
             [
              0,
              "#0d0887"
             ],
             [
              0.1111111111111111,
              "#46039f"
             ],
             [
              0.2222222222222222,
              "#7201a8"
             ],
             [
              0.3333333333333333,
              "#9c179e"
             ],
             [
              0.4444444444444444,
              "#bd3786"
             ],
             [
              0.5555555555555556,
              "#d8576b"
             ],
             [
              0.6666666666666666,
              "#ed7953"
             ],
             [
              0.7777777777777778,
              "#fb9f3a"
             ],
             [
              0.8888888888888888,
              "#fdca26"
             ],
             [
              1,
              "#f0f921"
             ]
            ],
            "type": "contour"
           }
          ],
          "contourcarpet": [
           {
            "colorbar": {
             "outlinewidth": 0,
             "ticks": ""
            },
            "type": "contourcarpet"
           }
          ],
          "heatmap": [
           {
            "colorbar": {
             "outlinewidth": 0,
             "ticks": ""
            },
            "colorscale": [
             [
              0,
              "#0d0887"
             ],
             [
              0.1111111111111111,
              "#46039f"
             ],
             [
              0.2222222222222222,
              "#7201a8"
             ],
             [
              0.3333333333333333,
              "#9c179e"
             ],
             [
              0.4444444444444444,
              "#bd3786"
             ],
             [
              0.5555555555555556,
              "#d8576b"
             ],
             [
              0.6666666666666666,
              "#ed7953"
             ],
             [
              0.7777777777777778,
              "#fb9f3a"
             ],
             [
              0.8888888888888888,
              "#fdca26"
             ],
             [
              1,
              "#f0f921"
             ]
            ],
            "type": "heatmap"
           }
          ],
          "heatmapgl": [
           {
            "colorbar": {
             "outlinewidth": 0,
             "ticks": ""
            },
            "colorscale": [
             [
              0,
              "#0d0887"
             ],
             [
              0.1111111111111111,
              "#46039f"
             ],
             [
              0.2222222222222222,
              "#7201a8"
             ],
             [
              0.3333333333333333,
              "#9c179e"
             ],
             [
              0.4444444444444444,
              "#bd3786"
             ],
             [
              0.5555555555555556,
              "#d8576b"
             ],
             [
              0.6666666666666666,
              "#ed7953"
             ],
             [
              0.7777777777777778,
              "#fb9f3a"
             ],
             [
              0.8888888888888888,
              "#fdca26"
             ],
             [
              1,
              "#f0f921"
             ]
            ],
            "type": "heatmapgl"
           }
          ],
          "histogram": [
           {
            "marker": {
             "pattern": {
              "fillmode": "overlay",
              "size": 10,
              "solidity": 0.2
             }
            },
            "type": "histogram"
           }
          ],
          "histogram2d": [
           {
            "colorbar": {
             "outlinewidth": 0,
             "ticks": ""
            },
            "colorscale": [
             [
              0,
              "#0d0887"
             ],
             [
              0.1111111111111111,
              "#46039f"
             ],
             [
              0.2222222222222222,
              "#7201a8"
             ],
             [
              0.3333333333333333,
              "#9c179e"
             ],
             [
              0.4444444444444444,
              "#bd3786"
             ],
             [
              0.5555555555555556,
              "#d8576b"
             ],
             [
              0.6666666666666666,
              "#ed7953"
             ],
             [
              0.7777777777777778,
              "#fb9f3a"
             ],
             [
              0.8888888888888888,
              "#fdca26"
             ],
             [
              1,
              "#f0f921"
             ]
            ],
            "type": "histogram2d"
           }
          ],
          "histogram2dcontour": [
           {
            "colorbar": {
             "outlinewidth": 0,
             "ticks": ""
            },
            "colorscale": [
             [
              0,
              "#0d0887"
             ],
             [
              0.1111111111111111,
              "#46039f"
             ],
             [
              0.2222222222222222,
              "#7201a8"
             ],
             [
              0.3333333333333333,
              "#9c179e"
             ],
             [
              0.4444444444444444,
              "#bd3786"
             ],
             [
              0.5555555555555556,
              "#d8576b"
             ],
             [
              0.6666666666666666,
              "#ed7953"
             ],
             [
              0.7777777777777778,
              "#fb9f3a"
             ],
             [
              0.8888888888888888,
              "#fdca26"
             ],
             [
              1,
              "#f0f921"
             ]
            ],
            "type": "histogram2dcontour"
           }
          ],
          "mesh3d": [
           {
            "colorbar": {
             "outlinewidth": 0,
             "ticks": ""
            },
            "type": "mesh3d"
           }
          ],
          "parcoords": [
           {
            "line": {
             "colorbar": {
              "outlinewidth": 0,
              "ticks": ""
             }
            },
            "type": "parcoords"
           }
          ],
          "pie": [
           {
            "automargin": true,
            "type": "pie"
           }
          ],
          "scatter": [
           {
            "fillpattern": {
             "fillmode": "overlay",
             "size": 10,
             "solidity": 0.2
            },
            "type": "scatter"
           }
          ],
          "scatter3d": [
           {
            "line": {
             "colorbar": {
              "outlinewidth": 0,
              "ticks": ""
             }
            },
            "marker": {
             "colorbar": {
              "outlinewidth": 0,
              "ticks": ""
             }
            },
            "type": "scatter3d"
           }
          ],
          "scattercarpet": [
           {
            "marker": {
             "colorbar": {
              "outlinewidth": 0,
              "ticks": ""
             }
            },
            "type": "scattercarpet"
           }
          ],
          "scattergeo": [
           {
            "marker": {
             "colorbar": {
              "outlinewidth": 0,
              "ticks": ""
             }
            },
            "type": "scattergeo"
           }
          ],
          "scattergl": [
           {
            "marker": {
             "colorbar": {
              "outlinewidth": 0,
              "ticks": ""
             }
            },
            "type": "scattergl"
           }
          ],
          "scattermapbox": [
           {
            "marker": {
             "colorbar": {
              "outlinewidth": 0,
              "ticks": ""
             }
            },
            "type": "scattermapbox"
           }
          ],
          "scatterpolar": [
           {
            "marker": {
             "colorbar": {
              "outlinewidth": 0,
              "ticks": ""
             }
            },
            "type": "scatterpolar"
           }
          ],
          "scatterpolargl": [
           {
            "marker": {
             "colorbar": {
              "outlinewidth": 0,
              "ticks": ""
             }
            },
            "type": "scatterpolargl"
           }
          ],
          "scatterternary": [
           {
            "marker": {
             "colorbar": {
              "outlinewidth": 0,
              "ticks": ""
             }
            },
            "type": "scatterternary"
           }
          ],
          "surface": [
           {
            "colorbar": {
             "outlinewidth": 0,
             "ticks": ""
            },
            "colorscale": [
             [
              0,
              "#0d0887"
             ],
             [
              0.1111111111111111,
              "#46039f"
             ],
             [
              0.2222222222222222,
              "#7201a8"
             ],
             [
              0.3333333333333333,
              "#9c179e"
             ],
             [
              0.4444444444444444,
              "#bd3786"
             ],
             [
              0.5555555555555556,
              "#d8576b"
             ],
             [
              0.6666666666666666,
              "#ed7953"
             ],
             [
              0.7777777777777778,
              "#fb9f3a"
             ],
             [
              0.8888888888888888,
              "#fdca26"
             ],
             [
              1,
              "#f0f921"
             ]
            ],
            "type": "surface"
           }
          ],
          "table": [
           {
            "cells": {
             "fill": {
              "color": "#EBF0F8"
             },
             "line": {
              "color": "white"
             }
            },
            "header": {
             "fill": {
              "color": "#C8D4E3"
             },
             "line": {
              "color": "white"
             }
            },
            "type": "table"
           }
          ]
         },
         "layout": {
          "annotationdefaults": {
           "arrowcolor": "#2a3f5f",
           "arrowhead": 0,
           "arrowwidth": 1
          },
          "autotypenumbers": "strict",
          "coloraxis": {
           "colorbar": {
            "outlinewidth": 0,
            "ticks": ""
           }
          },
          "colorscale": {
           "diverging": [
            [
             0,
             "#8e0152"
            ],
            [
             0.1,
             "#c51b7d"
            ],
            [
             0.2,
             "#de77ae"
            ],
            [
             0.3,
             "#f1b6da"
            ],
            [
             0.4,
             "#fde0ef"
            ],
            [
             0.5,
             "#f7f7f7"
            ],
            [
             0.6,
             "#e6f5d0"
            ],
            [
             0.7,
             "#b8e186"
            ],
            [
             0.8,
             "#7fbc41"
            ],
            [
             0.9,
             "#4d9221"
            ],
            [
             1,
             "#276419"
            ]
           ],
           "sequential": [
            [
             0,
             "#0d0887"
            ],
            [
             0.1111111111111111,
             "#46039f"
            ],
            [
             0.2222222222222222,
             "#7201a8"
            ],
            [
             0.3333333333333333,
             "#9c179e"
            ],
            [
             0.4444444444444444,
             "#bd3786"
            ],
            [
             0.5555555555555556,
             "#d8576b"
            ],
            [
             0.6666666666666666,
             "#ed7953"
            ],
            [
             0.7777777777777778,
             "#fb9f3a"
            ],
            [
             0.8888888888888888,
             "#fdca26"
            ],
            [
             1,
             "#f0f921"
            ]
           ],
           "sequentialminus": [
            [
             0,
             "#0d0887"
            ],
            [
             0.1111111111111111,
             "#46039f"
            ],
            [
             0.2222222222222222,
             "#7201a8"
            ],
            [
             0.3333333333333333,
             "#9c179e"
            ],
            [
             0.4444444444444444,
             "#bd3786"
            ],
            [
             0.5555555555555556,
             "#d8576b"
            ],
            [
             0.6666666666666666,
             "#ed7953"
            ],
            [
             0.7777777777777778,
             "#fb9f3a"
            ],
            [
             0.8888888888888888,
             "#fdca26"
            ],
            [
             1,
             "#f0f921"
            ]
           ]
          },
          "colorway": [
           "#636efa",
           "#EF553B",
           "#00cc96",
           "#ab63fa",
           "#FFA15A",
           "#19d3f3",
           "#FF6692",
           "#B6E880",
           "#FF97FF",
           "#FECB52"
          ],
          "font": {
           "color": "#2a3f5f"
          },
          "geo": {
           "bgcolor": "white",
           "lakecolor": "white",
           "landcolor": "#E5ECF6",
           "showlakes": true,
           "showland": true,
           "subunitcolor": "white"
          },
          "hoverlabel": {
           "align": "left"
          },
          "hovermode": "closest",
          "mapbox": {
           "style": "light"
          },
          "paper_bgcolor": "white",
          "plot_bgcolor": "#E5ECF6",
          "polar": {
           "angularaxis": {
            "gridcolor": "white",
            "linecolor": "white",
            "ticks": ""
           },
           "bgcolor": "#E5ECF6",
           "radialaxis": {
            "gridcolor": "white",
            "linecolor": "white",
            "ticks": ""
           }
          },
          "scene": {
           "xaxis": {
            "backgroundcolor": "#E5ECF6",
            "gridcolor": "white",
            "gridwidth": 2,
            "linecolor": "white",
            "showbackground": true,
            "ticks": "",
            "zerolinecolor": "white"
           },
           "yaxis": {
            "backgroundcolor": "#E5ECF6",
            "gridcolor": "white",
            "gridwidth": 2,
            "linecolor": "white",
            "showbackground": true,
            "ticks": "",
            "zerolinecolor": "white"
           },
           "zaxis": {
            "backgroundcolor": "#E5ECF6",
            "gridcolor": "white",
            "gridwidth": 2,
            "linecolor": "white",
            "showbackground": true,
            "ticks": "",
            "zerolinecolor": "white"
           }
          },
          "shapedefaults": {
           "line": {
            "color": "#2a3f5f"
           }
          },
          "ternary": {
           "aaxis": {
            "gridcolor": "white",
            "linecolor": "white",
            "ticks": ""
           },
           "baxis": {
            "gridcolor": "white",
            "linecolor": "white",
            "ticks": ""
           },
           "bgcolor": "#E5ECF6",
           "caxis": {
            "gridcolor": "white",
            "linecolor": "white",
            "ticks": ""
           }
          },
          "title": {
           "x": 0.05
          },
          "xaxis": {
           "automargin": true,
           "gridcolor": "white",
           "linecolor": "white",
           "ticks": "",
           "title": {
            "standoff": 15
           },
           "zerolinecolor": "white",
           "zerolinewidth": 2
          },
          "yaxis": {
           "automargin": true,
           "gridcolor": "white",
           "linecolor": "white",
           "ticks": "",
           "title": {
            "standoff": 15
           },
           "zerolinecolor": "white",
           "zerolinewidth": 2
          }
         }
        },
        "title": {
         "text": "Рейтинг видов характеристик"
        },
        "width": 1000,
        "xaxis": {
         "anchor": "y",
         "domain": [
          0,
          1
         ],
         "title": {
          "text": "Вид"
         }
        },
        "yaxis": {
         "anchor": "x",
         "domain": [
          0,
          1
         ],
         "title": {
          "text": "Рейтинг"
         }
        }
       }
      }
     },
     "metadata": {},
     "output_type": "display_data"
    }
   ],
   "source": [
    "# Фильтруем характеристики по выбранной категории\n",
    "dim_view = dim_view[dim_view['КодКатегории'] == category] \n",
    "\n",
    "# Фильтруем по прошедшим все отборы признакам\n",
    "dim_view_result = dim_view[dim_view['ВидХарактеристики'].isin(df_matrix_name.columns)][['ВидХарактеристики', 'Рейтинг']]\n",
    "\n",
    "# Подготовка к визуализации\n",
    "dim_view_result['Рейтинг'] = dim_view_result['Рейтинг'].astype(float)\n",
    "dim_view_result['Рейтинг'] = dim_view_result['Рейтинг'].round(2)\n",
    "\n",
    "dim_view_result = dim_view_result[['ВидХарактеристики', 'Рейтинг']].rename(columns={'ВидХарактеристики':'Вид'})\n",
    "# строим график\n",
    "fig = px.bar(\n",
    "    data_frame=dim_view_result, #датафрейм\n",
    "    x=\"Вид\", #ось x\n",
    "    y=\"Рейтинг\", #ось y\n",
    "    text = 'Рейтинг', #текст на столбцах\n",
    "    orientation='v', #ориентация графика\n",
    "    height=500, #высота\n",
    "    width=1000, #ширина\n",
    "    title='Рейтинг видов характеристик' #заголовок\n",
    ")\n",
    "fig.show()"
   ]
  },
  {
   "cell_type": "markdown",
   "metadata": {},
   "source": [
    "# 5. Создание сегментов\n"
   ]
  },
  {
   "cell_type": "code",
   "execution_count": 187,
   "metadata": {},
   "outputs": [
    {
     "name": "stdout",
     "output_type": "stream",
     "text": [
      " порог сегмента 10 \n",
      " порог кластера 2.5 \n",
      " порог ячейки 2\n",
      "---------------------------------------\n",
      "Оставляем признаков 12 \n",
      "['Загрузка белья для стирки и отжима' 'Глубина' 'Инверторный двигатель'\n",
      " 'Ширина' 'Защита от протечек' 'Основной цвет'\n",
      " 'Максимальная скорость отжима' 'Класс энергопотребления'\n",
      " 'Уровень шума при отжиме' 'Управление со смартфона' 'Класс отжима'\n",
      " 'Звуковой сигнал окончания стирки']\n",
      "---------------------------------------\n",
      " Признаков в сегменте 4 \n",
      " Признаков в кластере 7 \n",
      " Признаков в ячейке 12\n"
     ]
    }
   ],
   "source": [
    "# Минимальный порог сегмента\n",
    "segment_treshhold_SKU = get_segment_treshhold_SKU(sku)\n",
    "cluster_treshhold_SKU = segment_treshhold_SKU / clusters_in_the_segment\n",
    "print(f' порог сегмента {segment_treshhold_SKU} \\n порог кластера {cluster_treshhold_SKU} \\n порог ячейки {cell_treshhold_SKU}')\n",
    "\n",
    "columns_total = dim_view_result['Вид'].values  # Порядок столбцов по значимости\n",
    "\n",
    "# Отсечка по количеству признаков\n",
    "view_to_model = columns_total[:columns_count]\n",
    "print('---------------------------------------')\n",
    "print(f'Оставляем признаков {len(view_to_model)} \\n{view_to_model}')\n",
    "df = df_matrix_name[view_to_model]\n",
    "\n",
    "# Сколько признаков в сегментации\n",
    "count_sign_segment = int(len(df.columns) * part_sign_segment) # из скольки признаков будет состоять сегмент\n",
    "count_sign_cluster = int(len(df.columns) * part_sign_cluster) # из скольки признаков будет состоять кластер\n",
    "count_sign_cell = int(len(df.columns) * part_sign_cell) # из скольки признаков будет состоять ячейка\n",
    "print('---------------------------------------')\n",
    "print(f' Признаков в сегменте {count_sign_segment} \\n Признаков в кластере {count_sign_cluster} \\n Признаков в ячейке {count_sign_cell}')\n",
    "\n",
    "# Если признаков меньше 1, то оставляем 1\n",
    "if count_sign_segment < 1:\n",
    "    count_sign_segment = 1\n",
    "if count_sign_cluster < 1:\n",
    "    count_sign_cluster = 1  \n",
    "    \n",
    "# Срез характеристик до сегмента, кластера, ячейки\n",
    "df_segment = df.iloc[ : , : count_sign_segment]\n",
    "df_cluster = df.iloc[ : , : count_sign_cluster]\n",
    "df_cell = df.iloc[ : , : count_sign_cell]\n",
    "segments_only = df_segment.columns  "
   ]
  },
  {
   "cell_type": "markdown",
   "metadata": {},
   "source": [
    "## Функция постепенного снижения размерности"
   ]
  },
  {
   "cell_type": "code",
   "execution_count": 188,
   "metadata": {},
   "outputs": [],
   "source": [
    "def get_treshhold(df, segment_treshhold_SKU):\n",
    "    n = 0\n",
    "    df['Сегмент'] = '' # Инициация столбца Сегмент\n",
    "    while True: # запуск цикла\n",
    "        df = df.drop(columns = 'Сегмент') # Удаление столбца (с рассчитанными слабыми сегментами)\n",
    "        list_segment = [] # Инициация списка для сегментов\n",
    "        for i in range(len(df)): # Проходимся по датафрейму\n",
    "            cell = list(df.iloc[i].values)\n",
    "            cell = ' // '.join(cell) # Соединение характеристик в одну строку\n",
    "            list_segment.append(cell) # Формирование списка из получившихся сегментов\n",
    "        df['Сегмент'] = list_segment # Добавление сегментов к дф\n",
    "        \n",
    "        # Оставляю только слабые сегменты\n",
    "        s = df['Сегмент'].value_counts()\n",
    "        s = s[s.values < segment_treshhold_SKU] \n",
    "        \n",
    "        # Меняю последний признак на \"Прочее\" у слабых сегментов\n",
    "        garbage = s.index\n",
    "        df.loc[df['Сегмент'].isin(garbage), df.columns[-2-n]] = 'Прочее'\n",
    "        \n",
    "        df = df.drop(columns = 'Сегмент')\n",
    "        # Создаем или обновляем столбец с названием сегмента\n",
    "        # Новые сегменты создаются с учетом того, что в слабых сегментах последний признак \n",
    "        # заменен на \"Прочее\".\n",
    "        list_segment = []\n",
    "        for i in range(len(df)):\n",
    "            cell = list(df.iloc[i].values)\n",
    "            cell = ' // '.join(cell)\n",
    "            list_segment.append(cell)\n",
    "        df['Сегмент'] = list_segment   \n",
    "    \n",
    "        n = n+1\n",
    "        # Остановка если весь товар распределен по сегментам достаточной силы\n",
    "        if len(s) == 0:\n",
    "            break \n",
    "        # Остановка если все признаки прошли замену на \"Прочее\"\n",
    "        if n == df.shape[1]-1:\n",
    "            break\n",
    "        # Защита от бесконечного цикла, если что-то пойдет не так\n",
    "        if n == 100:\n",
    "            break\n",
    "    return df"
   ]
  },
  {
   "cell_type": "markdown",
   "metadata": {},
   "source": [
    "## Применяем функцию для создания уровней сегментации"
   ]
  },
  {
   "cell_type": "code",
   "execution_count": 189,
   "metadata": {},
   "outputs": [
    {
     "name": "stdout",
     "output_type": "stream",
     "text": [
      "всего сегментов 27\n",
      "всего кластеров 109\n",
      "всего ячеек 218\n",
      "всего номенклатуры 488\n"
     ]
    }
   ],
   "source": [
    "s_segment = get_treshhold(df_segment, segment_treshhold_SKU)['Сегмент']\n",
    "s_cluster = get_treshhold(df_cluster, cluster_treshhold_SKU)['Сегмент']\n",
    "s_cell = get_treshhold(df_cell, cell_treshhold_SKU)['Сегмент']\n",
    "\n",
    "print('всего сегментов', len(s_segment.value_counts()))\n",
    "print('всего кластеров', len(s_cluster.value_counts()))\n",
    "print('всего ячеек', len(s_cell.value_counts()))\n",
    "print('всего номенклатуры', sku)"
   ]
  },
  {
   "cell_type": "markdown",
   "metadata": {},
   "source": [
    "### Объединение в одну таблицу"
   ]
  },
  {
   "cell_type": "code",
   "execution_count": 190,
   "metadata": {},
   "outputs": [
    {
     "data": {
      "text/html": [
       "<div>\n",
       "<style scoped>\n",
       "    .dataframe tbody tr th:only-of-type {\n",
       "        vertical-align: middle;\n",
       "    }\n",
       "\n",
       "    .dataframe tbody tr th {\n",
       "        vertical-align: top;\n",
       "    }\n",
       "\n",
       "    .dataframe thead th {\n",
       "        text-align: right;\n",
       "    }\n",
       "</style>\n",
       "<table border=\"1\" class=\"dataframe\">\n",
       "  <thead>\n",
       "    <tr style=\"text-align: right;\">\n",
       "      <th></th>\n",
       "      <th>КодТовара</th>\n",
       "      <th>Уровень_1</th>\n",
       "      <th>Уровень_2</th>\n",
       "      <th>Уровень_3</th>\n",
       "    </tr>\n",
       "  </thead>\n",
       "  <tbody>\n",
       "    <tr>\n",
       "      <th>0</th>\n",
       "      <td>1027919</td>\n",
       "      <td>Загрузка белья для стирки и отжима_2) 6.0-7.0 ...</td>\n",
       "      <td>Загрузка белья для стирки и отжима_2) 6.0-7.0 ...</td>\n",
       "      <td>Загрузка белья для стирки и отжима_2) 6.0-7.0 ...</td>\n",
       "    </tr>\n",
       "    <tr>\n",
       "      <th>1</th>\n",
       "      <td>1029567</td>\n",
       "      <td>Загрузка белья для стирки и отжима_2) 6.0-7.0 ...</td>\n",
       "      <td>Загрузка белья для стирки и отжима_2) 6.0-7.0 ...</td>\n",
       "      <td>Загрузка белья для стирки и отжима_2) 6.0-7.0 ...</td>\n",
       "    </tr>\n",
       "  </tbody>\n",
       "</table>\n",
       "</div>"
      ],
      "text/plain": [
       "  КодТовара                                          Уровень_1  \\\n",
       "0   1027919  Загрузка белья для стирки и отжима_2) 6.0-7.0 ...   \n",
       "1   1029567  Загрузка белья для стирки и отжима_2) 6.0-7.0 ...   \n",
       "\n",
       "                                           Уровень_2  \\\n",
       "0  Загрузка белья для стирки и отжима_2) 6.0-7.0 ...   \n",
       "1  Загрузка белья для стирки и отжима_2) 6.0-7.0 ...   \n",
       "\n",
       "                                           Уровень_3  \n",
       "0  Загрузка белья для стирки и отжима_2) 6.0-7.0 ...  \n",
       "1  Загрузка белья для стирки и отжима_2) 6.0-7.0 ...  "
      ]
     },
     "execution_count": 190,
     "metadata": {},
     "output_type": "execute_result"
    }
   ],
   "source": [
    "\n",
    "df_full = pd.concat([s_segment, s_cluster, s_cell], axis=1, keys=['Сегмент', 'Кластер', 'Ячейка'])\n",
    "# Удаляем из названий лишние \"прочие\"\n",
    "df_full = df_full.apply(lambda x: x.str.rstrip('// Прочее') if any(isinstance(cell, str) and cell.endswith('// Прочее') for cell in x) else x) \n",
    "df_full = df_full.replace('', 'Прочее') # Если не нужен сегмент \"Прочее\", заменить на np.nan\n",
    "\n",
    "df_full = df_full.rename(columns={'Сегмент':'Уровень_1', 'Кластер':'Уровень_2', 'Ячейка':'Уровень_3'})\n",
    "df_full_copy = df_full.reset_index()\n",
    "df_full_copy.head(2)"
   ]
  },
  {
   "cell_type": "code",
   "execution_count": 191,
   "metadata": {},
   "outputs": [
    {
     "name": "stdout",
     "output_type": "stream",
     "text": [
      "<class 'pandas.core.frame.DataFrame'>\n",
      "Int64Index: 9731 entries, 5 to 82947\n",
      "Data columns (total 7 columns):\n",
      " #   Column                 Non-Null Count  Dtype \n",
      "---  ------                 --------------  ----- \n",
      " 0   КодТовара              9731 non-null   object\n",
      " 1   ВидХарактеристики      9731 non-null   object\n",
      " 2   КодВидаХарактеристики  9731 non-null   object\n",
      " 3   КодХарактеристики      9731 non-null   object\n",
      " 4   Характеристика         9731 non-null   object\n",
      " 5   Значимость             9731 non-null   object\n",
      " 6   Вид_Значение           9731 non-null   object\n",
      "dtypes: object(7)\n",
      "memory usage: 608.2+ KB\n"
     ]
    },
    {
     "data": {
      "text/html": [
       "<div>\n",
       "<style scoped>\n",
       "    .dataframe tbody tr th:only-of-type {\n",
       "        vertical-align: middle;\n",
       "    }\n",
       "\n",
       "    .dataframe tbody tr th {\n",
       "        vertical-align: top;\n",
       "    }\n",
       "\n",
       "    .dataframe thead th {\n",
       "        text-align: right;\n",
       "    }\n",
       "</style>\n",
       "<table border=\"1\" class=\"dataframe\">\n",
       "  <thead>\n",
       "    <tr style=\"text-align: right;\">\n",
       "      <th></th>\n",
       "      <th>КодТовара</th>\n",
       "      <th>ВидХарактеристики</th>\n",
       "      <th>КодВидаХарактеристики</th>\n",
       "      <th>КодХарактеристики</th>\n",
       "      <th>Характеристика</th>\n",
       "      <th>Значимость</th>\n",
       "      <th>Вид_Значение</th>\n",
       "    </tr>\n",
       "  </thead>\n",
       "  <tbody>\n",
       "    <tr>\n",
       "      <th>5</th>\n",
       "      <td>5334213</td>\n",
       "      <td>Основной цвет</td>\n",
       "      <td>13486</td>\n",
       "      <td>163232</td>\n",
       "      <td>белый</td>\n",
       "      <td>200</td>\n",
       "      <td>Основной цвет_белый</td>\n",
       "    </tr>\n",
       "    <tr>\n",
       "      <th>43</th>\n",
       "      <td>5334213</td>\n",
       "      <td>Управление со смартфона</td>\n",
       "      <td>1176356</td>\n",
       "      <td>57431681</td>\n",
       "      <td>нет</td>\n",
       "      <td>190</td>\n",
       "      <td>Управление со смартфона_нет</td>\n",
       "    </tr>\n",
       "  </tbody>\n",
       "</table>\n",
       "</div>"
      ],
      "text/plain": [
       "   КодТовара        ВидХарактеристики КодВидаХарактеристики КодХарактеристики  \\\n",
       "5    5334213            Основной цвет                 13486            163232   \n",
       "43   5334213  Управление со смартфона               1176356          57431681   \n",
       "\n",
       "   Характеристика Значимость                 Вид_Значение  \n",
       "5           белый        200          Основной цвет_белый  \n",
       "43            нет        190  Управление со смартфона_нет  "
      ]
     },
     "execution_count": 191,
     "metadata": {},
     "output_type": "execute_result"
    }
   ],
   "source": [
    "# Соединяю виды и характеристики в исходном датафрейме\n",
    "df_0_new = df_0[df_0['ВидХарактеристики'].isin(view_to_model)]\n",
    "df_0_new['Вид_Значение'] = df_0_new['ВидХарактеристики'] + '_' + df_0_new['Характеристика'] \n",
    "df_0_new = df_0_new.astype('str')\n",
    "df_0_new = df_0_new.rename(columns={'Код': 'КодТовара'})\n",
    "df_0_new.info()\n",
    "df_0_new.head(2)"
   ]
  },
  {
   "cell_type": "code",
   "execution_count": 192,
   "metadata": {},
   "outputs": [
    {
     "data": {
      "text/plain": [
       "КодТовара\n",
       "1019743    Глубина_39 см, Звуковой сигнал окончания стирк...\n",
       "1021151    Глубина_33 см, Звуковой сигнал окончания стирк...\n",
       "1021995    Основной цвет_белый, Управление со смартфона_н...\n",
       "Name: Вид_Значение, dtype: object"
      ]
     },
     "execution_count": 192,
     "metadata": {},
     "output_type": "execute_result"
    }
   ],
   "source": [
    "df_0_new_join = df_0_new.groupby('КодТовара')['Вид_Значение'].apply(', '.join)\n",
    "df_0_new_join.head(3)"
   ]
  },
  {
   "cell_type": "code",
   "execution_count": 193,
   "metadata": {},
   "outputs": [
    {
     "data": {
      "text/plain": [
       "КодТовара\n",
       "1019743    50680753, 50681971, 50682026, 50682034, 506819...\n",
       "1021151    50680738, 50681972, 50682043, 50681990, 506804...\n",
       "1021995    163232, 57431681, 163437, 163446, 64194778, 16...\n",
       "Name: КодХарактеристики, dtype: object"
      ]
     },
     "execution_count": 193,
     "metadata": {},
     "output_type": "execute_result"
    }
   ],
   "source": [
    "# Группирую по коду, новый столбец в виде списка\n",
    "df_0_new_join = df_0_new.groupby('КодТовара')['Вид_Значение'].apply(', '.join)\n",
    "df_0_new_join_code = df_0_new.groupby('КодТовара')['КодХарактеристики'].apply(', '.join)\n",
    "df_0_new_join_code.head(3)"
   ]
  },
  {
   "cell_type": "code",
   "execution_count": 194,
   "metadata": {},
   "outputs": [
    {
     "data": {
      "text/html": [
       "<div>\n",
       "<style scoped>\n",
       "    .dataframe tbody tr th:only-of-type {\n",
       "        vertical-align: middle;\n",
       "    }\n",
       "\n",
       "    .dataframe tbody tr th {\n",
       "        vertical-align: top;\n",
       "    }\n",
       "\n",
       "    .dataframe thead th {\n",
       "        text-align: right;\n",
       "    }\n",
       "</style>\n",
       "<table border=\"1\" class=\"dataframe\">\n",
       "  <thead>\n",
       "    <tr style=\"text-align: right;\">\n",
       "      <th></th>\n",
       "      <th>Уровень_1</th>\n",
       "      <th>Уровень_2</th>\n",
       "      <th>Уровень_3</th>\n",
       "      <th>Вид_Значение</th>\n",
       "      <th>КодХарактеристики</th>\n",
       "    </tr>\n",
       "    <tr>\n",
       "      <th>КодТовара</th>\n",
       "      <th></th>\n",
       "      <th></th>\n",
       "      <th></th>\n",
       "      <th></th>\n",
       "      <th></th>\n",
       "    </tr>\n",
       "  </thead>\n",
       "  <tbody>\n",
       "    <tr>\n",
       "      <th>1027919</th>\n",
       "      <td>Загрузка белья для стирки и отжима_2) 6.0-7.0 ...</td>\n",
       "      <td>Загрузка белья для стирки и отжима_2) 6.0-7.0 ...</td>\n",
       "      <td>Загрузка белья для стирки и отжима_2) 6.0-7.0 ...</td>\n",
       "      <td>Максимальная скорость отжима_1200 об/мин, Осно...</td>\n",
       "      <td>34390, 123304, 56836560, 34471, 127332, 127407...</td>\n",
       "    </tr>\n",
       "    <tr>\n",
       "      <th>1029567</th>\n",
       "      <td>Загрузка белья для стирки и отжима_2) 6.0-7.0 ...</td>\n",
       "      <td>Загрузка белья для стирки и отжима_2) 6.0-7.0 ...</td>\n",
       "      <td>Загрузка белья для стирки и отжима_2) 6.0-7.0 ...</td>\n",
       "      <td>Глубина_40.7 см, Загрузка белья для стирки и о...</td>\n",
       "      <td>425616, 34366, 34403, 34432, 686399, 34361, 34...</td>\n",
       "    </tr>\n",
       "    <tr>\n",
       "      <th>1030107</th>\n",
       "      <td>Загрузка белья для стирки и отжима_2) 6.0-7.0 ...</td>\n",
       "      <td>Загрузка белья для стирки и отжима_2) 6.0-7.0 ...</td>\n",
       "      <td>Загрузка белья для стирки и отжима_2) 6.0-7.0 ...</td>\n",
       "      <td>Управление со смартфона_нет, Уровень шума при ...</td>\n",
       "      <td>56836560, 34471, 127332, 127386, 34379, 34403,...</td>\n",
       "    </tr>\n",
       "  </tbody>\n",
       "</table>\n",
       "</div>"
      ],
      "text/plain": [
       "                                                   Уровень_1  \\\n",
       "КодТовара                                                      \n",
       "1027919    Загрузка белья для стирки и отжима_2) 6.0-7.0 ...   \n",
       "1029567    Загрузка белья для стирки и отжима_2) 6.0-7.0 ...   \n",
       "1030107    Загрузка белья для стирки и отжима_2) 6.0-7.0 ...   \n",
       "\n",
       "                                                   Уровень_2  \\\n",
       "КодТовара                                                      \n",
       "1027919    Загрузка белья для стирки и отжима_2) 6.0-7.0 ...   \n",
       "1029567    Загрузка белья для стирки и отжима_2) 6.0-7.0 ...   \n",
       "1030107    Загрузка белья для стирки и отжима_2) 6.0-7.0 ...   \n",
       "\n",
       "                                                   Уровень_3  \\\n",
       "КодТовара                                                      \n",
       "1027919    Загрузка белья для стирки и отжима_2) 6.0-7.0 ...   \n",
       "1029567    Загрузка белья для стирки и отжима_2) 6.0-7.0 ...   \n",
       "1030107    Загрузка белья для стирки и отжима_2) 6.0-7.0 ...   \n",
       "\n",
       "                                                Вид_Значение  \\\n",
       "КодТовара                                                      \n",
       "1027919    Максимальная скорость отжима_1200 об/мин, Осно...   \n",
       "1029567    Глубина_40.7 см, Загрузка белья для стирки и о...   \n",
       "1030107    Управление со смартфона_нет, Уровень шума при ...   \n",
       "\n",
       "                                           КодХарактеристики  \n",
       "КодТовара                                                     \n",
       "1027919    34390, 123304, 56836560, 34471, 127332, 127407...  \n",
       "1029567    425616, 34366, 34403, 34432, 686399, 34361, 34...  \n",
       "1030107    56836560, 34471, 127332, 127386, 34379, 34403,...  "
      ]
     },
     "execution_count": 194,
     "metadata": {},
     "output_type": "execute_result"
    }
   ],
   "source": [
    "# Присоединяю полученный список к итоговому дф\n",
    "df_full_join = pd.merge(df_full, df_0_new_join, on='КодТовара')\n",
    "df_full_join = pd.merge(df_full_join, df_0_new_join_code, on='КодТовара')\n",
    "df_full_join.head(3)"
   ]
  },
  {
   "cell_type": "markdown",
   "metadata": {},
   "source": [
    "### Функции преобразований типов двнных в датафрейме"
   ]
  },
  {
   "cell_type": "code",
   "execution_count": 195,
   "metadata": {},
   "outputs": [],
   "source": [
    "# определяем функцию для преобразования строки в множество\n",
    "def string_to_set(string):\n",
    "    return set(string.split(', '))\n",
    "\n",
    "# определяем функцию для преобразования множества в строку\n",
    "def set_to_list(set):\n",
    "    return sorted(list(set))\n",
    "\n",
    "# определяем функцию для преобразования множества в строку\n",
    "def set_to_string(set):\n",
    "    return str(set)\n",
    "\n",
    "# функция группировки и преобразования в наборы\n",
    "def get_selection(df, lvl, collumn, new_name):\n",
    "    df = df.groupby(lvl)[collumn].apply(', '.join).reset_index()\n",
    "    df[collumn] = df[collumn].apply(string_to_set)\n",
    "    df[collumn] = df[collumn].apply(set_to_string)\n",
    "    df = df.rename(columns={collumn: new_name})\n",
    "    return df"
   ]
  },
  {
   "cell_type": "code",
   "execution_count": 196,
   "metadata": {},
   "outputs": [
    {
     "data": {
      "text/html": [
       "<div>\n",
       "<style scoped>\n",
       "    .dataframe tbody tr th:only-of-type {\n",
       "        vertical-align: middle;\n",
       "    }\n",
       "\n",
       "    .dataframe tbody tr th {\n",
       "        vertical-align: top;\n",
       "    }\n",
       "\n",
       "    .dataframe thead th {\n",
       "        text-align: right;\n",
       "    }\n",
       "</style>\n",
       "<table border=\"1\" class=\"dataframe\">\n",
       "  <thead>\n",
       "    <tr style=\"text-align: right;\">\n",
       "      <th></th>\n",
       "      <th>Уровень_1</th>\n",
       "      <th>Наборы_Ур_1</th>\n",
       "    </tr>\n",
       "  </thead>\n",
       "  <tbody>\n",
       "    <tr>\n",
       "      <th>0</th>\n",
       "      <td>Загрузка белья для стирки и отжима_1) 3.0-6.0</td>\n",
       "      <td>{'Ширина_51 см', 'Звуковой сигнал окончания ст...</td>\n",
       "    </tr>\n",
       "    <tr>\n",
       "      <th>1</th>\n",
       "      <td>Загрузка белья для стирки и отжима_1) 3.0-6.0 ...</td>\n",
       "      <td>{'Уровень шума при отжиме_77 дБ', 'Глубина_33 ...</td>\n",
       "    </tr>\n",
       "  </tbody>\n",
       "</table>\n",
       "</div>"
      ],
      "text/plain": [
       "                                           Уровень_1  \\\n",
       "0      Загрузка белья для стирки и отжима_1) 3.0-6.0   \n",
       "1  Загрузка белья для стирки и отжима_1) 3.0-6.0 ...   \n",
       "\n",
       "                                         Наборы_Ур_1  \n",
       "0  {'Ширина_51 см', 'Звуковой сигнал окончания ст...  \n",
       "1  {'Уровень шума при отжиме_77 дБ', 'Глубина_33 ...  "
      ]
     },
     "metadata": {},
     "output_type": "display_data"
    },
    {
     "data": {
      "text/html": [
       "<div>\n",
       "<style scoped>\n",
       "    .dataframe tbody tr th:only-of-type {\n",
       "        vertical-align: middle;\n",
       "    }\n",
       "\n",
       "    .dataframe tbody tr th {\n",
       "        vertical-align: top;\n",
       "    }\n",
       "\n",
       "    .dataframe thead th {\n",
       "        text-align: right;\n",
       "    }\n",
       "</style>\n",
       "<table border=\"1\" class=\"dataframe\">\n",
       "  <thead>\n",
       "    <tr style=\"text-align: right;\">\n",
       "      <th></th>\n",
       "      <th>Уровень_1</th>\n",
       "      <th>Уровень_2</th>\n",
       "      <th>Наборы_Ур_2_коды</th>\n",
       "    </tr>\n",
       "  </thead>\n",
       "  <tbody>\n",
       "    <tr>\n",
       "      <th>0</th>\n",
       "      <td>Загрузка белья для стирки и отжима_1) 3.0-6.0</td>\n",
       "      <td>Загрузка белья для стирки и отжима_1) 3.0-6.0</td>\n",
       "      <td>{'127391', '34387', '34403', '122408054', '673...</td>\n",
       "    </tr>\n",
       "    <tr>\n",
       "      <th>1</th>\n",
       "      <td>Загрузка белья для стирки и отжима_1) 3.0-6.0</td>\n",
       "      <td>Загрузка белья для стирки и отжима_1) 3.0-6.0 ...</td>\n",
       "      <td>{'34471', '34467', '34362', '127386', '1370605...</td>\n",
       "    </tr>\n",
       "  </tbody>\n",
       "</table>\n",
       "</div>"
      ],
      "text/plain": [
       "                                       Уровень_1  \\\n",
       "0  Загрузка белья для стирки и отжима_1) 3.0-6.0   \n",
       "1  Загрузка белья для стирки и отжима_1) 3.0-6.0   \n",
       "\n",
       "                                           Уровень_2  \\\n",
       "0      Загрузка белья для стирки и отжима_1) 3.0-6.0   \n",
       "1  Загрузка белья для стирки и отжима_1) 3.0-6.0 ...   \n",
       "\n",
       "                                    Наборы_Ур_2_коды  \n",
       "0  {'127391', '34387', '34403', '122408054', '673...  \n",
       "1  {'34471', '34467', '34362', '127386', '1370605...  "
      ]
     },
     "metadata": {},
     "output_type": "display_data"
    },
    {
     "data": {
      "text/html": [
       "<div>\n",
       "<style scoped>\n",
       "    .dataframe tbody tr th:only-of-type {\n",
       "        vertical-align: middle;\n",
       "    }\n",
       "\n",
       "    .dataframe tbody tr th {\n",
       "        vertical-align: top;\n",
       "    }\n",
       "\n",
       "    .dataframe thead th {\n",
       "        text-align: right;\n",
       "    }\n",
       "</style>\n",
       "<table border=\"1\" class=\"dataframe\">\n",
       "  <thead>\n",
       "    <tr style=\"text-align: right;\">\n",
       "      <th></th>\n",
       "      <th>Уровень_1</th>\n",
       "      <th>Уровень_2</th>\n",
       "      <th>Уровень_3</th>\n",
       "      <th>Наборы_Ур_3_коды</th>\n",
       "    </tr>\n",
       "  </thead>\n",
       "  <tbody>\n",
       "    <tr>\n",
       "      <th>0</th>\n",
       "      <td>Загрузка белья для стирки и отжима_1) 3.0-6.0</td>\n",
       "      <td>Загрузка белья для стирки и отжима_1) 3.0-6.0</td>\n",
       "      <td>Загрузка белья для стирки и отжима_1) 3.0-6.0 ...</td>\n",
       "      <td>{'127391', '34387', '34403', '122408054', '673...</td>\n",
       "    </tr>\n",
       "    <tr>\n",
       "      <th>1</th>\n",
       "      <td>Загрузка белья для стирки и отжима_1) 3.0-6.0</td>\n",
       "      <td>Загрузка белья для стирки и отжима_1) 3.0-6.0 ...</td>\n",
       "      <td>Загрузка белья для стирки и отжима_1) 3.0-6.0 ...</td>\n",
       "      <td>{'34387', '34403', '673143', '56836560', '3446...</td>\n",
       "    </tr>\n",
       "  </tbody>\n",
       "</table>\n",
       "</div>"
      ],
      "text/plain": [
       "                                       Уровень_1  \\\n",
       "0  Загрузка белья для стирки и отжима_1) 3.0-6.0   \n",
       "1  Загрузка белья для стирки и отжима_1) 3.0-6.0   \n",
       "\n",
       "                                           Уровень_2  \\\n",
       "0      Загрузка белья для стирки и отжима_1) 3.0-6.0   \n",
       "1  Загрузка белья для стирки и отжима_1) 3.0-6.0 ...   \n",
       "\n",
       "                                           Уровень_3  \\\n",
       "0  Загрузка белья для стирки и отжима_1) 3.0-6.0 ...   \n",
       "1  Загрузка белья для стирки и отжима_1) 3.0-6.0 ...   \n",
       "\n",
       "                                    Наборы_Ур_3_коды  \n",
       "0  {'127391', '34387', '34403', '122408054', '673...  \n",
       "1  {'34387', '34403', '673143', '56836560', '3446...  "
      ]
     },
     "metadata": {},
     "output_type": "display_data"
    }
   ],
   "source": [
    "lvl_1_selection_view = get_selection(df_full_join, 'Уровень_1', 'Вид_Значение', 'Наборы_Ур_1')\n",
    "lvl_1_selection_code = get_selection(df_full_join, 'Уровень_1', 'КодХарактеристики', 'Наборы_Ур_1_коды')\n",
    "display(lvl_1_selection_view.head(2))\n",
    "\n",
    "lvl_2_selection_view = get_selection(df_full_join, ['Уровень_1','Уровень_2'], 'Вид_Значение', 'Наборы_Ур_2')\n",
    "lvl_2_selection_code = get_selection(df_full_join, ['Уровень_1','Уровень_2'], 'КодХарактеристики', 'Наборы_Ур_2_коды')\n",
    "display(lvl_2_selection_code.head(2))\n",
    "\n",
    "lvl_3_selection_view = get_selection(df_full_join, ['Уровень_1','Уровень_2','Уровень_3'], 'Вид_Значение', 'Наборы_Ур_3')\n",
    "lvl_3_selection_code = get_selection(df_full_join, ['Уровень_1','Уровень_2','Уровень_3'], 'КодХарактеристики', 'Наборы_Ур_3_коды')\n",
    "display(lvl_3_selection_code.head(2))"
   ]
  },
  {
   "cell_type": "markdown",
   "metadata": {},
   "source": [
    "По наборам в дальнейшем будет происходить классификация нового товара, который сейчас не участвует в формировании сегментов."
   ]
  },
  {
   "cell_type": "markdown",
   "metadata": {},
   "source": [
    "## Выгрузка модели"
   ]
  },
  {
   "cell_type": "code",
   "execution_count": 197,
   "metadata": {},
   "outputs": [
    {
     "data": {
      "text/html": [
       "<div>\n",
       "<style scoped>\n",
       "    .dataframe tbody tr th:only-of-type {\n",
       "        vertical-align: middle;\n",
       "    }\n",
       "\n",
       "    .dataframe tbody tr th {\n",
       "        vertical-align: top;\n",
       "    }\n",
       "\n",
       "    .dataframe thead th {\n",
       "        text-align: right;\n",
       "    }\n",
       "</style>\n",
       "<table border=\"1\" class=\"dataframe\">\n",
       "  <thead>\n",
       "    <tr style=\"text-align: right;\">\n",
       "      <th></th>\n",
       "      <th>Уровень_1</th>\n",
       "      <th>Уровень_2</th>\n",
       "      <th>Уровень_3</th>\n",
       "      <th>Наборы_Ур_1</th>\n",
       "      <th>Наборы_Ур_1_коды</th>\n",
       "      <th>Наборы_Ур_2</th>\n",
       "      <th>Наборы_Ур_2_коды</th>\n",
       "      <th>Наборы_Ур_3</th>\n",
       "      <th>Наборы_Ур_3_коды</th>\n",
       "    </tr>\n",
       "    <tr>\n",
       "      <th>КодТовара</th>\n",
       "      <th></th>\n",
       "      <th></th>\n",
       "      <th></th>\n",
       "      <th></th>\n",
       "      <th></th>\n",
       "      <th></th>\n",
       "      <th></th>\n",
       "      <th></th>\n",
       "      <th></th>\n",
       "    </tr>\n",
       "  </thead>\n",
       "  <tbody>\n",
       "    <tr>\n",
       "      <th>1027919</th>\n",
       "      <td>Загрузка белья для стирки и отжима_2) 6.0-7.0 ...</td>\n",
       "      <td>Загрузка белья для стирки и отжима_2) 6.0-7.0 ...</td>\n",
       "      <td>Загрузка белья для стирки и отжима_2) 6.0-7.0 ...</td>\n",
       "      <td>{'Глубина_46 см', 'Звуковой сигнал окончания с...</td>\n",
       "      <td>{'34471', '34467', '34390', '34362', '68367428...</td>\n",
       "      <td>{'Звуковой сигнал окончания стирки_нет', 'Звук...</td>\n",
       "      <td>{'34471', '34390', '34362', '34405', '123304',...</td>\n",
       "      <td>{'Класс энергопотребления_A', 'Защита от проте...</td>\n",
       "      <td>{'34431', '34405', '34471', '123304', '34390',...</td>\n",
       "    </tr>\n",
       "    <tr>\n",
       "      <th>9031756</th>\n",
       "      <td>Загрузка белья для стирки и отжима_2) 6.0-7.0 ...</td>\n",
       "      <td>Загрузка белья для стирки и отжима_2) 6.0-7.0 ...</td>\n",
       "      <td>Загрузка белья для стирки и отжима_2) 6.0-7.0 ...</td>\n",
       "      <td>{'Глубина_46 см', 'Звуковой сигнал окончания с...</td>\n",
       "      <td>{'34471', '34467', '34390', '34362', '68367428...</td>\n",
       "      <td>{'Звуковой сигнал окончания стирки_нет', 'Звук...</td>\n",
       "      <td>{'34471', '34390', '34362', '34405', '123304',...</td>\n",
       "      <td>{'Уровень шума при отжиме_78 дБ', 'Защита от п...</td>\n",
       "      <td>{'34469', '34387', '34389', '34225', '123304',...</td>\n",
       "    </tr>\n",
       "    <tr>\n",
       "      <th>9958884</th>\n",
       "      <td>Загрузка белья для стирки и отжима_2) 6.0-7.0 ...</td>\n",
       "      <td>Загрузка белья для стирки и отжима_2) 6.0-7.0 ...</td>\n",
       "      <td>Загрузка белья для стирки и отжима_2) 6.0-7.0 ...</td>\n",
       "      <td>{'Глубина_46 см', 'Звуковой сигнал окончания с...</td>\n",
       "      <td>{'34471', '34467', '34390', '34362', '68367428...</td>\n",
       "      <td>{'Звуковой сигнал окончания стирки_нет', 'Звук...</td>\n",
       "      <td>{'34471', '34390', '34362', '34405', '123304',...</td>\n",
       "      <td>{'Уровень шума при отжиме_78 дБ', 'Защита от п...</td>\n",
       "      <td>{'34469', '34387', '34389', '34225', '123304',...</td>\n",
       "    </tr>\n",
       "  </tbody>\n",
       "</table>\n",
       "</div>"
      ],
      "text/plain": [
       "                                                   Уровень_1  \\\n",
       "КодТовара                                                      \n",
       "1027919    Загрузка белья для стирки и отжима_2) 6.0-7.0 ...   \n",
       "9031756    Загрузка белья для стирки и отжима_2) 6.0-7.0 ...   \n",
       "9958884    Загрузка белья для стирки и отжима_2) 6.0-7.0 ...   \n",
       "\n",
       "                                                   Уровень_2  \\\n",
       "КодТовара                                                      \n",
       "1027919    Загрузка белья для стирки и отжима_2) 6.0-7.0 ...   \n",
       "9031756    Загрузка белья для стирки и отжима_2) 6.0-7.0 ...   \n",
       "9958884    Загрузка белья для стирки и отжима_2) 6.0-7.0 ...   \n",
       "\n",
       "                                                   Уровень_3  \\\n",
       "КодТовара                                                      \n",
       "1027919    Загрузка белья для стирки и отжима_2) 6.0-7.0 ...   \n",
       "9031756    Загрузка белья для стирки и отжима_2) 6.0-7.0 ...   \n",
       "9958884    Загрузка белья для стирки и отжима_2) 6.0-7.0 ...   \n",
       "\n",
       "                                                 Наборы_Ур_1  \\\n",
       "КодТовара                                                      \n",
       "1027919    {'Глубина_46 см', 'Звуковой сигнал окончания с...   \n",
       "9031756    {'Глубина_46 см', 'Звуковой сигнал окончания с...   \n",
       "9958884    {'Глубина_46 см', 'Звуковой сигнал окончания с...   \n",
       "\n",
       "                                            Наборы_Ур_1_коды  \\\n",
       "КодТовара                                                      \n",
       "1027919    {'34471', '34467', '34390', '34362', '68367428...   \n",
       "9031756    {'34471', '34467', '34390', '34362', '68367428...   \n",
       "9958884    {'34471', '34467', '34390', '34362', '68367428...   \n",
       "\n",
       "                                                 Наборы_Ур_2  \\\n",
       "КодТовара                                                      \n",
       "1027919    {'Звуковой сигнал окончания стирки_нет', 'Звук...   \n",
       "9031756    {'Звуковой сигнал окончания стирки_нет', 'Звук...   \n",
       "9958884    {'Звуковой сигнал окончания стирки_нет', 'Звук...   \n",
       "\n",
       "                                            Наборы_Ур_2_коды  \\\n",
       "КодТовара                                                      \n",
       "1027919    {'34471', '34390', '34362', '34405', '123304',...   \n",
       "9031756    {'34471', '34390', '34362', '34405', '123304',...   \n",
       "9958884    {'34471', '34390', '34362', '34405', '123304',...   \n",
       "\n",
       "                                                 Наборы_Ур_3  \\\n",
       "КодТовара                                                      \n",
       "1027919    {'Класс энергопотребления_A', 'Защита от проте...   \n",
       "9031756    {'Уровень шума при отжиме_78 дБ', 'Защита от п...   \n",
       "9958884    {'Уровень шума при отжиме_78 дБ', 'Защита от п...   \n",
       "\n",
       "                                            Наборы_Ур_3_коды  \n",
       "КодТовара                                                     \n",
       "1027919    {'34431', '34405', '34471', '123304', '34390',...  \n",
       "9031756    {'34469', '34387', '34389', '34225', '123304',...  \n",
       "9958884    {'34469', '34387', '34389', '34225', '123304',...  "
      ]
     },
     "execution_count": 197,
     "metadata": {},
     "output_type": "execute_result"
    }
   ],
   "source": [
    "# # Добавляю столбцы наборов в общий дф\n",
    "df_full = pd.merge(df_full_copy.dropna(how='any'), lvl_1_selection_view, on='Уровень_1')\n",
    "df_full = pd.merge(df_full, lvl_1_selection_code, on='Уровень_1')\n",
    "df_full = pd.merge(df_full, lvl_2_selection_view, on=['Уровень_1', 'Уровень_2'])\n",
    "df_full = pd.merge(df_full, lvl_2_selection_code, on=['Уровень_1', 'Уровень_2'])\n",
    "df_full = pd.merge(df_full, lvl_3_selection_view, on=['Уровень_1', 'Уровень_2','Уровень_3'])\n",
    "df_full = pd.merge(df_full, lvl_3_selection_code, on=['Уровень_1', 'Уровень_2','Уровень_3'])   \n",
    "df_full = df_full.set_index('КодТовара')\n",
    "df_full.head(3)"
   ]
  },
  {
   "cell_type": "code",
   "execution_count": 198,
   "metadata": {},
   "outputs": [],
   "source": [
    "# Модель сегментации готова!\n",
    "# Её можно выгрузить в Excel для ознакомления с ней заказчика. Например, можно сформировать сводную\n",
    "# таблицу с иерархией сегментов, и посмотреть, какой товар туда вошел\n",
    "with pd.ExcelWriter(f\"data/Тестовая_модель_по_{category_name}.xlsx\") as writer:\n",
    "    df_full.to_excel(writer, sheet_name=\"Sheet1\")"
   ]
  },
  {
   "cell_type": "markdown",
   "metadata": {},
   "source": [
    "# 6. Блок настройки данных для последующей классификации нового товара."
   ]
  },
  {
   "cell_type": "code",
   "execution_count": 199,
   "metadata": {},
   "outputs": [
    {
     "data": {
      "text/html": [
       "<div>\n",
       "<style scoped>\n",
       "    .dataframe tbody tr th:only-of-type {\n",
       "        vertical-align: middle;\n",
       "    }\n",
       "\n",
       "    .dataframe tbody tr th {\n",
       "        vertical-align: top;\n",
       "    }\n",
       "\n",
       "    .dataframe thead th {\n",
       "        text-align: right;\n",
       "    }\n",
       "</style>\n",
       "<table border=\"1\" class=\"dataframe\">\n",
       "  <thead>\n",
       "    <tr style=\"text-align: right;\">\n",
       "      <th></th>\n",
       "      <th>Уровень_1</th>\n",
       "      <th>Уровень_2</th>\n",
       "      <th>Уровень_3</th>\n",
       "      <th>Наборы_Ур_1</th>\n",
       "      <th>Наборы_Ур_2</th>\n",
       "      <th>Наборы_Ур_3</th>\n",
       "      <th>Наборы_Ур_1_коды</th>\n",
       "      <th>Наборы_Ур_2_коды</th>\n",
       "      <th>Наборы_Ур_3_коды</th>\n",
       "    </tr>\n",
       "  </thead>\n",
       "  <tbody>\n",
       "    <tr>\n",
       "      <th>0</th>\n",
       "      <td>Загрузка белья для стирки и отжима_2) 6.0-7.0 ...</td>\n",
       "      <td>Загрузка белья для стирки и отжима_2) 6.0-7.0 ...</td>\n",
       "      <td>Загрузка белья для стирки и отжима_2) 6.0-7.0 ...</td>\n",
       "      <td>{'Глубина_46 см', 'Звуковой сигнал окончания с...</td>\n",
       "      <td>{'Звуковой сигнал окончания стирки_нет', 'Звук...</td>\n",
       "      <td>{'Класс энергопотребления_A', 'Защита от проте...</td>\n",
       "      <td>{'34471', '34467', '34390', '34362', '68367428...</td>\n",
       "      <td>{'34471', '34390', '34362', '34405', '123304',...</td>\n",
       "      <td>{'34431', '34405', '34471', '123304', '34390',...</td>\n",
       "    </tr>\n",
       "    <tr>\n",
       "      <th>1</th>\n",
       "      <td>Загрузка белья для стирки и отжима_2) 6.0-7.0 ...</td>\n",
       "      <td>Загрузка белья для стирки и отжима_2) 6.0-7.0 ...</td>\n",
       "      <td>Загрузка белья для стирки и отжима_2) 6.0-7.0 ...</td>\n",
       "      <td>{'Глубина_46 см', 'Звуковой сигнал окончания с...</td>\n",
       "      <td>{'Звуковой сигнал окончания стирки_нет', 'Звук...</td>\n",
       "      <td>{'Уровень шума при отжиме_78 дБ', 'Защита от п...</td>\n",
       "      <td>{'34471', '34467', '34390', '34362', '68367428...</td>\n",
       "      <td>{'34471', '34390', '34362', '34405', '123304',...</td>\n",
       "      <td>{'34469', '34387', '34389', '34225', '123304',...</td>\n",
       "    </tr>\n",
       "    <tr>\n",
       "      <th>2</th>\n",
       "      <td>Загрузка белья для стирки и отжима_2) 6.0-7.0 ...</td>\n",
       "      <td>Загрузка белья для стирки и отжима_2) 6.0-7.0 ...</td>\n",
       "      <td>Загрузка белья для стирки и отжима_2) 6.0-7.0 ...</td>\n",
       "      <td>{'Глубина_46 см', 'Звуковой сигнал окончания с...</td>\n",
       "      <td>{'Глубина_46 см', 'Звуковой сигнал окончания с...</td>\n",
       "      <td>{'Глубина_46 см', 'Звуковой сигнал окончания с...</td>\n",
       "      <td>{'34471', '34467', '34390', '34362', '68367428...</td>\n",
       "      <td>{'34471', '34467', '34362', '127386', '127334'...</td>\n",
       "      <td>{'34471', '34467', '34362', '127386', '127334'...</td>\n",
       "    </tr>\n",
       "  </tbody>\n",
       "</table>\n",
       "</div>"
      ],
      "text/plain": [
       "                                           Уровень_1  \\\n",
       "0  Загрузка белья для стирки и отжима_2) 6.0-7.0 ...   \n",
       "1  Загрузка белья для стирки и отжима_2) 6.0-7.0 ...   \n",
       "2  Загрузка белья для стирки и отжима_2) 6.0-7.0 ...   \n",
       "\n",
       "                                           Уровень_2  \\\n",
       "0  Загрузка белья для стирки и отжима_2) 6.0-7.0 ...   \n",
       "1  Загрузка белья для стирки и отжима_2) 6.0-7.0 ...   \n",
       "2  Загрузка белья для стирки и отжима_2) 6.0-7.0 ...   \n",
       "\n",
       "                                           Уровень_3  \\\n",
       "0  Загрузка белья для стирки и отжима_2) 6.0-7.0 ...   \n",
       "1  Загрузка белья для стирки и отжима_2) 6.0-7.0 ...   \n",
       "2  Загрузка белья для стирки и отжима_2) 6.0-7.0 ...   \n",
       "\n",
       "                                         Наборы_Ур_1  \\\n",
       "0  {'Глубина_46 см', 'Звуковой сигнал окончания с...   \n",
       "1  {'Глубина_46 см', 'Звуковой сигнал окончания с...   \n",
       "2  {'Глубина_46 см', 'Звуковой сигнал окончания с...   \n",
       "\n",
       "                                         Наборы_Ур_2  \\\n",
       "0  {'Звуковой сигнал окончания стирки_нет', 'Звук...   \n",
       "1  {'Звуковой сигнал окончания стирки_нет', 'Звук...   \n",
       "2  {'Глубина_46 см', 'Звуковой сигнал окончания с...   \n",
       "\n",
       "                                         Наборы_Ур_3  \\\n",
       "0  {'Класс энергопотребления_A', 'Защита от проте...   \n",
       "1  {'Уровень шума при отжиме_78 дБ', 'Защита от п...   \n",
       "2  {'Глубина_46 см', 'Звуковой сигнал окончания с...   \n",
       "\n",
       "                                    Наборы_Ур_1_коды  \\\n",
       "0  {'34471', '34467', '34390', '34362', '68367428...   \n",
       "1  {'34471', '34467', '34390', '34362', '68367428...   \n",
       "2  {'34471', '34467', '34390', '34362', '68367428...   \n",
       "\n",
       "                                    Наборы_Ур_2_коды  \\\n",
       "0  {'34471', '34390', '34362', '34405', '123304',...   \n",
       "1  {'34471', '34390', '34362', '34405', '123304',...   \n",
       "2  {'34471', '34467', '34362', '127386', '127334'...   \n",
       "\n",
       "                                    Наборы_Ур_3_коды  \n",
       "0  {'34431', '34405', '34471', '123304', '34390',...  \n",
       "1  {'34469', '34387', '34389', '34225', '123304',...  \n",
       "2  {'34471', '34467', '34362', '127386', '127334'...  "
      ]
     },
     "execution_count": 199,
     "metadata": {},
     "output_type": "execute_result"
    }
   ],
   "source": [
    "# Оставляем сегменты без товара\n",
    "df_for_import = df_full.dropna(how='any')\n",
    "df_for_import = df_for_import[['Уровень_1', 'Уровень_2', 'Уровень_3', 'Наборы_Ур_1', 'Наборы_Ур_2', 'Наборы_Ур_3', 'Наборы_Ур_1_коды', 'Наборы_Ур_2_коды', 'Наборы_Ур_3_коды']]\n",
    "df_for_import = df_for_import.drop_duplicates(subset = ['Уровень_1', 'Уровень_2', 'Уровень_3']).reset_index(drop=True)\n",
    "df_for_import.head(3)\n"
   ]
  },
  {
   "cell_type": "code",
   "execution_count": 200,
   "metadata": {},
   "outputs": [],
   "source": [
    "# Разделение по уровням с удалением дубликатов\n",
    "df_code_collumns_lvl_1 = df_for_import[['Уровень_1', 'Наборы_Ур_1', 'Наборы_Ур_1_коды']].drop_duplicates()\n",
    "df_code_collumns_lvl_1['НомерУровня'] = 1\n",
    "df_code_collumns_lvl_2 = df_for_import[['Уровень_1', 'Наборы_Ур_1', 'Наборы_Ур_1_коды', 'Уровень_2', 'Наборы_Ур_2', 'Наборы_Ур_2_коды']].drop_duplicates()\n",
    "df_code_collumns_lvl_2['НомерУровня'] = 2\n",
    "df_code_collumns_lvl_3 = df_for_import.drop_duplicates()\n",
    "df_code_collumns_lvl_3['НомерУровня'] = 3"
   ]
  },
  {
   "cell_type": "markdown",
   "metadata": {},
   "source": [
    "### Сборка в новую структуру"
   ]
  },
  {
   "cell_type": "code",
   "execution_count": 201,
   "metadata": {},
   "outputs": [
    {
     "data": {
      "text/html": [
       "<div>\n",
       "<style scoped>\n",
       "    .dataframe tbody tr th:only-of-type {\n",
       "        vertical-align: middle;\n",
       "    }\n",
       "\n",
       "    .dataframe tbody tr th {\n",
       "        vertical-align: top;\n",
       "    }\n",
       "\n",
       "    .dataframe thead th {\n",
       "        text-align: right;\n",
       "    }\n",
       "</style>\n",
       "<table border=\"1\" class=\"dataframe\">\n",
       "  <thead>\n",
       "    <tr style=\"text-align: right;\">\n",
       "      <th></th>\n",
       "      <th>Сегмент</th>\n",
       "      <th>Характеристики</th>\n",
       "      <th>КодыХарактеристик</th>\n",
       "      <th>НомерУровня</th>\n",
       "    </tr>\n",
       "  </thead>\n",
       "  <tbody>\n",
       "    <tr>\n",
       "      <th>0</th>\n",
       "      <td>Загрузка белья для стирки и отжима_2) 6.0-7.0 ...</td>\n",
       "      <td>{'Глубина_46 см', 'Звуковой сигнал окончания с...</td>\n",
       "      <td>{'34471', '34467', '34390', '34362', '68367428...</td>\n",
       "      <td>1</td>\n",
       "    </tr>\n",
       "    <tr>\n",
       "      <th>1</th>\n",
       "      <td>Загрузка белья для стирки и отжима_2) 6.0-7.0 ...</td>\n",
       "      <td>{'Глубина_41 см', 'Уровень шума при отжиме_79 ...</td>\n",
       "      <td>{'439245', '34471', '34390', '34362', '34361',...</td>\n",
       "      <td>1</td>\n",
       "    </tr>\n",
       "    <tr>\n",
       "      <th>2</th>\n",
       "      <td>Загрузка белья для стирки и отжима_2) 6.0-7.0 ...</td>\n",
       "      <td>{'Звуковой сигнал окончания стирки_есть', 'Глу...</td>\n",
       "      <td>{'34471', '34467', '56714897', '34390', '34362...</td>\n",
       "      <td>1</td>\n",
       "    </tr>\n",
       "  </tbody>\n",
       "</table>\n",
       "</div>"
      ],
      "text/plain": [
       "                                             Сегмент  \\\n",
       "0  Загрузка белья для стирки и отжима_2) 6.0-7.0 ...   \n",
       "1  Загрузка белья для стирки и отжима_2) 6.0-7.0 ...   \n",
       "2  Загрузка белья для стирки и отжима_2) 6.0-7.0 ...   \n",
       "\n",
       "                                      Характеристики  \\\n",
       "0  {'Глубина_46 см', 'Звуковой сигнал окончания с...   \n",
       "1  {'Глубина_41 см', 'Уровень шума при отжиме_79 ...   \n",
       "2  {'Звуковой сигнал окончания стирки_есть', 'Глу...   \n",
       "\n",
       "                                   КодыХарактеристик  НомерУровня  \n",
       "0  {'34471', '34467', '34390', '34362', '68367428...            1  \n",
       "1  {'439245', '34471', '34390', '34362', '34361',...            1  \n",
       "2  {'34471', '34467', '56714897', '34390', '34362...            1  "
      ]
     },
     "execution_count": 201,
     "metadata": {},
     "output_type": "execute_result"
    }
   ],
   "source": [
    "df_code_collumns_lvl_1 = df_code_collumns_lvl_1.rename(columns={'Уровень_1': 'Сегмент', 'Наборы_Ур_1': 'Характеристики', 'Наборы_Ур_1_коды': 'КодыХарактеристик'})\n",
    "df_code_collumns_lvl_2 = df_code_collumns_lvl_2.drop(columns=['Уровень_1', 'Наборы_Ур_1', 'Наборы_Ур_1_коды']).rename(\n",
    "    columns={'Уровень_2': 'Сегмент', 'Наборы_Ур_2': 'Характеристики', 'Наборы_Ур_2_коды': 'КодыХарактеристик'})\n",
    "df_code_collumns_lvl_3 = df_code_collumns_lvl_3[['Уровень_3', 'Наборы_Ур_3', 'Наборы_Ур_3_коды', 'НомерУровня']].rename(\n",
    "    columns={'Уровень_3': 'Сегмент', 'Наборы_Ур_3': 'Характеристики', 'Наборы_Ур_3_коды': 'КодыХарактеристик'})\n",
    "\n",
    "df_code_collumns_import = pd.concat(\n",
    "    [df_code_collumns_lvl_1, df_code_collumns_lvl_2, df_code_collumns_lvl_3],\n",
    "    ignore_index=True\n",
    "    )\n",
    "df_code_collumns_import = df_code_collumns_import.drop_duplicates(ignore_index=True)\n",
    "df_code_collumns_import.head(3)"
   ]
  },
  {
   "cell_type": "code",
   "execution_count": 202,
   "metadata": {},
   "outputs": [
    {
     "data": {
      "text/html": [
       "<div>\n",
       "<style scoped>\n",
       "    .dataframe tbody tr th:only-of-type {\n",
       "        vertical-align: middle;\n",
       "    }\n",
       "\n",
       "    .dataframe tbody tr th {\n",
       "        vertical-align: top;\n",
       "    }\n",
       "\n",
       "    .dataframe thead th {\n",
       "        text-align: right;\n",
       "    }\n",
       "</style>\n",
       "<table border=\"1\" class=\"dataframe\">\n",
       "  <thead>\n",
       "    <tr style=\"text-align: right;\">\n",
       "      <th></th>\n",
       "      <th>Сегмент</th>\n",
       "      <th>Характеристики</th>\n",
       "      <th>КодыХарактеристик</th>\n",
       "      <th>НомерУровня</th>\n",
       "      <th>Power</th>\n",
       "    </tr>\n",
       "  </thead>\n",
       "  <tbody>\n",
       "    <tr>\n",
       "      <th>0</th>\n",
       "      <td>Загрузка белья для стирки и отжима_2) 6.0-7.0 ...</td>\n",
       "      <td>{'Глубина_46 см', 'Звуковой сигнал окончания с...</td>\n",
       "      <td>{'34471', '34467', '34390', '34362', '68367428...</td>\n",
       "      <td>1</td>\n",
       "      <td>3.0</td>\n",
       "    </tr>\n",
       "    <tr>\n",
       "      <th>1</th>\n",
       "      <td>Загрузка белья для стирки и отжима_2) 6.0-7.0 ...</td>\n",
       "      <td>{'Глубина_41 см', 'Уровень шума при отжиме_79 ...</td>\n",
       "      <td>{'439245', '34471', '34390', '34362', '34361',...</td>\n",
       "      <td>1</td>\n",
       "      <td>4.0</td>\n",
       "    </tr>\n",
       "  </tbody>\n",
       "</table>\n",
       "</div>"
      ],
      "text/plain": [
       "                                             Сегмент  \\\n",
       "0  Загрузка белья для стирки и отжима_2) 6.0-7.0 ...   \n",
       "1  Загрузка белья для стирки и отжима_2) 6.0-7.0 ...   \n",
       "\n",
       "                                      Характеристики  \\\n",
       "0  {'Глубина_46 см', 'Звуковой сигнал окончания с...   \n",
       "1  {'Глубина_41 см', 'Уровень шума при отжиме_79 ...   \n",
       "\n",
       "                                   КодыХарактеристик  НомерУровня  Power  \n",
       "0  {'34471', '34467', '34390', '34362', '68367428...            1    3.0  \n",
       "1  {'439245', '34471', '34390', '34362', '34361',...            1    4.0  "
      ]
     },
     "execution_count": 202,
     "metadata": {},
     "output_type": "execute_result"
    }
   ],
   "source": [
    "# Определение силы (плотности) сегмента.\n",
    "# Плотность сегмента определяется количеством характеристик, из которых он состоит. Чем больше характеристик, тем плотнее сегмент.\n",
    "df_code_collumns_import['Power'] = df_code_collumns_import['Сегмент'].apply(lambda x: (len(x) - len(x.replace('//', ''))) / 2 +1)\n",
    "df_code_collumns_import.head(2)"
   ]
  },
  {
   "cell_type": "code",
   "execution_count": 203,
   "metadata": {},
   "outputs": [
    {
     "data": {
      "text/html": [
       "<div>\n",
       "<style scoped>\n",
       "    .dataframe tbody tr th:only-of-type {\n",
       "        vertical-align: middle;\n",
       "    }\n",
       "\n",
       "    .dataframe tbody tr th {\n",
       "        vertical-align: top;\n",
       "    }\n",
       "\n",
       "    .dataframe thead th {\n",
       "        text-align: right;\n",
       "    }\n",
       "</style>\n",
       "<table border=\"1\" class=\"dataframe\">\n",
       "  <thead>\n",
       "    <tr style=\"text-align: right;\">\n",
       "      <th></th>\n",
       "      <th>Сегмент</th>\n",
       "      <th>Характеристики</th>\n",
       "      <th>КодыХарактеристик</th>\n",
       "      <th>НомерУровня</th>\n",
       "      <th>Power</th>\n",
       "      <th>Родитель</th>\n",
       "    </tr>\n",
       "  </thead>\n",
       "  <tbody>\n",
       "    <tr>\n",
       "      <th>0</th>\n",
       "      <td>Загрузка белья для стирки и отжима_2) 6.0-7.0 ...</td>\n",
       "      <td>{'Глубина_46 см', 'Звуковой сигнал окончания с...</td>\n",
       "      <td>{'34471', '34467', '34390', '34362', '68367428...</td>\n",
       "      <td>1</td>\n",
       "      <td>3.0</td>\n",
       "      <td>NaN</td>\n",
       "    </tr>\n",
       "    <tr>\n",
       "      <th>1</th>\n",
       "      <td>Загрузка белья для стирки и отжима_2) 6.0-7.0 ...</td>\n",
       "      <td>{'Глубина_41 см', 'Уровень шума при отжиме_79 ...</td>\n",
       "      <td>{'439245', '34471', '34390', '34362', '34361',...</td>\n",
       "      <td>1</td>\n",
       "      <td>4.0</td>\n",
       "      <td>NaN</td>\n",
       "    </tr>\n",
       "    <tr>\n",
       "      <th>2</th>\n",
       "      <td>Загрузка белья для стирки и отжима_2) 6.0-7.0 ...</td>\n",
       "      <td>{'Звуковой сигнал окончания стирки_есть', 'Глу...</td>\n",
       "      <td>{'34471', '34467', '56714897', '34390', '34362...</td>\n",
       "      <td>1</td>\n",
       "      <td>4.0</td>\n",
       "      <td>NaN</td>\n",
       "    </tr>\n",
       "    <tr>\n",
       "      <th>3</th>\n",
       "      <td>Загрузка белья для стирки и отжима_2) 6.0-7.0 ...</td>\n",
       "      <td>{'Уровень шума при отжиме_79 дБ', 'Звуковой си...</td>\n",
       "      <td>{'439245', '34471', '34390', '34362', '34481',...</td>\n",
       "      <td>1</td>\n",
       "      <td>4.0</td>\n",
       "      <td>NaN</td>\n",
       "    </tr>\n",
       "    <tr>\n",
       "      <th>4</th>\n",
       "      <td>Загрузка белья для стирки и отжима_1) 3.0-6.0 ...</td>\n",
       "      <td>{'Уровень шума при отжиме_77 дБ', 'Глубина_33 ...</td>\n",
       "      <td>{'56714895', '34471', '56714897', '34467', '34...</td>\n",
       "      <td>1</td>\n",
       "      <td>3.0</td>\n",
       "      <td>NaN</td>\n",
       "    </tr>\n",
       "  </tbody>\n",
       "</table>\n",
       "</div>"
      ],
      "text/plain": [
       "                                             Сегмент  \\\n",
       "0  Загрузка белья для стирки и отжима_2) 6.0-7.0 ...   \n",
       "1  Загрузка белья для стирки и отжима_2) 6.0-7.0 ...   \n",
       "2  Загрузка белья для стирки и отжима_2) 6.0-7.0 ...   \n",
       "3  Загрузка белья для стирки и отжима_2) 6.0-7.0 ...   \n",
       "4  Загрузка белья для стирки и отжима_1) 3.0-6.0 ...   \n",
       "\n",
       "                                      Характеристики  \\\n",
       "0  {'Глубина_46 см', 'Звуковой сигнал окончания с...   \n",
       "1  {'Глубина_41 см', 'Уровень шума при отжиме_79 ...   \n",
       "2  {'Звуковой сигнал окончания стирки_есть', 'Глу...   \n",
       "3  {'Уровень шума при отжиме_79 дБ', 'Звуковой си...   \n",
       "4  {'Уровень шума при отжиме_77 дБ', 'Глубина_33 ...   \n",
       "\n",
       "                                   КодыХарактеристик  НомерУровня  Power  \\\n",
       "0  {'34471', '34467', '34390', '34362', '68367428...            1    3.0   \n",
       "1  {'439245', '34471', '34390', '34362', '34361',...            1    4.0   \n",
       "2  {'34471', '34467', '56714897', '34390', '34362...            1    4.0   \n",
       "3  {'439245', '34471', '34390', '34362', '34481',...            1    4.0   \n",
       "4  {'56714895', '34471', '56714897', '34467', '34...            1    3.0   \n",
       "\n",
       "  Родитель  \n",
       "0      NaN  \n",
       "1      NaN  \n",
       "2      NaN  \n",
       "3      NaN  \n",
       "4      NaN  "
      ]
     },
     "execution_count": 203,
     "metadata": {},
     "output_type": "execute_result"
    }
   ],
   "source": [
    "# Деление на фреймы по уровням сегмента\n",
    "df_lwl1 = df_code_collumns_import[df_code_collumns_import['НомерУровня'] == 1]\n",
    "df_lwl2 = df_code_collumns_import[df_code_collumns_import['НомерУровня'] == 2]\n",
    "df_lwl3 = df_code_collumns_import[df_code_collumns_import['НомерУровня'] == 3]\n",
    "# максимальная сила внутри уровня сегмента\n",
    "max_power_1 = df_lwl1['Power'].max()\n",
    "max_power_2 = df_lwl2['Power'].max()\n",
    "max_power_3 = df_lwl3['Power'].max()\n",
    "\n",
    "# Выявить и удалить слабые сегменты. Те что слабее чем предыдущий уровень. И обеспечить уникальность наименований.\n",
    "df_lwl1['Сегмент'] = df_lwl1['Сегмент'].apply(lambda x: category_name + ' // ' + 'Прочее' if x=='Прочее' else x)\n",
    "\n",
    "df_lwl2['Power'] = df_lwl2['Power'].apply(lambda x: np.nan if x<max_power_1 else x)\n",
    "df_lwl2['Сегмент'] = df_lwl2.apply(lambda row: row['Сегмент'] + ' // Прочее' if row['Power']==max_power_1 else row['Сегмент'], axis=1)\n",
    "df_lwl2 = df_lwl2.dropna()\n",
    "\n",
    "df_lwl3['Power'] = df_lwl3['Power'].apply(lambda x: np.nan if x<max_power_2 else x)\n",
    "df_lwl3['Сегмент'] = df_lwl3.apply(lambda row: row['Сегмент'] + ' // Прочее' if row['Power']==max_power_2 else row['Сегмент'], axis=1)\n",
    "df_lwl3 = df_lwl3.dropna()\n",
    "\n",
    "# мини справочники подчиненности\n",
    "df_for_cluster = df_for_import[['Уровень_1', 'Уровень_2']].drop_duplicates()\n",
    "df_for_cells = df_for_import[['Уровень_2', 'Уровень_3']].drop_duplicates()\n",
    "\n",
    "# Объединение в форму для импорта. Добавление родительского столбца.\n",
    "df_lwl1['Родитель'] = np.nan\n",
    "df_merge_lvl_2 = df_lwl2.merge(df_for_cluster, left_on='Сегмент', right_on='Уровень_2', how='inner').drop(columns='Уровень_2').rename(columns={'Уровень_1': 'Родитель'})\n",
    "df_merge_lvl_3 = df_lwl3.merge(df_for_cells, left_on='Сегмент', right_on='Уровень_3', how='inner').drop(columns='Уровень_3').rename(columns={'Уровень_2': 'Родитель'})\n",
    "\n",
    "df_code_collumns_import_v2 = pd.concat([df_lwl1, df_merge_lvl_2, df_merge_lvl_3], axis=0, ignore_index=True)\n",
    "df_code_collumns_import_v2.head()"
   ]
  },
  {
   "cell_type": "code",
   "execution_count": 204,
   "metadata": {},
   "outputs": [
    {
     "name": "stdout",
     "output_type": "stream",
     "text": [
      "Сегменты по категории Стиральная машина с фронтальной загрузкой записаны\n"
     ]
    }
   ],
   "source": [
    " ###### Запись данных для импорта #######\n",
    "\n",
    "# with pd.ExcelWriter(f\"data/Сегменты по категории {category_name}.xlsx\") as writer:\n",
    "#     df_code_collumns_import_v2.to_excel(writer, sheet_name=\"ДляИмпорта\", index=False)\n",
    "    \n",
    "print(f\"Сегменты по категории {category_name} записаны\")"
   ]
  },
  {
   "cell_type": "markdown",
   "metadata": {},
   "source": [
    "# 7. Итоги"
   ]
  },
  {
   "cell_type": "markdown",
   "metadata": {},
   "source": [
    "В данном коде на примере одной категории построена модель данных для сегментации товара на три уровня. Для того чтобы получить сегментацию по всем категориям, на следующем этапе преобразую данный код в скрипт и запущу в цикле по всем категориям.\n",
    "Также подготовлены выходные данные в виде справочника сегментов, обогащенного показателем плотности и родительским столбцом. С помощью этого справочника на следующем этапе будет производиться классификация всего товара, в том числе отсутствующего сейчас на остатках (не участвовавшего в построении модели)."
   ]
  }
 ],
 "metadata": {
  "kernelspec": {
   "display_name": "base",
   "language": "python",
   "name": "python3"
  },
  "language_info": {
   "codemirror_mode": {
    "name": "ipython",
    "version": 3
   },
   "file_extension": ".py",
   "mimetype": "text/x-python",
   "name": "python",
   "nbconvert_exporter": "python",
   "pygments_lexer": "ipython3",
   "version": "3.9.13"
  }
 },
 "nbformat": 4,
 "nbformat_minor": 2
}
