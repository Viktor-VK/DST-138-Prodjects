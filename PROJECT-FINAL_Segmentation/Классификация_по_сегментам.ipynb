{
 "cells": [
  {
   "cell_type": "markdown",
   "metadata": {},
   "source": [
    "# Классификация нового товара по рассчитанным ранее сегментам"
   ]
  },
  {
   "attachments": {},
   "cell_type": "markdown",
   "metadata": {},
   "source": [
    "# 0. Импорт библиотек"
   ]
  },
  {
   "cell_type": "code",
   "execution_count": 115,
   "metadata": {},
   "outputs": [],
   "source": [
    "import pandas as pd\n",
    "import numpy as np\n",
    "import re\n",
    "import datetime\n",
    "import warnings\n",
    "warnings.filterwarnings('ignore')"
   ]
  },
  {
   "cell_type": "markdown",
   "metadata": {},
   "source": [
    "# 1. Загрузка исходников"
   ]
  },
  {
   "cell_type": "markdown",
   "metadata": {},
   "source": [
    "## Приоритеты сайта"
   ]
  },
  {
   "cell_type": "code",
   "execution_count": 116,
   "metadata": {},
   "outputs": [],
   "source": [
    "# Приоритеты характеристик от Сайта\n",
    "Prioritet = pd.read_csv('data\\site_priorities.zip')"
   ]
  },
  {
   "cell_type": "code",
   "execution_count": 117,
   "metadata": {},
   "outputs": [
    {
     "data": {
      "text/html": [
       "<div>\n",
       "<style scoped>\n",
       "    .dataframe tbody tr th:only-of-type {\n",
       "        vertical-align: middle;\n",
       "    }\n",
       "\n",
       "    .dataframe tbody tr th {\n",
       "        vertical-align: top;\n",
       "    }\n",
       "\n",
       "    .dataframe thead th {\n",
       "        text-align: right;\n",
       "    }\n",
       "</style>\n",
       "<table border=\"1\" class=\"dataframe\">\n",
       "  <thead>\n",
       "    <tr style=\"text-align: right;\">\n",
       "      <th></th>\n",
       "      <th>Категория</th>\n",
       "      <th>ID характеристики</th>\n",
       "      <th>Название характеристики</th>\n",
       "      <th>Приоритет</th>\n",
       "      <th>Частота использования, %</th>\n",
       "      <th>Количество кликов</th>\n",
       "    </tr>\n",
       "  </thead>\n",
       "  <tbody>\n",
       "    <tr>\n",
       "      <th>0</th>\n",
       "      <td>Электронные книги</td>\n",
       "      <td>1000</td>\n",
       "      <td>Объем встроенной памяти</td>\n",
       "      <td>720</td>\n",
       "      <td>0.0013</td>\n",
       "      <td>80</td>\n",
       "    </tr>\n",
       "    <tr>\n",
       "      <th>1</th>\n",
       "      <td>Электронные книги</td>\n",
       "      <td>989</td>\n",
       "      <td>Диагональ дисплея</td>\n",
       "      <td>900</td>\n",
       "      <td>0.2591</td>\n",
       "      <td>15525</td>\n",
       "    </tr>\n",
       "  </tbody>\n",
       "</table>\n",
       "</div>"
      ],
      "text/plain": [
       "           Категория  ID характеристики  Название характеристики  Приоритет  \\\n",
       "0  Электронные книги               1000  Объем встроенной памяти        720   \n",
       "1  Электронные книги                989        Диагональ дисплея        900   \n",
       "\n",
       "   Частота использования, %  Количество кликов  \n",
       "0                    0.0013                 80  \n",
       "1                    0.2591              15525  "
      ]
     },
     "execution_count": 117,
     "metadata": {},
     "output_type": "execute_result"
    }
   ],
   "source": [
    "Prioritet.head(2)"
   ]
  },
  {
   "cell_type": "markdown",
   "metadata": {},
   "source": [
    "## Автосегменты из справочника"
   ]
  },
  {
   "cell_type": "code",
   "execution_count": 133,
   "metadata": {},
   "outputs": [
    {
     "data": {
      "text/html": [
       "<div>\n",
       "<style scoped>\n",
       "    .dataframe tbody tr th:only-of-type {\n",
       "        vertical-align: middle;\n",
       "    }\n",
       "\n",
       "    .dataframe tbody tr th {\n",
       "        vertical-align: top;\n",
       "    }\n",
       "\n",
       "    .dataframe thead th {\n",
       "        text-align: right;\n",
       "    }\n",
       "</style>\n",
       "<table border=\"1\" class=\"dataframe\">\n",
       "  <thead>\n",
       "    <tr style=\"text-align: right;\">\n",
       "      <th></th>\n",
       "      <th>Сегмент</th>\n",
       "      <th>Характеристики</th>\n",
       "      <th>КодыХарактеристик</th>\n",
       "      <th>НомерУровня</th>\n",
       "      <th>КодКатегории</th>\n",
       "      <th>Power</th>\n",
       "      <th>Родитель</th>\n",
       "    </tr>\n",
       "  </thead>\n",
       "  <tbody>\n",
       "    <tr>\n",
       "      <th>0</th>\n",
       "      <td>Тип переплета_пластиковые пружины // Максималь...</td>\n",
       "      <td>{'Основной цвет_черный', 'Максимальное кол-во ...</td>\n",
       "      <td>{'92316562', '125748', '494916', '126028', '12...</td>\n",
       "      <td>1</td>\n",
       "      <td>AM18123</td>\n",
       "      <td>2</td>\n",
       "      <td>NaN</td>\n",
       "    </tr>\n",
       "    <tr>\n",
       "      <th>1</th>\n",
       "      <td>Тип переплета_пластиковые пружины</td>\n",
       "      <td>{'Ширина_435 мм', 'Максимальное кол-во перфори...</td>\n",
       "      <td>{'63586425', '106142937', '31392352', '125784'...</td>\n",
       "      <td>1</td>\n",
       "      <td>AM18123</td>\n",
       "      <td>1</td>\n",
       "      <td>NaN</td>\n",
       "    </tr>\n",
       "  </tbody>\n",
       "</table>\n",
       "</div>"
      ],
      "text/plain": [
       "                                             Сегмент  \\\n",
       "0  Тип переплета_пластиковые пружины // Максималь...   \n",
       "1                  Тип переплета_пластиковые пружины   \n",
       "\n",
       "                                      Характеристики  \\\n",
       "0  {'Основной цвет_черный', 'Максимальное кол-во ...   \n",
       "1  {'Ширина_435 мм', 'Максимальное кол-во перфори...   \n",
       "\n",
       "                                   КодыХарактеристик  НомерУровня  \\\n",
       "0  {'92316562', '125748', '494916', '126028', '12...            1   \n",
       "1  {'63586425', '106142937', '31392352', '125784'...            1   \n",
       "\n",
       "  КодКатегории  Power Родитель  \n",
       "0      AM18123      2      NaN  \n",
       "1      AM18123      1      NaN  "
      ]
     },
     "execution_count": 133,
     "metadata": {},
     "output_type": "execute_result"
    }
   ],
   "source": [
    "dim_segment = pd.read_csv('data/dim_auto_segments.zip')\n",
    "dim_segment.head(2)"
   ]
  },
  {
   "cell_type": "code",
   "execution_count": 132,
   "metadata": {},
   "outputs": [
    {
     "data": {
      "text/html": [
       "<div>\n",
       "<style scoped>\n",
       "    .dataframe tbody tr th:only-of-type {\n",
       "        vertical-align: middle;\n",
       "    }\n",
       "\n",
       "    .dataframe tbody tr th {\n",
       "        vertical-align: top;\n",
       "    }\n",
       "\n",
       "    .dataframe thead th {\n",
       "        text-align: right;\n",
       "    }\n",
       "</style>\n",
       "<table border=\"1\" class=\"dataframe\">\n",
       "  <thead>\n",
       "    <tr style=\"text-align: right;\">\n",
       "      <th></th>\n",
       "      <th>Сегмент</th>\n",
       "      <th>Характеристики</th>\n",
       "      <th>КодыХарактеристик</th>\n",
       "      <th>КодКатегории</th>\n",
       "      <th>Родитель</th>\n",
       "    </tr>\n",
       "  </thead>\n",
       "  <tbody>\n",
       "    <tr>\n",
       "      <th>count</th>\n",
       "      <td>38509</td>\n",
       "      <td>38509</td>\n",
       "      <td>38509</td>\n",
       "      <td>38509</td>\n",
       "      <td>33817</td>\n",
       "    </tr>\n",
       "    <tr>\n",
       "      <th>unique</th>\n",
       "      <td>38401</td>\n",
       "      <td>37215</td>\n",
       "      <td>37237</td>\n",
       "      <td>546</td>\n",
       "      <td>14397</td>\n",
       "    </tr>\n",
       "    <tr>\n",
       "      <th>top</th>\n",
       "      <td>Основной цвет_белый</td>\n",
       "      <td>{'Основной цвет_черный'}</td>\n",
       "      <td>{'48365834', '649103', '35644220'}</td>\n",
       "      <td>AM18705</td>\n",
       "      <td>Прочее</td>\n",
       "    </tr>\n",
       "    <tr>\n",
       "      <th>freq</th>\n",
       "      <td>8</td>\n",
       "      <td>5</td>\n",
       "      <td>4</td>\n",
       "      <td>577</td>\n",
       "      <td>896</td>\n",
       "    </tr>\n",
       "  </tbody>\n",
       "</table>\n",
       "</div>"
      ],
      "text/plain": [
       "                    Сегмент            Характеристики  \\\n",
       "count                 38509                     38509   \n",
       "unique                38401                     37215   \n",
       "top     Основной цвет_белый  {'Основной цвет_черный'}   \n",
       "freq                      8                         5   \n",
       "\n",
       "                         КодыХарактеристик КодКатегории Родитель  \n",
       "count                                38509        38509    33817  \n",
       "unique                               37237          546    14397  \n",
       "top     {'48365834', '649103', '35644220'}      AM18705   Прочее  \n",
       "freq                                     4          577      896  "
      ]
     },
     "execution_count": 132,
     "metadata": {},
     "output_type": "execute_result"
    }
   ],
   "source": [
    "dim_segment.describe(include=['object'])"
   ]
  },
  {
   "cell_type": "code",
   "execution_count": 120,
   "metadata": {},
   "outputs": [
    {
     "data": {
      "text/plain": [
       "546"
      ]
     },
     "execution_count": 120,
     "metadata": {},
     "output_type": "execute_result"
    }
   ],
   "source": [
    "list_auto_segments = dim_segment['КодКатегории'].unique()\n",
    "len(list_auto_segments)"
   ]
  },
  {
   "cell_type": "markdown",
   "metadata": {},
   "source": [
    "## Иерархия категорий"
   ]
  },
  {
   "cell_type": "code",
   "execution_count": 134,
   "metadata": {},
   "outputs": [
    {
     "name": "stdout",
     "output_type": "stream",
     "text": [
      "718\n"
     ]
    },
    {
     "data": {
      "text/html": [
       "<div>\n",
       "<style scoped>\n",
       "    .dataframe tbody tr th:only-of-type {\n",
       "        vertical-align: middle;\n",
       "    }\n",
       "\n",
       "    .dataframe tbody tr th {\n",
       "        vertical-align: top;\n",
       "    }\n",
       "\n",
       "    .dataframe thead th {\n",
       "        text-align: right;\n",
       "    }\n",
       "</style>\n",
       "<table border=\"1\" class=\"dataframe\">\n",
       "  <thead>\n",
       "    <tr style=\"text-align: right;\">\n",
       "      <th></th>\n",
       "      <th>Уровень1</th>\n",
       "      <th>Уровень2</th>\n",
       "      <th>Уровень3</th>\n",
       "      <th>Уровень4</th>\n",
       "      <th>КодКатегории</th>\n",
       "    </tr>\n",
       "  </thead>\n",
       "  <tbody>\n",
       "    <tr>\n",
       "      <th>0</th>\n",
       "      <td>05. DIY и Климат</td>\n",
       "      <td>01. Электроинструмент и Садовая техника</td>\n",
       "      <td>04. Клининговый</td>\n",
       "      <td>Стеклоочиститель портативный</td>\n",
       "      <td>EM85913</td>\n",
       "    </tr>\n",
       "    <tr>\n",
       "      <th>1</th>\n",
       "      <td>05. DIY и Климат</td>\n",
       "      <td>01. Электроинструмент и Садовая техника</td>\n",
       "      <td>04. Клининговый</td>\n",
       "      <td>Пылесос строительный</td>\n",
       "      <td>AM24371</td>\n",
       "    </tr>\n",
       "  </tbody>\n",
       "</table>\n",
       "</div>"
      ],
      "text/plain": [
       "           Уровень1                                 Уровень2         Уровень3  \\\n",
       "0  05. DIY и Климат  01. Электроинструмент и Садовая техника  04. Клининговый   \n",
       "1  05. DIY и Климат  01. Электроинструмент и Садовая техника  04. Клининговый   \n",
       "\n",
       "                       Уровень4 КодКатегории  \n",
       "0  Стеклоочиститель портативный      EM85913  \n",
       "1          Пылесос строительный      AM24371  "
      ]
     },
     "execution_count": 134,
     "metadata": {},
     "output_type": "execute_result"
    }
   ],
   "source": [
    "# Преобразование иерархии в датафрейм\n",
    "df_hierarchy = pd.read_csv('data/hierarchy.zip')\n",
    "print(len(df_hierarchy))\n",
    "df_hierarchy.drop(columns='Unnamed: 0').head(2)"
   ]
  },
  {
   "cell_type": "markdown",
   "metadata": {},
   "source": [
    "## КодТовара - КодХарактеристики"
   ]
  },
  {
   "cell_type": "code",
   "execution_count": 122,
   "metadata": {},
   "outputs": [
    {
     "name": "stdout",
     "output_type": "stream",
     "text": [
      "1949760\n"
     ]
    },
    {
     "data": {
      "text/html": [
       "<div>\n",
       "<style scoped>\n",
       "    .dataframe tbody tr th:only-of-type {\n",
       "        vertical-align: middle;\n",
       "    }\n",
       "\n",
       "    .dataframe tbody tr th {\n",
       "        vertical-align: top;\n",
       "    }\n",
       "\n",
       "    .dataframe thead th {\n",
       "        text-align: right;\n",
       "    }\n",
       "</style>\n",
       "<table border=\"1\" class=\"dataframe\">\n",
       "  <thead>\n",
       "    <tr style=\"text-align: right;\">\n",
       "      <th></th>\n",
       "      <th>Код</th>\n",
       "      <th>КодХарактеристики</th>\n",
       "      <th>ВидХарактеристики</th>\n",
       "      <th>КодКатегории</th>\n",
       "    </tr>\n",
       "  </thead>\n",
       "  <tbody>\n",
       "    <tr>\n",
       "      <th>0</th>\n",
       "      <td>9973367</td>\n",
       "      <td>101797563</td>\n",
       "      <td>Диапазон входного напряжения сети</td>\n",
       "      <td>AM18166</td>\n",
       "    </tr>\n",
       "    <tr>\n",
       "      <th>1</th>\n",
       "      <td>9973367</td>\n",
       "      <td>158143</td>\n",
       "      <td>Комплектация</td>\n",
       "      <td>AM18166</td>\n",
       "    </tr>\n",
       "    <tr>\n",
       "      <th>2</th>\n",
       "      <td>9973367</td>\n",
       "      <td>11543</td>\n",
       "      <td>Количество разъемов 15-pin SATA (сервисная)</td>\n",
       "      <td>AM18166</td>\n",
       "    </tr>\n",
       "  </tbody>\n",
       "</table>\n",
       "</div>"
      ],
      "text/plain": [
       "       Код КодХарактеристики                            ВидХарактеристики  \\\n",
       "0  9973367         101797563            Диапазон входного напряжения сети   \n",
       "1  9973367            158143                                 Комплектация   \n",
       "2  9973367             11543  Количество разъемов 15-pin SATA (сервисная)   \n",
       "\n",
       "  КодКатегории  \n",
       "0      AM18166  \n",
       "1      AM18166  \n",
       "2      AM18166  "
      ]
     },
     "execution_count": 122,
     "metadata": {},
     "output_type": "execute_result"
    }
   ],
   "source": [
    "df_dim_product_character = pd.read_csv('data/dim_product_character.zip')\n",
    "print(len(df_dim_product_character))\n",
    "df_dim_product_character = df_dim_product_character.drop(columns='Unnamed: 0').astype('str')\n",
    "df_dim_product_character.head(3)"
   ]
  },
  {
   "cell_type": "code",
   "execution_count": 123,
   "metadata": {},
   "outputs": [
    {
     "name": "stdout",
     "output_type": "stream",
     "text": [
      "<class 'pandas.core.frame.DataFrame'>\n",
      "RangeIndex: 1949760 entries, 0 to 1949759\n",
      "Data columns (total 4 columns):\n",
      " #   Column             Dtype \n",
      "---  ------             ----- \n",
      " 0   Код                object\n",
      " 1   КодХарактеристики  object\n",
      " 2   ВидХарактеристики  object\n",
      " 3   КодКатегории       object\n",
      "dtypes: object(4)\n",
      "memory usage: 59.5+ MB\n"
     ]
    }
   ],
   "source": [
    "df_dim_product_character.info()"
   ]
  },
  {
   "cell_type": "markdown",
   "metadata": {},
   "source": [
    "# 2. Основные настройки и предустановки"
   ]
  },
  {
   "cell_type": "markdown",
   "metadata": {},
   "source": [
    "## Выбор списка ктегорий для загрузки"
   ]
  },
  {
   "cell_type": "code",
   "execution_count": 124,
   "metadata": {},
   "outputs": [
    {
     "data": {
      "text/plain": [
       "['AM18166',\n",
       " 'AM18156',\n",
       " 'AM18165',\n",
       " 'AM18166',\n",
       " 'AM18168',\n",
       " 'AM18171',\n",
       " 'AM18172',\n",
       " 'AM18173',\n",
       " 'AM18176',\n",
       " 'AM18178',\n",
       " 'AM18179',\n",
       " 'AM18180',\n",
       " 'AM18181',\n",
       " 'AM18182',\n",
       " 'AM18200']"
      ]
     },
     "execution_count": 124,
     "metadata": {},
     "output_type": "execute_result"
    }
   ],
   "source": [
    "list_auto_segments = ['AM18166', 'AM18156', 'AM18165', 'AM18166', 'AM18168', 'AM18171', 'AM18172', 'AM18173', \\\n",
    "    'AM18176', 'AM18178', 'AM18179', 'AM18180', 'AM18181', 'AM18182', 'AM18200'] # Выборка из списка категорий\n",
    "list_auto_segments"
   ]
  },
  {
   "cell_type": "markdown",
   "metadata": {},
   "source": [
    "## Функции"
   ]
  },
  {
   "cell_type": "markdown",
   "metadata": {},
   "source": [
    "### Функции преобразования типов данных в таблицах"
   ]
  },
  {
   "cell_type": "code",
   "execution_count": 125,
   "metadata": {},
   "outputs": [],
   "source": [
    "# определяем функцию для преобразования строки в множество\n",
    "def string_to_set(string):\n",
    "    return set(string.split(', '))\n",
    "\n",
    "# определяем функцию для преобразования множества в список\n",
    "def set_to_list(set):\n",
    "    return sorted(list(set))\n",
    "\n",
    "# определяем функцию для преобразования множества в строку\n",
    "def set_to_string(set):\n",
    "    return str(set)\n",
    "\n",
    "# Преобразовать строку во множество и очистить\n",
    "def get_string_to_set_v2(string):\n",
    "    set_1 = set()\n",
    "    for i in string.split(','):\n",
    "        i = i.replace(\"'\", \"\")\n",
    "        i = i.replace(\"{\", \"\")\n",
    "        i = i.replace(\"}\", \"\")\n",
    "        i = i.replace(\" \", \"\")\n",
    "        set_1.add(i)\n",
    "    return(set_1)"
   ]
  },
  {
   "cell_type": "markdown",
   "metadata": {},
   "source": [
    "### Функция выделения видов характеристик"
   ]
  },
  {
   "cell_type": "code",
   "execution_count": 126,
   "metadata": {},
   "outputs": [],
   "source": [
    "def wiew_char_list(x):\n",
    "    wiew_char_list_x = set(x.split(\" // \"))\n",
    "    wiew_char_list_x = [i.split('_')[0] for i in wiew_char_list_x]\n",
    "    wiew_char_list_x = {code.replace(\"'\", \"\") for code in wiew_char_list_x}\n",
    "    return wiew_char_list_x"
   ]
  },
  {
   "cell_type": "markdown",
   "metadata": {},
   "source": [
    "### Функция создания множества характеристик из массива множеств"
   ]
  },
  {
   "cell_type": "code",
   "execution_count": 127,
   "metadata": {},
   "outputs": [],
   "source": [
    "def get_set_char(arr):\n",
    "    set_char = set()\n",
    "    for i in arr:\n",
    "        for j in i:\n",
    "            set_char.add(j)\n",
    "    return set_char"
   ]
  },
  {
   "cell_type": "markdown",
   "metadata": {},
   "source": [
    "### Функция для нахождения пересечения множеств в каждой строке"
   ]
  },
  {
   "cell_type": "code",
   "execution_count": 128,
   "metadata": {},
   "outputs": [],
   "source": [
    "def find_intersection(row):\n",
    "    return row['КодыХарактеристик'].intersection(row['set_char_for_wiew'])"
   ]
  },
  {
   "cell_type": "markdown",
   "metadata": {},
   "source": [
    "### Функция группировки и преобразования в наборы"
   ]
  },
  {
   "cell_type": "code",
   "execution_count": 129,
   "metadata": {},
   "outputs": [],
   "source": [
    "\n",
    "def get_selection(df, lvl, collumn):\n",
    "    df = df.groupby(lvl)[collumn].apply(', '.join).reset_index()\n",
    "    df[collumn] = df[collumn].apply(string_to_set)\n",
    "    return df"
   ]
  },
  {
   "cell_type": "markdown",
   "metadata": {},
   "source": [
    "# 3. Скрипт алгоритма классификации"
   ]
  },
  {
   "cell_type": "code",
   "execution_count": 130,
   "metadata": {},
   "outputs": [
    {
     "name": "stdout",
     "output_type": "stream",
     "text": [
      "\n",
      "Обработка категории : AM18166 Блок питания системного блока\n"
     ]
    },
    {
     "name": "stdout",
     "output_type": "stream",
     "text": [
      "1/15) Категория Блок питания системного блока записана\n",
      "\n",
      "Обработка категории : AM18156 GPS Навигатор\n",
      "Уровень 3 отсутствует в справочнике сегментов\n",
      "2/15) Категория GPS Навигатор записана\n",
      "\n",
      "Обработка категории : AM18165 Корпус\n",
      "3/15) Категория Корпус записана\n",
      "\n",
      "Обработка категории : AM18166 Блок питания системного блока\n",
      "4/15) Категория Блок питания системного блока записана\n",
      "\n",
      "Обработка категории : AM18168 Твердотельный накопитель SSD\n",
      "5/15) Категория Твердотельный накопитель SSD записана\n",
      "\n",
      "Обработка категории : AM18171 Оперативная память\n",
      "6/15) Категория Оперативная память записана\n",
      "\n",
      "Обработка категории : AM18172 Материнская плата\n",
      "7/15) Категория Материнская плата записана\n",
      "\n",
      "Обработка категории : AM18173 Видеокарта\n",
      "8/15) Категория Видеокарта записана\n",
      "\n",
      "Обработка категории : AM18176 Моноблок\n",
      "9/15) Категория Моноблок записана\n",
      "\n",
      "Обработка категории : AM18178 Персональный компьютер офисный\n",
      "10/15) Категория Персональный компьютер офисный записана\n",
      "\n",
      "Обработка категории : AM18179 Микрокомпьютеры, стики, платформы\n",
      "11/15) Категория Микрокомпьютеры, стики, платформы записана\n",
      "\n",
      "Обработка категории : AM18180 Камеры компактные\n",
      "12/15) Категория Камеры компактные записана\n",
      "\n",
      "Обработка категории : AM18181 Камеры беззеркальные\n",
      "13/15) Категория Камеры беззеркальные записана\n",
      "\n",
      "Обработка категории : AM18182 Камеры зеркальные\n",
      "14/15) Категория Камеры зеркальные записана\n",
      "\n",
      "Обработка категории : AM18200 Сумки, чехлы для ноутбуков\n",
      "15/15) Категория Сумки, чехлы для ноутбуков записана\n",
      "\n",
      "************************************************\n",
      "Таблица Товар-Сегмент\n",
      "\n",
      "<class 'pandas.core.frame.DataFrame'>\n",
      "RangeIndex: 47670 entries, 0 to 47669\n",
      "Data columns (total 5 columns):\n",
      " #   Column        Non-Null Count  Dtype \n",
      "---  ------        --------------  ----- \n",
      " 0   Код           47670 non-null  object\n",
      " 1   Уровень_1     47670 non-null  object\n",
      " 2   Уровень_2     47670 non-null  object\n",
      " 3   Уровень_3     47670 non-null  object\n",
      " 4   КодКатегории  47670 non-null  object\n",
      "dtypes: object(5)\n",
      "memory usage: 1.8+ MB\n",
      "\n"
     ]
    },
    {
     "data": {
      "text/html": [
       "<div>\n",
       "<style scoped>\n",
       "    .dataframe tbody tr th:only-of-type {\n",
       "        vertical-align: middle;\n",
       "    }\n",
       "\n",
       "    .dataframe tbody tr th {\n",
       "        vertical-align: top;\n",
       "    }\n",
       "\n",
       "    .dataframe thead th {\n",
       "        text-align: right;\n",
       "    }\n",
       "</style>\n",
       "<table border=\"1\" class=\"dataframe\">\n",
       "  <thead>\n",
       "    <tr style=\"text-align: right;\">\n",
       "      <th></th>\n",
       "      <th>Код</th>\n",
       "      <th>Уровень_1</th>\n",
       "      <th>Уровень_2</th>\n",
       "      <th>Уровень_3</th>\n",
       "      <th>КодКатегории</th>\n",
       "    </tr>\n",
       "  </thead>\n",
       "  <tbody>\n",
       "    <tr>\n",
       "      <th>0</th>\n",
       "      <td>1000717</td>\n",
       "      <td>Блок питания системного блока // Прочее</td>\n",
       "      <td>Блок питания системного блока // Прочее // Прочее</td>\n",
       "      <td>Блок питания системного блока // Прочее // Про...</td>\n",
       "      <td>AM18166</td>\n",
       "    </tr>\n",
       "    <tr>\n",
       "      <th>1</th>\n",
       "      <td>1001923</td>\n",
       "      <td>Блок питания системного блока // Прочее</td>\n",
       "      <td>Блок питания системного блока // Прочее // Прочее</td>\n",
       "      <td>Блок питания системного блока // Прочее // Про...</td>\n",
       "      <td>AM18166</td>\n",
       "    </tr>\n",
       "    <tr>\n",
       "      <th>2</th>\n",
       "      <td>1001927</td>\n",
       "      <td>Блок питания системного блока // Прочее</td>\n",
       "      <td>Блок питания системного блока // Прочее // Прочее</td>\n",
       "      <td>Блок питания системного блока // Прочее // Про...</td>\n",
       "      <td>AM18166</td>\n",
       "    </tr>\n",
       "    <tr>\n",
       "      <th>3</th>\n",
       "      <td>1001928</td>\n",
       "      <td>Блок питания системного блока // Прочее</td>\n",
       "      <td>Блок питания системного блока // Прочее // Прочее</td>\n",
       "      <td>Блок питания системного блока // Прочее // Про...</td>\n",
       "      <td>AM18166</td>\n",
       "    </tr>\n",
       "    <tr>\n",
       "      <th>4</th>\n",
       "      <td>1004162</td>\n",
       "      <td>Мощность (номинал)_4) 800.0-1250.0 // Отстегив...</td>\n",
       "      <td>Мощность (номинал)_4) 800.0-1250.0 // Отстегив...</td>\n",
       "      <td>Мощность (номинал)_4) 800.0-1250.0 // Отстегив...</td>\n",
       "      <td>AM18166</td>\n",
       "    </tr>\n",
       "  </tbody>\n",
       "</table>\n",
       "</div>"
      ],
      "text/plain": [
       "       Код                                          Уровень_1  \\\n",
       "0  1000717            Блок питания системного блока // Прочее   \n",
       "1  1001923            Блок питания системного блока // Прочее   \n",
       "2  1001927            Блок питания системного блока // Прочее   \n",
       "3  1001928            Блок питания системного блока // Прочее   \n",
       "4  1004162  Мощность (номинал)_4) 800.0-1250.0 // Отстегив...   \n",
       "\n",
       "                                           Уровень_2  \\\n",
       "0  Блок питания системного блока // Прочее // Прочее   \n",
       "1  Блок питания системного блока // Прочее // Прочее   \n",
       "2  Блок питания системного блока // Прочее // Прочее   \n",
       "3  Блок питания системного блока // Прочее // Прочее   \n",
       "4  Мощность (номинал)_4) 800.0-1250.0 // Отстегив...   \n",
       "\n",
       "                                           Уровень_3 КодКатегории  \n",
       "0  Блок питания системного блока // Прочее // Про...      AM18166  \n",
       "1  Блок питания системного блока // Прочее // Про...      AM18166  \n",
       "2  Блок питания системного блока // Прочее // Про...      AM18166  \n",
       "3  Блок питания системного блока // Прочее // Про...      AM18166  \n",
       "4  Мощность (номинал)_4) 800.0-1250.0 // Отстегив...      AM18166  "
      ]
     },
     "metadata": {},
     "output_type": "display_data"
    },
    {
     "name": "stdout",
     "output_type": "stream",
     "text": [
      "\n",
      "Таблица Справочник Сегментов\n",
      "\n",
      "<class 'pandas.core.frame.DataFrame'>\n",
      "RangeIndex: 1399 entries, 0 to 1398\n",
      "Data columns (total 3 columns):\n",
      " #   Column        Non-Null Count  Dtype \n",
      "---  ------        --------------  ----- \n",
      " 0   Сегмент       1399 non-null   object\n",
      " 1   КодКатегории  1399 non-null   object\n",
      " 2   Уровень       1399 non-null   int64 \n",
      "dtypes: int64(1), object(2)\n",
      "memory usage: 32.9+ KB\n",
      "\n"
     ]
    },
    {
     "data": {
      "text/html": [
       "<div>\n",
       "<style scoped>\n",
       "    .dataframe tbody tr th:only-of-type {\n",
       "        vertical-align: middle;\n",
       "    }\n",
       "\n",
       "    .dataframe tbody tr th {\n",
       "        vertical-align: top;\n",
       "    }\n",
       "\n",
       "    .dataframe thead th {\n",
       "        text-align: right;\n",
       "    }\n",
       "</style>\n",
       "<table border=\"1\" class=\"dataframe\">\n",
       "  <thead>\n",
       "    <tr style=\"text-align: right;\">\n",
       "      <th></th>\n",
       "      <th>Сегмент</th>\n",
       "      <th>КодКатегории</th>\n",
       "      <th>Уровень</th>\n",
       "    </tr>\n",
       "  </thead>\n",
       "  <tbody>\n",
       "    <tr>\n",
       "      <th>0</th>\n",
       "      <td>Сумки, чехлы для ноутбуков // Прочее</td>\n",
       "      <td>AM18200</td>\n",
       "      <td>1</td>\n",
       "    </tr>\n",
       "    <tr>\n",
       "      <th>1</th>\n",
       "      <td>Основной цвет_черный // Материал_нейлон // Вне...</td>\n",
       "      <td>AM18200</td>\n",
       "      <td>1</td>\n",
       "    </tr>\n",
       "    <tr>\n",
       "      <th>2</th>\n",
       "      <td>Основной цвет_черный</td>\n",
       "      <td>AM18200</td>\n",
       "      <td>1</td>\n",
       "    </tr>\n",
       "    <tr>\n",
       "      <th>3</th>\n",
       "      <td>Основной цвет_белый</td>\n",
       "      <td>AM18200</td>\n",
       "      <td>1</td>\n",
       "    </tr>\n",
       "    <tr>\n",
       "      <th>4</th>\n",
       "      <td>Основной цвет_серый</td>\n",
       "      <td>AM18200</td>\n",
       "      <td>1</td>\n",
       "    </tr>\n",
       "  </tbody>\n",
       "</table>\n",
       "</div>"
      ],
      "text/plain": [
       "                                             Сегмент КодКатегории  Уровень\n",
       "0               Сумки, чехлы для ноутбуков // Прочее      AM18200        1\n",
       "1  Основной цвет_черный // Материал_нейлон // Вне...      AM18200        1\n",
       "2                               Основной цвет_черный      AM18200        1\n",
       "3                                Основной цвет_белый      AM18200        1\n",
       "4                                Основной цвет_серый      AM18200        1"
      ]
     },
     "metadata": {},
     "output_type": "display_data"
    }
   ],
   "source": [
    "counter = 0 # Счетчик\n",
    "df_tovar_segment_0 = pd.DataFrame()\n",
    "df_for_dim_segment_0 = pd.DataFrame()\n",
    "for Category_code in list_auto_segments:\n",
    "    counter +=1 # Счетчик\n",
    "    Category_name = df_hierarchy[df_hierarchy['КодКатегории'] == Category_code]['Уровень4'].values[0]\n",
    "    \n",
    "    print()\n",
    "    print('Обработка категории :', Category_code, Category_name)\n",
    "\n",
    "    # Получение данных по категории\n",
    "    df_prod_char = df_dim_product_character[df_dim_product_character['КодКатегории'] == Category_code]\n",
    "    df_0 = df_prod_char.copy() # Копия исодных данных\n",
    "    \n",
    "    # Справочник видов и кодов характеристик\n",
    "    dim_wiew_code = df_prod_char.groupby('ВидХарактеристики')['КодХарактеристики'].apply(', '.join)\n",
    "    dim_wiew_code = pd.DataFrame(dim_wiew_code).reset_index()\n",
    "    dim_wiew_code['КодХарактеристики'] = dim_wiew_code['КодХарактеристики'].apply(lambda string: string_to_set(string))\n",
    "    \n",
    "    # Задаем номер уровня для расчета\n",
    "    level_list = [1, 2, 3]\n",
    "    for level in level_list:\n",
    "        # Оставляем сегменты нужного уровня из одной категории\n",
    "        mask_cat = dim_segment['КодКатегории']==Category_code\n",
    "        dim_segment_filter = dim_segment[mask_cat & (dim_segment['НомерУровня'] == level)]\n",
    "        \n",
    "        if len(dim_segment_filter) == 0: # Если сегменты на выбранном уровне отсутствуют - пропускаем этап\n",
    "            print(f'Уровень {level} отсутствует в справочнике сегментов')\n",
    "            pass\n",
    "        else:\n",
    "            \n",
    "            ### Найти список уникальных видов характеристик ###\n",
    "            \n",
    "            # объединяем все строки в одну с разделителем \", \"\n",
    "            множество_видов_характеристик = \", \".join(dim_segment_filter['Сегмент'])\n",
    "            # преобразуем строку в множество\n",
    "            wiew_char_set = set(множество_видов_характеристик.split(\" // \"))\n",
    "            wiew_char_set = [i.split('_')[0] for i in wiew_char_set]\n",
    "            # убираем кавычки из каждого элемента множества\n",
    "            wiew_char_set = {code.replace(\"'\", \"\") for code in wiew_char_set}\n",
    "            # Уникальные виды характеристик\n",
    "            dim_segment_filter['виды_характеристик'] = dim_segment_filter['Сегмент'].apply(lambda x: wiew_char_list(x))\n",
    "            \n",
    "            ### Найти список уникальных кодов характеристик ###\n",
    "            \n",
    "            # Уникальные характеристики из справочника. Массив множеств\n",
    "            arr_set = dim_wiew_code[dim_wiew_code['ВидХарактеристики'].isin(wiew_char_set)]['КодХарактеристики'].values\n",
    "            # Множество из множеств по сегментам этого уровня\n",
    "            set_set = get_set_char(arr_set)\n",
    "            \n",
    "            ### Обработка справочника сегментов ###\n",
    "            \n",
    "            # Преобразование строки во множество\n",
    "            dim_segment_filter['КодыХарактеристик'] = dim_segment_filter['КодыХарактеристик'].apply(lambda x: get_string_to_set_v2(x))\n",
    "            dim_segment_filter.head(2)\n",
    "            \n",
    "            # Собать множество характеристик только по видам из сегмента\n",
    "            dim_segment_filter['set_char_for_wiew'] = dim_segment_filter['виды_характеристик'].apply(\n",
    "                lambda x: get_set_char(dim_wiew_code[dim_wiew_code['ВидХарактеристики'].isin(x)]['КодХарактеристики'].values))\n",
    "            \n",
    "            # Оставить только пересеченные множества\n",
    "            dim_segment_filter['КодыХарактеристик'] = dim_segment_filter.apply(find_intersection, axis=1)\n",
    "            # Оставить нужные столбцы\n",
    "            dim_segment_filter = dim_segment_filter[[\n",
    "                'Сегмент', 'КодыХарактеристик', 'НомерУровня', 'Power', 'Родитель'\n",
    "                ]].reset_index(drop='index')\n",
    "            \n",
    "            ### Обработка категории ###\n",
    "            \n",
    "            # Объединить список кодов характеристик товара во множество\n",
    "            df_0_new = df_prod_char[['Код', 'КодХарактеристики']]\n",
    "            \n",
    "            # Условие первичной обработки данных, для первого цикла по категории.\n",
    "            if level != 1:\n",
    "                pass\n",
    "            else:\n",
    "                # Таблица с наборами в виде множеств\n",
    "                product_set_code = get_selection(df_0_new, 'Код', 'КодХарактеристики')\n",
    "                product_set_code_copy = product_set_code.copy()\n",
    "                \n",
    "            # Оставляем в справочние товара только характеристики для выбранного уровня\n",
    "            product_set_code['КодХарактеристики'] = product_set_code_copy['КодХарактеристики'].apply(lambda x: x.intersection(set_set))\n",
    "            \n",
    "            # Объединить список кодов Сегмента во множество\n",
    "            dim_segment_filter['длина'] = dim_segment_filter['КодыХарактеристик'].apply(lambda x: len(x))\n",
    "            \n",
    "            # Зафиксировать максимальную плотность сегмента на своем уровне\n",
    "            power_list = sorted(list(set(dim_segment_filter['Power'])), reverse=True)\n",
    "            if level == 1:\n",
    "                power_segment = power_list[0]\n",
    "            elif level == 2:\n",
    "                power_cluster = power_list[0]\n",
    "            \n",
    "            ### ФУНКЦИЯ СЕГМЕНТАЦИИ ################################################################################\n",
    "            \n",
    "            # Объявление функции\n",
    "            def select_segment(df_segment, set_x, power_segment=None, segm_lvl=None, level=level, power_list=power_list):\n",
    "                # Инициация переменных\n",
    "                inter=0\n",
    "                segment = ''\n",
    "                # Перебор плотностей, начиная с максимальной\n",
    "                for p in power_list:\n",
    "                    # Условие для первого уровня. Не требует фильтрации по родительскому столбцу\n",
    "                    if level==1:\n",
    "                        # Срез сегментов по плотности\n",
    "                        df_segment_filter = df_segment[df_segment['Power'] == p]\n",
    "                        # Перебор множеств характеристик из сегментов\n",
    "                        for set_i in list(df_segment_filter.iloc[:,1]):\n",
    "                            # Счет количества пересечений характеристик\n",
    "                            inter = len(set_i.intersection(set_x))\n",
    "                            # Если количество пересечений соответствует мощности, выводим название этого сегмента\n",
    "                            if inter >= p:\n",
    "                                segment = df_segment_filter[df_segment_filter['КодыХарактеристик'] == set_i]['Сегмент'].values[0]\n",
    "                                return segment\n",
    "                            \n",
    "                    # Условие для следующих уровней. Добавлена фильтрация по родительскому столбцу для сохранения иерархии сегментов       \n",
    "                    elif level>1:\n",
    "                        # Если родительский столбец является \"прочим\", подчиненные сегменты тоже \"прочие\"\n",
    "                        if segm_lvl == 'Прочее' or len(set_x) <= power_segment:\n",
    "                            return 'Прочее'\n",
    "                        else:\n",
    "                            df_segment_filter = df_segment[(df_segment['Power'] == p) & (df_segment['Родитель'] == segm_lvl) ]\n",
    "                            for set_i in list(df_segment_filter.iloc[:,1]):\n",
    "                                inter = len(set_i.intersection(set_x))\n",
    "                                if inter >= p:\n",
    "                                    segment = df_segment_filter[df_segment_filter['КодыХарактеристик'] == set_i]['Сегмент'].values[0]\n",
    "                                    return segment        \n",
    "                # При невыполнении всех условий сегмент назначается \"Прочим\"      \n",
    "                return 'Прочее'\n",
    "    #############################################################################################################\n",
    "    \n",
    "        \n",
    "        # Имя для столбца в соответствии с текущим уровнем        \n",
    "        lvl_name = f'Уровень_{level}'\n",
    "        lvl_name\n",
    "    \n",
    "        # Параметры для функции сегментации. На втором и третьем уровне учитывается родительский столбец для поддержания иерархии\n",
    "        if level==1:\n",
    "            product_set_code[lvl_name] = product_set_code['КодХарактеристики'].apply(lambda x: select_segment(dim_segment_filter, x, None))\n",
    "        if level==2:\n",
    "            product_set_code[lvl_name] = product_set_code.apply(lambda row: select_segment(\n",
    "                dim_segment_filter, row['КодХарактеристики'], power_segment, row['Уровень_1']\n",
    "                ), axis=1)\n",
    "        if level==3:\n",
    "            product_set_code[lvl_name] = product_set_code.apply(lambda row: select_segment(\n",
    "                dim_segment_filter, row['КодХарактеристики'], power_cluster, row['Уровень_2']\n",
    "                ), axis=1) \n",
    "        \n",
    "    \n",
    "    \n",
    "    # Переименование прочих сегментов\n",
    "\n",
    "    product_set_code['Уровень_1'] = product_set_code.apply(lambda row: Category_name + ' // ' + 'Прочее' if row['Уровень_1']=='Прочее' else row['Уровень_1'], axis=1)\n",
    "    product_set_code['Уровень_2'] = product_set_code.apply(lambda row: row['Уровень_1'] + ' // ' + 'Прочее' \\\n",
    "        if (row['Уровень_2']=='Прочее') or (row['Уровень_2']==row['Уровень_1'])  else row['Уровень_2'], axis=1)\n",
    "    product_set_code['Уровень_3'] = product_set_code.apply(lambda row: row['Уровень_2'] + ' // ' + 'Прочее' \\\n",
    "        if (row['Уровень_3']=='Прочее') or (row['Уровень_3']==row['Уровень_2'])  else row['Уровень_3'], axis=1)\n",
    "    product_set_code['КодКатегории'] = Category_code\n",
    "    \n",
    "    # Запись выходного файла (категория после 3 циклов обработки)\n",
    "    \n",
    "    # with pd.ExcelWriter(f\"//Adm-logist-95/Для_регистра_товар_сегмент/{Category_code}.xlsx\") as writer:\n",
    "    #     product_set_code.to_excel(writer, sheet_name=\"ДляИмпорта\", index=False)\n",
    "    \n",
    "    print(f'{counter}/{len(list_auto_segments)}) Категория {Category_name} записана')\n",
    "    \n",
    "    # Подготовка к записи категории для справочника сегментов\n",
    "    df_tovar_segment = product_set_code.drop(columns='КодХарактеристики')\n",
    "    \n",
    "    lvl_1 = df_tovar_segment[['Уровень_1', 'КодКатегории']].drop_duplicates().rename(columns={'Уровень_1':'Сегмент'})\n",
    "    lvl_1['Уровень'] = 1\n",
    "    lvl_2 = df_tovar_segment[['Уровень_2', 'КодКатегории']].drop_duplicates().rename(columns={'Уровень_2':'Сегмент'})\n",
    "    lvl_2['Уровень'] = 2\n",
    "    lvl_3 = df_tovar_segment[['Уровень_3', 'КодКатегории']].drop_duplicates().rename(columns={'Уровень_3':'Сегмент'})\n",
    "    lvl_3['Уровень'] = 3\n",
    "    category_for_dim_segment = pd.concat([lvl_1, lvl_2, lvl_3], ignore_index=True)\n",
    "    \n",
    "    category_for_dim_segment = pd.concat([category_for_dim_segment, df_for_dim_segment_0], ignore_index=True)\n",
    "    df_for_dim_segment_0 = category_for_dim_segment\n",
    "    \n",
    "    # Запись категории для справочника сегментов\n",
    "    # with pd.ExcelWriter(f\"data/Для_Справочника_Сегментов/{Category_code}.xlsx\") as writer:\n",
    "    #     category_for_dim_segment.to_excel(writer, sheet_name=\"ДляИмпорта\", index=False)\n",
    "    \n",
    "    df_tovar_segment = pd.concat([df_tovar_segment_0, df_tovar_segment], ignore_index=True)\n",
    "    df_tovar_segment_0 = df_tovar_segment\n",
    "    \n",
    "# Запись выходного файла по всем категориям\n",
    "# with pd.ExcelWriter(\"data/\"+str(datetime.datetime.now().strftime(\"%m-%d-%Y_%H-%M\"))+\".xlsx\") as writer:\n",
    "#     df_tovar_segment.to_excel(writer, sheet_name=\"ДляИмпорта\", index=False)\n",
    "\n",
    "print()\n",
    "print('************************************************')\n",
    "print('Таблица Товар-Сегмент')\n",
    "print()\n",
    "df_tovar_segment.info()\n",
    "print()\n",
    "display(df_tovar_segment.head())\n",
    "print()\n",
    "print('Таблица Справочник Сегментов')\n",
    "print()\n",
    "category_for_dim_segment.info()\n",
    "print()\n",
    "display(category_for_dim_segment.head())"
   ]
  },
  {
   "cell_type": "markdown",
   "metadata": {},
   "source": [
    "# 4. Итоги"
   ]
  },
  {
   "cell_type": "markdown",
   "metadata": {},
   "source": [
    "Итогом проделанной работы стали две таблицы, которые можно использовать в качестве справочника сегментов и регистра связей товара с сегментами всех уровней.\n",
    "Сегментация обладает следующими свойствами:\n",
    "\n",
    "    1.\tНет повторяющихся наименований сегментов.\n",
    "Если сегмент для нового товара не определяется (то есть является «Прочим»), то ему присваивается название из имени категории + Прочее\n",
    "\n",
    "    2.\tВсе сегменты имеют понятную структуру, названия логически интерпретируются.\n",
    "Например, если для товара находится подходящая ячейка, она «прилипает» к товару. Если подходящей ячейки не находится, то наследуется имя предыдущего уровня (кластера) с припиской «Прочее».\n",
    "На уровне Кластер-Сегмент – то же самое, если кластера нет, то наследуется имя сегмента с припиской «Прочее».\n",
    "И если какой-то из уровней становится «прочим», все его подчиненные также будут «прочими». \n",
    "\n",
    "    3.\tЗа счет четкой иерархии есть возможность логически работать с любым уровнем сегментации.\n",
    "Имеется в виду, что даже работая на уровне ячейки, уже из названия понятна ее «плотность», и в каком она кластере и сегменте.\n"
   ]
  },
  {
   "cell_type": "markdown",
   "metadata": {},
   "source": [
    "### Проверка полноты выполнения задач и требований к результату."
   ]
  },
  {
   "cell_type": "markdown",
   "metadata": {},
   "source": [
    "**Технические задачи** \n",
    "\n",
    "1. Разработать алгоритм отбора наиболее подходящих технических характеристик для сегментации - Выполнено.\n",
    "2. Произвести сегментацию по отобранным характеристикам - Выполнено.\n",
    "3. Выгрузить модель данных в Excel для возможности оценки модели заказчиком - Выполнено.\n",
    "4. Подготовить таблицу - справочник сегментов (для дальнейшей интеграции в 1С) - Выполнено.\n",
    "5. Настроить процесс классификации нового товара по сегментам из справочника - Выполнено.\n",
    "6. Подготовить таблицу с результатами классификации - Выполнено.\n",
    "\n",
    "**Требования к результату** \n",
    "\n",
    "    1. Модель должна быть легко интерпретируема, любой пользователь должен понимать, почему этот товар находится именно в этом сегменте.\n",
    "Поскольку названия сегментов состоят из названий технических характеристик, любому пользователю понятно, для какого товара сделан сегмент.\n",
    "\n",
    "    2. Сегмент первого уровня не должен содержать менее 10 номенклатурных позиций.\n",
    "Данное условие заложено в настройках ограничений. Сегменты первого уровня содержат минимум 10-30 номенклатурных позиций.\n",
    "\n",
    "    3. Справочник сегментов должен строиться только на основании товара с остатками.\n",
    "В качестве исходных данных для модели использовались только номенклатурные позиции с остатками.\n",
    "\n",
    "    4. Классификация по сегментам должна происходить по всей товарной номенклатуре. Если появляется новый товар, для него должны подбираться оптимальные сегменты.\n",
    "На вход алгоритма классификации подается вся номенклатура, включая товар без остатка. И для каждого товара присваивается свой сегмент."
   ]
  }
 ],
 "metadata": {
  "kernelspec": {
   "display_name": "Python 3",
   "language": "python",
   "name": "python3"
  },
  "language_info": {
   "codemirror_mode": {
    "name": "ipython",
    "version": 3
   },
   "file_extension": ".py",
   "mimetype": "text/x-python",
   "name": "python",
   "nbconvert_exporter": "python",
   "pygments_lexer": "ipython3",
   "version": "3.9.13"
  },
  "orig_nbformat": 4
 },
 "nbformat": 4,
 "nbformat_minor": 2
}
