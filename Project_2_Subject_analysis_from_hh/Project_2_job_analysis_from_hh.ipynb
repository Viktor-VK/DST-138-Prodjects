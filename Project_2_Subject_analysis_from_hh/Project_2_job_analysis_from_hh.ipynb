{
 "cells": [
  {
   "cell_type": "markdown",
   "id": "42289889-bd57-434e-9637-d3e354756316",
   "metadata": {
    "id": "42289889-bd57-434e-9637-d3e354756316"
   },
   "source": [
    "<center> <img src = https://raw.githubusercontent.com/AndreyRysistov/DatasetsForPandas/main/hh%20label.jpg alt=\"drawing\" style=\"width:400px;\">"
   ]
  },
  {
   "cell_type": "markdown",
   "id": "829cb75b-f14e-4ba8-9195-7ba929a7d656",
   "metadata": {
    "id": "829cb75b-f14e-4ba8-9195-7ba929a7d656",
    "tags": []
   },
   "source": [
    "# <center> Проект: Анализ вакансий из HeadHunter\n",
    "   "
   ]
  },
  {
   "cell_type": "code",
   "execution_count": 3,
   "id": "dccfde33-2452-43fb-a8a5-5c6ebc02a71d",
   "metadata": {
    "id": "dccfde33-2452-43fb-a8a5-5c6ebc02a71d"
   },
   "outputs": [],
   "source": [
    "import pandas as pd\n",
    "import psycopg2"
   ]
  },
  {
   "cell_type": "code",
   "execution_count": 4,
   "id": "oVKH4ehvf8Ay",
   "metadata": {
    "id": "oVKH4ehvf8Ay"
   },
   "outputs": [],
   "source": [
    "# вставьте сюда параметры подключения из юнита 1. Работа с базой данных из Python\n",
    "\n",
    "df_connect = pd.read_csv('data/df_connect.csv', sep=';')\n",
    "\n",
    "DBNAME = df_connect['pasword'][0]\n",
    "USER = df_connect['pasword'][1]\n",
    "PASSWORD = df_connect['pasword'][2]\n",
    "HOST = df_connect['pasword'][3]\n",
    "PORT = df_connect['pasword'][4]"
   ]
  },
  {
   "cell_type": "code",
   "execution_count": 5,
   "id": "G4X_q8KBf7SF",
   "metadata": {
    "id": "G4X_q8KBf7SF"
   },
   "outputs": [],
   "source": [
    "import warnings\n",
    "warnings.filterwarnings('ignore')\n",
    "\n",
    "connection = psycopg2.connect(\n",
    "    dbname=DBNAME,\n",
    "    user=USER,\n",
    "    host=HOST,\n",
    "    password=PASSWORD,\n",
    "    port=PORT\n",
    ")"
   ]
  },
  {
   "cell_type": "markdown",
   "id": "0dc6476b-7a00-44f1-ac93-6e3baed33a29",
   "metadata": {
    "id": "0dc6476b-7a00-44f1-ac93-6e3baed33a29"
   },
   "source": [
    "# Юнит 3. Предварительный анализ данных"
   ]
  },
  {
   "cell_type": "markdown",
   "id": "889782b6-8d1c-410e-8920-e57f27917c64",
   "metadata": {
    "id": "889782b6-8d1c-410e-8920-e57f27917c64"
   },
   "source": [
    "1. Напишите запрос, который посчитает количество вакансий в нашей базе (вакансии находятся в таблице vacancies). "
   ]
  },
  {
   "cell_type": "code",
   "execution_count": 7,
   "id": "bc39e68e-ed02-4ee2-9235-7258a2f867a8",
   "metadata": {
    "id": "bc39e68e-ed02-4ee2-9235-7258a2f867a8"
   },
   "outputs": [],
   "source": [
    "# текст запроса\n",
    "query_3_1 = f'''\n",
    "SELECT COUNT(*)\n",
    "FROM public.vacancies\n",
    "'''"
   ]
  },
  {
   "cell_type": "code",
   "execution_count": 8,
   "id": "7mAwtsk4hEHY",
   "metadata": {
    "id": "7mAwtsk4hEHY"
   },
   "outputs": [
    {
     "data": {
      "text/html": [
       "<div>\n",
       "<style scoped>\n",
       "    .dataframe tbody tr th:only-of-type {\n",
       "        vertical-align: middle;\n",
       "    }\n",
       "\n",
       "    .dataframe tbody tr th {\n",
       "        vertical-align: top;\n",
       "    }\n",
       "\n",
       "    .dataframe thead th {\n",
       "        text-align: right;\n",
       "    }\n",
       "</style>\n",
       "<table border=\"1\" class=\"dataframe\">\n",
       "  <thead>\n",
       "    <tr style=\"text-align: right;\">\n",
       "      <th></th>\n",
       "      <th>count</th>\n",
       "    </tr>\n",
       "  </thead>\n",
       "  <tbody>\n",
       "    <tr>\n",
       "      <th>0</th>\n",
       "      <td>49197</td>\n",
       "    </tr>\n",
       "  </tbody>\n",
       "</table>\n",
       "</div>"
      ],
      "text/plain": [
       "   count\n",
       "0  49197"
      ]
     },
     "metadata": {},
     "output_type": "display_data"
    }
   ],
   "source": [
    "# Количество вакансий составляет 49197\n",
    "\n",
    "df = pd.read_sql_query(query_3_1, connection)\n",
    "display(df)"
   ]
  },
  {
   "cell_type": "markdown",
   "id": "b583485d-1f9e-494e-ada4-80ffff7c53d6",
   "metadata": {
    "id": "b583485d-1f9e-494e-ada4-80ffff7c53d6"
   },
   "source": [
    "2. Напишите запрос, который посчитает количество работодателей (таблица employers). "
   ]
  },
  {
   "cell_type": "code",
   "execution_count": 65,
   "id": "5408c52c-3407-4a63-b25b-1aafa2322d28",
   "metadata": {
    "id": "5408c52c-3407-4a63-b25b-1aafa2322d28"
   },
   "outputs": [],
   "source": [
    "# текст запроса\n",
    "query_3_1 = f'''\n",
    "SELECT COUNT(*)\n",
    "FROM public.employers\n",
    "'''"
   ]
  },
  {
   "cell_type": "code",
   "execution_count": 66,
   "id": "jVL4eshKhdqc",
   "metadata": {
    "id": "jVL4eshKhdqc",
    "scrolled": true
   },
   "outputs": [
    {
     "data": {
      "text/html": [
       "<div>\n",
       "<style scoped>\n",
       "    .dataframe tbody tr th:only-of-type {\n",
       "        vertical-align: middle;\n",
       "    }\n",
       "\n",
       "    .dataframe tbody tr th {\n",
       "        vertical-align: top;\n",
       "    }\n",
       "\n",
       "    .dataframe thead th {\n",
       "        text-align: right;\n",
       "    }\n",
       "</style>\n",
       "<table border=\"1\" class=\"dataframe\">\n",
       "  <thead>\n",
       "    <tr style=\"text-align: right;\">\n",
       "      <th></th>\n",
       "      <th>count</th>\n",
       "    </tr>\n",
       "  </thead>\n",
       "  <tbody>\n",
       "    <tr>\n",
       "      <th>0</th>\n",
       "      <td>23501</td>\n",
       "    </tr>\n",
       "  </tbody>\n",
       "</table>\n",
       "</div>"
      ],
      "text/plain": [
       "   count\n",
       "0  23501"
      ]
     },
     "metadata": {},
     "output_type": "display_data"
    }
   ],
   "source": [
    "# Количество работодателей составляет 23501\n",
    "\n",
    "df = pd.read_sql_query(query_3_1, connection)\n",
    "display(df)"
   ]
  },
  {
   "cell_type": "markdown",
   "id": "a2bfff1f-c975-4bf6-84be-2185d79dcb76",
   "metadata": {
    "id": "a2bfff1f-c975-4bf6-84be-2185d79dcb76"
   },
   "source": [
    "3. Посчитате с помощью запроса количество регионов (таблица areas)."
   ]
  },
  {
   "cell_type": "code",
   "execution_count": 8,
   "id": "1m8QJwBYhey6",
   "metadata": {
    "id": "1m8QJwBYhey6"
   },
   "outputs": [],
   "source": [
    "# текст запроса\n",
    "query_3_1 = f'''\n",
    "SELECT COUNT(*)\n",
    "FROM public.areas\n",
    "'''"
   ]
  },
  {
   "cell_type": "code",
   "execution_count": 9,
   "id": "EZsn9tlfhe7f",
   "metadata": {
    "id": "EZsn9tlfhe7f"
   },
   "outputs": [
    {
     "data": {
      "text/html": [
       "<div>\n",
       "<style scoped>\n",
       "    .dataframe tbody tr th:only-of-type {\n",
       "        vertical-align: middle;\n",
       "    }\n",
       "\n",
       "    .dataframe tbody tr th {\n",
       "        vertical-align: top;\n",
       "    }\n",
       "\n",
       "    .dataframe thead th {\n",
       "        text-align: right;\n",
       "    }\n",
       "</style>\n",
       "<table border=\"1\" class=\"dataframe\">\n",
       "  <thead>\n",
       "    <tr style=\"text-align: right;\">\n",
       "      <th></th>\n",
       "      <th>count</th>\n",
       "    </tr>\n",
       "  </thead>\n",
       "  <tbody>\n",
       "    <tr>\n",
       "      <th>0</th>\n",
       "      <td>1362</td>\n",
       "    </tr>\n",
       "  </tbody>\n",
       "</table>\n",
       "</div>"
      ],
      "text/plain": [
       "   count\n",
       "0   1362"
      ]
     },
     "metadata": {},
     "output_type": "display_data"
    }
   ],
   "source": [
    "# Всего в выборке представлено 1362 региона\n",
    "\n",
    "df = pd.read_sql_query(query_3_1, connection)\n",
    "display(df)"
   ]
  },
  {
   "cell_type": "markdown",
   "id": "41bb59f3-53cc-4a67-a5bc-bedf573955e4",
   "metadata": {
    "id": "41bb59f3-53cc-4a67-a5bc-bedf573955e4"
   },
   "source": [
    "4. Посчитате с помощью запроса количество сфер деятельности в базе (таблица industries)."
   ]
  },
  {
   "cell_type": "code",
   "execution_count": 10,
   "id": "d286cf4c-707b-4cd2-9190-7ab3587d04a1",
   "metadata": {
    "id": "d286cf4c-707b-4cd2-9190-7ab3587d04a1"
   },
   "outputs": [],
   "source": [
    "# текст запроса\n",
    "query_3_1 = f'''\n",
    "SELECT COUNT(*)\n",
    "FROM public.industries\n",
    "'''"
   ]
  },
  {
   "cell_type": "code",
   "execution_count": 11,
   "id": "JYAaoZ4qhfzW",
   "metadata": {
    "id": "JYAaoZ4qhfzW"
   },
   "outputs": [
    {
     "data": {
      "text/html": [
       "<div>\n",
       "<style scoped>\n",
       "    .dataframe tbody tr th:only-of-type {\n",
       "        vertical-align: middle;\n",
       "    }\n",
       "\n",
       "    .dataframe tbody tr th {\n",
       "        vertical-align: top;\n",
       "    }\n",
       "\n",
       "    .dataframe thead th {\n",
       "        text-align: right;\n",
       "    }\n",
       "</style>\n",
       "<table border=\"1\" class=\"dataframe\">\n",
       "  <thead>\n",
       "    <tr style=\"text-align: right;\">\n",
       "      <th></th>\n",
       "      <th>count</th>\n",
       "    </tr>\n",
       "  </thead>\n",
       "  <tbody>\n",
       "    <tr>\n",
       "      <th>0</th>\n",
       "      <td>294</td>\n",
       "    </tr>\n",
       "  </tbody>\n",
       "</table>\n",
       "</div>"
      ],
      "text/plain": [
       "   count\n",
       "0    294"
      ]
     },
     "metadata": {},
     "output_type": "display_data"
    }
   ],
   "source": [
    "# Всего в выборке выявлено 294 сферы деятельности\n",
    "\n",
    "df = pd.read_sql_query(query_3_1, connection)\n",
    "display(df)"
   ]
  },
  {
   "cell_type": "markdown",
   "id": "9a8a2181-6914-448b-85f1-38f5f18b8a93",
   "metadata": {
    "id": "9a8a2181-6914-448b-85f1-38f5f18b8a93"
   },
   "source": [
    "***"
   ]
  },
  {
   "cell_type": "code",
   "execution_count": 12,
   "id": "be4e9bd3-a4db-4a20-82fb-6b02fc2957e0",
   "metadata": {
    "id": "be4e9bd3-a4db-4a20-82fb-6b02fc2957e0"
   },
   "outputs": [],
   "source": [
    "# выводы по предварительному анализу данных\n",
    "\n",
    "# Во всех таблицах проекта нам доступны для анализа 49197 вакансий,\n",
    "# 23501 работодателей, 1362 регионоа, 294 сферы деятельности.\n",
    "# Далее займемся получением более детализированной информации."
   ]
  },
  {
   "cell_type": "markdown",
   "id": "8d62a9f3-f64e-4fe7-bdac-c4dffa16155e",
   "metadata": {
    "id": "8d62a9f3-f64e-4fe7-bdac-c4dffa16155e"
   },
   "source": [
    "# Юнит 4. Детальный анализ вакансий"
   ]
  },
  {
   "cell_type": "markdown",
   "id": "93053d3d-b284-481a-9cf7-012d7014c0e0",
   "metadata": {
    "id": "93053d3d-b284-481a-9cf7-012d7014c0e0"
   },
   "source": [
    "1. Напишите запрос, который позволит узнать, сколько (cnt) вакансий в каждом регионе (area).\n",
    "Отсортируйте по количеству вакансий в порядке убывания."
   ]
  },
  {
   "cell_type": "code",
   "execution_count": 13,
   "id": "3f069da6-fdc9-4ae7-b514-fafe2675efd3",
   "metadata": {
    "id": "3f069da6-fdc9-4ae7-b514-fafe2675efd3"
   },
   "outputs": [],
   "source": [
    "# текст запроса\n",
    "query = f'''\n",
    "SELECT \n",
    "    areas.name as area,\n",
    "    COUNT(vacancies.id) as cnt\n",
    "FROM public.vacancies\n",
    "    JOIN public.areas on vacancies.area_id = areas.id\n",
    "GROUP BY areas.name\n",
    "ORDER BY cnt DESC\n",
    "LIMIT 5\n",
    "'''"
   ]
  },
  {
   "cell_type": "code",
   "execution_count": 14,
   "id": "P7QL86hrjhRJ",
   "metadata": {
    "id": "P7QL86hrjhRJ"
   },
   "outputs": [
    {
     "data": {
      "text/html": [
       "<div>\n",
       "<style scoped>\n",
       "    .dataframe tbody tr th:only-of-type {\n",
       "        vertical-align: middle;\n",
       "    }\n",
       "\n",
       "    .dataframe tbody tr th {\n",
       "        vertical-align: top;\n",
       "    }\n",
       "\n",
       "    .dataframe thead th {\n",
       "        text-align: right;\n",
       "    }\n",
       "</style>\n",
       "<table border=\"1\" class=\"dataframe\">\n",
       "  <thead>\n",
       "    <tr style=\"text-align: right;\">\n",
       "      <th></th>\n",
       "      <th>area</th>\n",
       "      <th>cnt</th>\n",
       "    </tr>\n",
       "  </thead>\n",
       "  <tbody>\n",
       "    <tr>\n",
       "      <th>0</th>\n",
       "      <td>Москва</td>\n",
       "      <td>5333</td>\n",
       "    </tr>\n",
       "    <tr>\n",
       "      <th>1</th>\n",
       "      <td>Санкт-Петербург</td>\n",
       "      <td>2851</td>\n",
       "    </tr>\n",
       "    <tr>\n",
       "      <th>2</th>\n",
       "      <td>Минск</td>\n",
       "      <td>2112</td>\n",
       "    </tr>\n",
       "    <tr>\n",
       "      <th>3</th>\n",
       "      <td>Новосибирск</td>\n",
       "      <td>2006</td>\n",
       "    </tr>\n",
       "    <tr>\n",
       "      <th>4</th>\n",
       "      <td>Алматы</td>\n",
       "      <td>1892</td>\n",
       "    </tr>\n",
       "  </tbody>\n",
       "</table>\n",
       "</div>"
      ],
      "text/plain": [
       "              area   cnt\n",
       "0           Москва  5333\n",
       "1  Санкт-Петербург  2851\n",
       "2            Минск  2112\n",
       "3      Новосибирск  2006\n",
       "4           Алматы  1892"
      ]
     },
     "metadata": {},
     "output_type": "display_data"
    }
   ],
   "source": [
    "# Максимальное количество сосредоточено в Москве, это 5333 вакансии, что почти вдвое больше, \n",
    "# чем у ближайшего \"конкурента\" Санкт-Петербурга с 2851 вакансией.\n",
    "\n",
    "df = pd.read_sql_query(query, connection)\n",
    "display(df)"
   ]
  },
  {
   "cell_type": "markdown",
   "id": "4266f0b6-1646-492a-88b4-2f6a46502135",
   "metadata": {
    "id": "4266f0b6-1646-492a-88b4-2f6a46502135"
   },
   "source": [
    "2. Напишите запрос, чтобы определить у какого количества вакансий заполнено хотя бы одно из двух полей с зарплатой."
   ]
  },
  {
   "cell_type": "code",
   "execution_count": 15,
   "id": "0c44b350-72eb-4d65-8b54-a1fc449ba9fd",
   "metadata": {
    "id": "0c44b350-72eb-4d65-8b54-a1fc449ba9fd"
   },
   "outputs": [],
   "source": [
    "# текст запроса\n",
    "query = f'''\n",
    "SELECT COUNT(*)\n",
    "FROM public.vacancies\n",
    "WHERE salary_FROM is not null or salary_to is not null\n",
    "'''"
   ]
  },
  {
   "cell_type": "code",
   "execution_count": 16,
   "id": "rhvwaMDkoWTi",
   "metadata": {
    "id": "rhvwaMDkoWTi"
   },
   "outputs": [
    {
     "data": {
      "text/html": [
       "<div>\n",
       "<style scoped>\n",
       "    .dataframe tbody tr th:only-of-type {\n",
       "        vertical-align: middle;\n",
       "    }\n",
       "\n",
       "    .dataframe tbody tr th {\n",
       "        vertical-align: top;\n",
       "    }\n",
       "\n",
       "    .dataframe thead th {\n",
       "        text-align: right;\n",
       "    }\n",
       "</style>\n",
       "<table border=\"1\" class=\"dataframe\">\n",
       "  <thead>\n",
       "    <tr style=\"text-align: right;\">\n",
       "      <th></th>\n",
       "      <th>count</th>\n",
       "    </tr>\n",
       "  </thead>\n",
       "  <tbody>\n",
       "    <tr>\n",
       "      <th>0</th>\n",
       "      <td>24073</td>\n",
       "    </tr>\n",
       "  </tbody>\n",
       "</table>\n",
       "</div>"
      ],
      "text/plain": [
       "   count\n",
       "0  24073"
      ]
     },
     "metadata": {},
     "output_type": "display_data"
    }
   ],
   "source": [
    "# Около половины вакансий не имеют данных по уровню зарплаты.\n",
    "# Данные по зарплате есть в 24073 вакансиях.\n",
    "\n",
    "df = pd.read_sql_query(query, connection)\n",
    "display(df)"
   ]
  },
  {
   "cell_type": "markdown",
   "id": "635c4d5d-f323-4c66-b428-50a088120aa0",
   "metadata": {
    "id": "635c4d5d-f323-4c66-b428-50a088120aa0"
   },
   "source": [
    "3. Найдите средние значения для нижней и верхней границы зарплатной вилки. Округлите значения до целого."
   ]
  },
  {
   "cell_type": "code",
   "execution_count": 17,
   "id": "603cdbe4-0ec3-4106-8eaf-c73fcdd29165",
   "metadata": {
    "id": "603cdbe4-0ec3-4106-8eaf-c73fcdd29165"
   },
   "outputs": [],
   "source": [
    "# текст запроса\n",
    "query = f'''\n",
    "SELECT \n",
    "    ROUND(AVG(salary_FROM), 0) as lower_salary,\n",
    "    ROUND(AVG(salary_to), 0) as upper_salary\n",
    "FROM public.vacancies\n",
    "WHERE salary_FROM is not null or salary_to is not null\n",
    "'''"
   ]
  },
  {
   "cell_type": "code",
   "execution_count": 18,
   "id": "pswpAb66ovZZ",
   "metadata": {
    "id": "pswpAb66ovZZ",
    "scrolled": true
   },
   "outputs": [
    {
     "data": {
      "text/html": [
       "<div>\n",
       "<style scoped>\n",
       "    .dataframe tbody tr th:only-of-type {\n",
       "        vertical-align: middle;\n",
       "    }\n",
       "\n",
       "    .dataframe tbody tr th {\n",
       "        vertical-align: top;\n",
       "    }\n",
       "\n",
       "    .dataframe thead th {\n",
       "        text-align: right;\n",
       "    }\n",
       "</style>\n",
       "<table border=\"1\" class=\"dataframe\">\n",
       "  <thead>\n",
       "    <tr style=\"text-align: right;\">\n",
       "      <th></th>\n",
       "      <th>lower_salary</th>\n",
       "      <th>upper_salary</th>\n",
       "    </tr>\n",
       "  </thead>\n",
       "  <tbody>\n",
       "    <tr>\n",
       "      <th>0</th>\n",
       "      <td>71065.0</td>\n",
       "      <td>110537.0</td>\n",
       "    </tr>\n",
       "  </tbody>\n",
       "</table>\n",
       "</div>"
      ],
      "text/plain": [
       "   lower_salary  upper_salary\n",
       "0       71065.0      110537.0"
      ]
     },
     "metadata": {},
     "output_type": "display_data"
    }
   ],
   "source": [
    "# Среднее значение нижней зарплатной вилки 71065 руб,\n",
    "# а верхней зарплатной вилки - 110537 руб.\n",
    "\n",
    "df = pd.read_sql_query(query, connection)\n",
    "display(df)"
   ]
  },
  {
   "cell_type": "markdown",
   "id": "f3fdaec9-5fd3-4260-9cf5-1d7406b628a5",
   "metadata": {
    "id": "f3fdaec9-5fd3-4260-9cf5-1d7406b628a5"
   },
   "source": [
    "4. Напишите запрос, который выведет количество вакансий для каждого сочетания типа рабочего графика (schedule) и типа трудоустройства (employment), используемого в вакансиях. Результат отсортируйте по убыванию количества.\n"
   ]
  },
  {
   "cell_type": "code",
   "execution_count": 19,
   "id": "1ea710ec-871b-431e-9462-c7d0fd87011b",
   "metadata": {
    "id": "1ea710ec-871b-431e-9462-c7d0fd87011b"
   },
   "outputs": [],
   "source": [
    "# текст запроса\n",
    "query = f'''\n",
    "SELECT\n",
    "    crosstable.schedule,\n",
    "    crosstable.employment, \n",
    "    COUNT(*) as qnt\n",
    "    \n",
    "-------составляем кросс-таблицу из schedule и employment-------\n",
    "FROM(\n",
    "    SELECT employment, schedule\n",
    "    FROM (\n",
    "        SELECT distinct employment\n",
    "        FROM public.vacancies\n",
    "        ) as employments\n",
    "    CROSS JOIN\n",
    "        (SELECT distinct schedule\n",
    "        FROM public.vacancies\n",
    "        ) as schedules\n",
    ") as crosstable\n",
    "\n",
    "---------присоединяем к кросс-таблице основную по условиям-----\n",
    "    JOIN public.vacancies as vac on crosstable.employment = vac.employment\n",
    "        AND crosstable.schedule = vac.schedule\n",
    "\n",
    "GROUP BY -- группируем итоговую таблицу\n",
    "    crosstable.employment, \n",
    "    crosstable.schedule\n",
    "\n",
    "ORDER BY qnt DESC\n",
    "'''"
   ]
  },
  {
   "cell_type": "code",
   "execution_count": 20,
   "id": "lGUVqavdo4JQ",
   "metadata": {
    "id": "lGUVqavdo4JQ"
   },
   "outputs": [
    {
     "data": {
      "text/html": [
       "<div>\n",
       "<style scoped>\n",
       "    .dataframe tbody tr th:only-of-type {\n",
       "        vertical-align: middle;\n",
       "    }\n",
       "\n",
       "    .dataframe tbody tr th {\n",
       "        vertical-align: top;\n",
       "    }\n",
       "\n",
       "    .dataframe thead th {\n",
       "        text-align: right;\n",
       "    }\n",
       "</style>\n",
       "<table border=\"1\" class=\"dataframe\">\n",
       "  <thead>\n",
       "    <tr style=\"text-align: right;\">\n",
       "      <th></th>\n",
       "      <th>schedule</th>\n",
       "      <th>employment</th>\n",
       "      <th>qnt</th>\n",
       "    </tr>\n",
       "  </thead>\n",
       "  <tbody>\n",
       "    <tr>\n",
       "      <th>0</th>\n",
       "      <td>Полный день</td>\n",
       "      <td>Полная занятость</td>\n",
       "      <td>35367</td>\n",
       "    </tr>\n",
       "    <tr>\n",
       "      <th>1</th>\n",
       "      <td>Удаленная работа</td>\n",
       "      <td>Полная занятость</td>\n",
       "      <td>7802</td>\n",
       "    </tr>\n",
       "    <tr>\n",
       "      <th>2</th>\n",
       "      <td>Гибкий график</td>\n",
       "      <td>Полная занятость</td>\n",
       "      <td>1593</td>\n",
       "    </tr>\n",
       "    <tr>\n",
       "      <th>3</th>\n",
       "      <td>Удаленная работа</td>\n",
       "      <td>Частичная занятость</td>\n",
       "      <td>1312</td>\n",
       "    </tr>\n",
       "    <tr>\n",
       "      <th>4</th>\n",
       "      <td>Сменный график</td>\n",
       "      <td>Полная занятость</td>\n",
       "      <td>940</td>\n",
       "    </tr>\n",
       "    <tr>\n",
       "      <th>5</th>\n",
       "      <td>Полный день</td>\n",
       "      <td>Стажировка</td>\n",
       "      <td>569</td>\n",
       "    </tr>\n",
       "    <tr>\n",
       "      <th>6</th>\n",
       "      <td>Вахтовый метод</td>\n",
       "      <td>Полная занятость</td>\n",
       "      <td>367</td>\n",
       "    </tr>\n",
       "    <tr>\n",
       "      <th>7</th>\n",
       "      <td>Полный день</td>\n",
       "      <td>Частичная занятость</td>\n",
       "      <td>347</td>\n",
       "    </tr>\n",
       "    <tr>\n",
       "      <th>8</th>\n",
       "      <td>Гибкий график</td>\n",
       "      <td>Частичная занятость</td>\n",
       "      <td>312</td>\n",
       "    </tr>\n",
       "    <tr>\n",
       "      <th>9</th>\n",
       "      <td>Полный день</td>\n",
       "      <td>Проектная работа</td>\n",
       "      <td>141</td>\n",
       "    </tr>\n",
       "    <tr>\n",
       "      <th>10</th>\n",
       "      <td>Удаленная работа</td>\n",
       "      <td>Проектная работа</td>\n",
       "      <td>133</td>\n",
       "    </tr>\n",
       "    <tr>\n",
       "      <th>11</th>\n",
       "      <td>Гибкий график</td>\n",
       "      <td>Стажировка</td>\n",
       "      <td>116</td>\n",
       "    </tr>\n",
       "    <tr>\n",
       "      <th>12</th>\n",
       "      <td>Сменный график</td>\n",
       "      <td>Частичная занятость</td>\n",
       "      <td>101</td>\n",
       "    </tr>\n",
       "    <tr>\n",
       "      <th>13</th>\n",
       "      <td>Удаленная работа</td>\n",
       "      <td>Стажировка</td>\n",
       "      <td>64</td>\n",
       "    </tr>\n",
       "    <tr>\n",
       "      <th>14</th>\n",
       "      <td>Гибкий график</td>\n",
       "      <td>Проектная работа</td>\n",
       "      <td>18</td>\n",
       "    </tr>\n",
       "    <tr>\n",
       "      <th>15</th>\n",
       "      <td>Сменный график</td>\n",
       "      <td>Стажировка</td>\n",
       "      <td>12</td>\n",
       "    </tr>\n",
       "    <tr>\n",
       "      <th>16</th>\n",
       "      <td>Вахтовый метод</td>\n",
       "      <td>Проектная работа</td>\n",
       "      <td>2</td>\n",
       "    </tr>\n",
       "    <tr>\n",
       "      <th>17</th>\n",
       "      <td>Сменный график</td>\n",
       "      <td>Проектная работа</td>\n",
       "      <td>1</td>\n",
       "    </tr>\n",
       "  </tbody>\n",
       "</table>\n",
       "</div>"
      ],
      "text/plain": [
       "            schedule           employment    qnt\n",
       "0        Полный день     Полная занятость  35367\n",
       "1   Удаленная работа     Полная занятость   7802\n",
       "2      Гибкий график     Полная занятость   1593\n",
       "3   Удаленная работа  Частичная занятость   1312\n",
       "4     Сменный график     Полная занятость    940\n",
       "5        Полный день           Стажировка    569\n",
       "6     Вахтовый метод     Полная занятость    367\n",
       "7        Полный день  Частичная занятость    347\n",
       "8      Гибкий график  Частичная занятость    312\n",
       "9        Полный день     Проектная работа    141\n",
       "10  Удаленная работа     Проектная работа    133\n",
       "11     Гибкий график           Стажировка    116\n",
       "12    Сменный график  Частичная занятость    101\n",
       "13  Удаленная работа           Стажировка     64\n",
       "14     Гибкий график     Проектная работа     18\n",
       "15    Сменный график           Стажировка     12\n",
       "16    Вахтовый метод     Проектная работа      2\n",
       "17    Сменный график     Проектная работа      1"
      ]
     },
     "metadata": {},
     "output_type": "display_data"
    }
   ],
   "source": [
    "# Наиболее предпочитаемым сочетанием графикиа и типа трудоустройства является Полный день - Полная занятость,\n",
    "# таких вакансий 35367. На втором месте Удаленная работа - Полная занятость, таких вакансий 7802.\n",
    "# Остальные сочетания типов многократно уступают в популярности двум первым.\n",
    "\n",
    "df = pd.read_sql_query(query, connection)\n",
    "display(df)"
   ]
  },
  {
   "cell_type": "markdown",
   "id": "0136ffee-0ead-4a6b-b608-61d1c753a438",
   "metadata": {
    "id": "0136ffee-0ead-4a6b-b608-61d1c753a438"
   },
   "source": [
    "5. Напишите запрос, выводящий значения поля Требуемый опыт работы (experience) в порядке возрастания количества вакансий, в которых указан данный вариант опыта. "
   ]
  },
  {
   "cell_type": "code",
   "execution_count": 21,
   "id": "5b3a8e79-f7ab-4008-b767-12aea3a205ea",
   "metadata": {
    "id": "5b3a8e79-f7ab-4008-b767-12aea3a205ea"
   },
   "outputs": [],
   "source": [
    "# текст запроса\n",
    "query = f'''\n",
    "SELECT\n",
    "    experience,\n",
    "    COUNT(*) as qnt\n",
    "FROM vacancies\n",
    "GROUP BY experience\n",
    "ORDER BY qnt\n",
    "'''"
   ]
  },
  {
   "cell_type": "code",
   "execution_count": 22,
   "id": "3Is64Y-hpDpq",
   "metadata": {
    "id": "3Is64Y-hpDpq"
   },
   "outputs": [
    {
     "data": {
      "text/html": [
       "<div>\n",
       "<style scoped>\n",
       "    .dataframe tbody tr th:only-of-type {\n",
       "        vertical-align: middle;\n",
       "    }\n",
       "\n",
       "    .dataframe tbody tr th {\n",
       "        vertical-align: top;\n",
       "    }\n",
       "\n",
       "    .dataframe thead th {\n",
       "        text-align: right;\n",
       "    }\n",
       "</style>\n",
       "<table border=\"1\" class=\"dataframe\">\n",
       "  <thead>\n",
       "    <tr style=\"text-align: right;\">\n",
       "      <th></th>\n",
       "      <th>experience</th>\n",
       "      <th>qnt</th>\n",
       "    </tr>\n",
       "  </thead>\n",
       "  <tbody>\n",
       "    <tr>\n",
       "      <th>0</th>\n",
       "      <td>Более 6 лет</td>\n",
       "      <td>1337</td>\n",
       "    </tr>\n",
       "    <tr>\n",
       "      <th>1</th>\n",
       "      <td>Нет опыта</td>\n",
       "      <td>7197</td>\n",
       "    </tr>\n",
       "    <tr>\n",
       "      <th>2</th>\n",
       "      <td>От 3 до 6 лет</td>\n",
       "      <td>14511</td>\n",
       "    </tr>\n",
       "    <tr>\n",
       "      <th>3</th>\n",
       "      <td>От 1 года до 3 лет</td>\n",
       "      <td>26152</td>\n",
       "    </tr>\n",
       "  </tbody>\n",
       "</table>\n",
       "</div>"
      ],
      "text/plain": [
       "           experience    qnt\n",
       "0         Более 6 лет   1337\n",
       "1           Нет опыта   7197\n",
       "2       От 3 до 6 лет  14511\n",
       "3  От 1 года до 3 лет  26152"
      ]
     },
     "metadata": {},
     "output_type": "display_data"
    }
   ],
   "source": [
    "# Самым востребованным является опыт от 1 до 3 лет, сотрудники с опытом более 6 лет наименее интересны работодателям.\n",
    "\n",
    "df = pd.read_sql_query(query, connection)\n",
    "display(df)"
   ]
  },
  {
   "cell_type": "markdown",
   "id": "oq2b7n1QpIka",
   "metadata": {
    "id": "oq2b7n1QpIka"
   },
   "source": [
    "***"
   ]
  },
  {
   "cell_type": "code",
   "execution_count": 23,
   "id": "e91f87ed-e25c-4f96-9f92-b642e8c0b4fa",
   "metadata": {
    "id": "e91f87ed-e25c-4f96-9f92-b642e8c0b4fa"
   },
   "outputs": [],
   "source": [
    "# выводы по детальному анализу вакансий\n",
    "# Наибольшее количество вакансий в Москве и Санкт-Петербурге. Что предположительно коррелирует с численностью \n",
    "# населения и развитостью инфраструктуры.\n",
    "# Далеко не все работодатели указывают уровень заработной платы. Предположительно это дает работодателю возможность\n",
    "# находить на одну вакансию специалистов разного уровня, и устанавливать индивидуальный уровень зарплаты по результатам\n",
    "# собеседования.\n",
    "# В среднем уровень зарплаты выставляется работодателями от 70 до 110 тыс руб.\n",
    "# Видно, что удаленный формат работы довольно востребованный, и находится на втором месте после традиционного \n",
    "# \"Полный день - Полная занятость\". На \"удаленке\" работодатели чаще всего также желают от сотрудников полной занятости.\n",
    "# На удивление малая востребованность специалистов с опытом от 6 лет. Тут могут быть разные ситуации:\n",
    "# - работодатель не хочет сужать круг потенциальных кандидатов\n",
    "# - кто-то считает что через 5 лет в отдной специальности случается профессиональное выгорание, и лучше взять кого-то\n",
    "# менее опытного, но с \"огоньком в глазах\"."
   ]
  },
  {
   "cell_type": "markdown",
   "id": "7ea20ab6-04a7-40a0-adec-443a0e5a42c3",
   "metadata": {
    "id": "7ea20ab6-04a7-40a0-adec-443a0e5a42c3"
   },
   "source": [
    "# Юнит 5. Анализ работодателей"
   ]
  },
  {
   "cell_type": "markdown",
   "id": "968aed80-74ef-4ffb-b5bf-c65b84e9caea",
   "metadata": {
    "id": "968aed80-74ef-4ffb-b5bf-c65b84e9caea"
   },
   "source": [
    "1. Напишите запрос, который позволит узнать, какие работодатели находятся на первом и пятом месте по количеству вакансий."
   ]
  },
  {
   "cell_type": "code",
   "execution_count": 24,
   "id": "f2d62796-d400-4ec1-a675-88112739a50e",
   "metadata": {
    "id": "f2d62796-d400-4ec1-a675-88112739a50e"
   },
   "outputs": [],
   "source": [
    "# текст запроса\n",
    "query = f'''\n",
    "SELECT \n",
    "    employers.name,\n",
    "    qnt\n",
    "FROM(\n",
    "    \n",
    "-----делаю таблицу из 2 строк с id работодателя-------\n",
    "    (SELECT\n",
    "        employer_id,\n",
    "        COUNT(*) as qnt\n",
    "    FROM vacancies\n",
    "    GROUP BY employer_id\n",
    "    ORDER BY qnt DESC\n",
    "    LIMIT 1) -- выбор первого места\n",
    "    \n",
    "    UNION ALL -- склеиваю первую и пятую строчку\n",
    "    \n",
    "    (SELECT\n",
    "        employer_id,\n",
    "        COUNT(*) as qnt\n",
    "    FROM vacancies\n",
    "    GROUP BY employer_id\n",
    "    ORDER BY qnt DESC\n",
    "    LIMIT 1\n",
    "    OFFSET 4) -- выбор пятого места\n",
    ") as employers_id\n",
    "\n",
    "----достаю наименование работодателя---------------\n",
    "    JOIN employers on employers_id.employer_id = employers.id\n",
    "'''"
   ]
  },
  {
   "cell_type": "code",
   "execution_count": 25,
   "id": "64tOMkAxqkQk",
   "metadata": {
    "id": "64tOMkAxqkQk"
   },
   "outputs": [
    {
     "data": {
      "text/html": [
       "<div>\n",
       "<style scoped>\n",
       "    .dataframe tbody tr th:only-of-type {\n",
       "        vertical-align: middle;\n",
       "    }\n",
       "\n",
       "    .dataframe tbody tr th {\n",
       "        vertical-align: top;\n",
       "    }\n",
       "\n",
       "    .dataframe thead th {\n",
       "        text-align: right;\n",
       "    }\n",
       "</style>\n",
       "<table border=\"1\" class=\"dataframe\">\n",
       "  <thead>\n",
       "    <tr style=\"text-align: right;\">\n",
       "      <th></th>\n",
       "      <th>name</th>\n",
       "      <th>qnt</th>\n",
       "    </tr>\n",
       "  </thead>\n",
       "  <tbody>\n",
       "    <tr>\n",
       "      <th>0</th>\n",
       "      <td>Яндекс</td>\n",
       "      <td>1933</td>\n",
       "    </tr>\n",
       "    <tr>\n",
       "      <th>1</th>\n",
       "      <td>Газпром нефть</td>\n",
       "      <td>331</td>\n",
       "    </tr>\n",
       "  </tbody>\n",
       "</table>\n",
       "</div>"
      ],
      "text/plain": [
       "            name   qnt\n",
       "0         Яндекс  1933\n",
       "1  Газпром нефть   331"
      ]
     },
     "metadata": {},
     "output_type": "display_data"
    }
   ],
   "source": [
    "# На первом месте по количеству вакансий Яндекс (1933), на пятом - Газпром нефть(331).\n",
    "\n",
    "df = pd.read_sql_query(query, connection)\n",
    "display(df)"
   ]
  },
  {
   "cell_type": "markdown",
   "id": "68377cfc-b378-43dc-ab7d-1195abf2c515",
   "metadata": {
    "id": "68377cfc-b378-43dc-ab7d-1195abf2c515"
   },
   "source": [
    "2. Напишите запрос, который для каждого региона выведет количество работодателей и вакансий в нём.\n",
    "Среди регионов, в которых нет вакансий, найдите тот, в котором наибольшее количество работодателей.\n"
   ]
  },
  {
   "cell_type": "code",
   "execution_count": 26,
   "id": "dd7df27a-e3e8-412e-a21a-5d389b71e891",
   "metadata": {
    "id": "dd7df27a-e3e8-412e-a21a-5d389b71e891"
   },
   "outputs": [],
   "source": [
    "# текст запроса\n",
    "query = f'''\n",
    "SELECT\n",
    "    area,\n",
    "    employer_qnt,\n",
    "    vacancies_qnt\n",
    "FROM\n",
    "-----создание таблицы с группировкой по работодателям и городам-----------\n",
    "    (SELECT\n",
    "        areas.name as area,\n",
    "        areas.id,\n",
    "        COUNT(distinct employers.id) as employer_qnt\n",
    "    FROM areas\n",
    "        JOIN employers on areas.id = employers.area\n",
    "    GROUP BY areas.name, areas.id\n",
    "    ) as employers_group\n",
    "    \n",
    "LEFT JOIN -- соединяю сгруппированные таблицы\n",
    "\n",
    "-----создание таблицы с группировкой по вакансиям и городам-----------\n",
    "        (SELECT \n",
    "            vacancies.area_id,\n",
    "            COUNT(*) as vacancies_qnt\n",
    "        FROM vacancies\n",
    "        GROUP BY vacancies.area_id\n",
    "        ) as vacancies_group\n",
    "        \n",
    "----------соединение полученных таблиц по городам------------        \n",
    "    on employers_group.id = vacancies_group.area_id     \n",
    "\n",
    "ORDER BY vacancies_qnt DESC nulls first, employer_qnt DESC\n",
    "'''"
   ]
  },
  {
   "cell_type": "code",
   "execution_count": 27,
   "id": "x1ikWbydrbf6",
   "metadata": {
    "id": "x1ikWbydrbf6",
    "scrolled": false
   },
   "outputs": [
    {
     "data": {
      "text/html": [
       "<div>\n",
       "<style scoped>\n",
       "    .dataframe tbody tr th:only-of-type {\n",
       "        vertical-align: middle;\n",
       "    }\n",
       "\n",
       "    .dataframe tbody tr th {\n",
       "        vertical-align: top;\n",
       "    }\n",
       "\n",
       "    .dataframe thead th {\n",
       "        text-align: right;\n",
       "    }\n",
       "</style>\n",
       "<table border=\"1\" class=\"dataframe\">\n",
       "  <thead>\n",
       "    <tr style=\"text-align: right;\">\n",
       "      <th></th>\n",
       "      <th>area</th>\n",
       "      <th>employer_qnt</th>\n",
       "      <th>vacancies_qnt</th>\n",
       "    </tr>\n",
       "  </thead>\n",
       "  <tbody>\n",
       "    <tr>\n",
       "      <th>0</th>\n",
       "      <td>Россия</td>\n",
       "      <td>410</td>\n",
       "      <td>NaN</td>\n",
       "    </tr>\n",
       "    <tr>\n",
       "      <th>1</th>\n",
       "      <td>Казахстан</td>\n",
       "      <td>207</td>\n",
       "      <td>NaN</td>\n",
       "    </tr>\n",
       "    <tr>\n",
       "      <th>2</th>\n",
       "      <td>Московская область</td>\n",
       "      <td>75</td>\n",
       "      <td>NaN</td>\n",
       "    </tr>\n",
       "    <tr>\n",
       "      <th>3</th>\n",
       "      <td>Краснодарский край</td>\n",
       "      <td>19</td>\n",
       "      <td>NaN</td>\n",
       "    </tr>\n",
       "    <tr>\n",
       "      <th>4</th>\n",
       "      <td>Ростовская область</td>\n",
       "      <td>18</td>\n",
       "      <td>NaN</td>\n",
       "    </tr>\n",
       "    <tr>\n",
       "      <th>...</th>\n",
       "      <td>...</td>\n",
       "      <td>...</td>\n",
       "      <td>...</td>\n",
       "    </tr>\n",
       "    <tr>\n",
       "      <th>649</th>\n",
       "      <td>Михнево (Московская область, Ступинский район)</td>\n",
       "      <td>1</td>\n",
       "      <td>1.0</td>\n",
       "    </tr>\n",
       "    <tr>\n",
       "      <th>650</th>\n",
       "      <td>Электроугли</td>\n",
       "      <td>1</td>\n",
       "      <td>1.0</td>\n",
       "    </tr>\n",
       "    <tr>\n",
       "      <th>651</th>\n",
       "      <td>Лысьва</td>\n",
       "      <td>1</td>\n",
       "      <td>1.0</td>\n",
       "    </tr>\n",
       "    <tr>\n",
       "      <th>652</th>\n",
       "      <td>Тихорецк</td>\n",
       "      <td>1</td>\n",
       "      <td>1.0</td>\n",
       "    </tr>\n",
       "    <tr>\n",
       "      <th>653</th>\n",
       "      <td>Рассказово</td>\n",
       "      <td>1</td>\n",
       "      <td>1.0</td>\n",
       "    </tr>\n",
       "  </tbody>\n",
       "</table>\n",
       "<p>654 rows × 3 columns</p>\n",
       "</div>"
      ],
      "text/plain": [
       "                                               area  employer_qnt  \\\n",
       "0                                            Россия           410   \n",
       "1                                         Казахстан           207   \n",
       "2                                Московская область            75   \n",
       "3                                Краснодарский край            19   \n",
       "4                                Ростовская область            18   \n",
       "..                                              ...           ...   \n",
       "649  Михнево (Московская область, Ступинский район)             1   \n",
       "650                                     Электроугли             1   \n",
       "651                                          Лысьва             1   \n",
       "652                                        Тихорецк             1   \n",
       "653                                      Рассказово             1   \n",
       "\n",
       "     vacancies_qnt  \n",
       "0              NaN  \n",
       "1              NaN  \n",
       "2              NaN  \n",
       "3              NaN  \n",
       "4              NaN  \n",
       "..             ...  \n",
       "649            1.0  \n",
       "650            1.0  \n",
       "651            1.0  \n",
       "652            1.0  \n",
       "653            1.0  \n",
       "\n",
       "[654 rows x 3 columns]"
      ]
     },
     "metadata": {},
     "output_type": "display_data"
    }
   ],
   "source": [
    "# Наибольшее количество работодателей без вакансий оказалось в \"регионе\" Россия, что не вполне корректно с точки зрения\n",
    "# определения самого региона. Такое произошло, потому что при многие работодатели позиционируют себя не в рамках\n",
    "# конкретной локации, а в рамках страны. При этом в вакансиях указывают конкретный город для работы.\n",
    "# Если смотреть по регионам, то локации с наибольшим количеством работодателей совпадают с локациями наибольших количеств вакансий, которые вычисляли выше.\n",
    "\n",
    "df = pd.read_sql_query(query, connection)\n",
    "display(df)"
   ]
  },
  {
   "cell_type": "markdown",
   "id": "f2fe0acb-ab1a-4e15-9326-2560e22d73c1",
   "metadata": {
    "id": "f2fe0acb-ab1a-4e15-9326-2560e22d73c1"
   },
   "source": [
    "3. Для каждого работодателя посчитайте количество регионов, в которых он публикует свои вакансии. Отсортируйте результат по убыванию количества.\n"
   ]
  },
  {
   "cell_type": "code",
   "execution_count": 28,
   "id": "6271f8ad-bd2e-4196-ae4a-5b39c4c1010e",
   "metadata": {
    "id": "6271f8ad-bd2e-4196-ae4a-5b39c4c1010e"
   },
   "outputs": [],
   "source": [
    "# текст запроса\n",
    "query = f'''\n",
    "SELECT\n",
    "    employers.name,\n",
    "    COUNT(distinct area_id) as area_qnt\n",
    "FROM vacancies\n",
    "    JOIN employers on vacancies.employer_id = employers.id\n",
    "GROUP BY employers.name\n",
    "ORDER BY area_qnt DESC\n",
    "'''"
   ]
  },
  {
   "cell_type": "code",
   "execution_count": 29,
   "id": "1EIvX3HasH4F",
   "metadata": {
    "id": "1EIvX3HasH4F"
   },
   "outputs": [
    {
     "data": {
      "text/html": [
       "<div>\n",
       "<style scoped>\n",
       "    .dataframe tbody tr th:only-of-type {\n",
       "        vertical-align: middle;\n",
       "    }\n",
       "\n",
       "    .dataframe tbody tr th {\n",
       "        vertical-align: top;\n",
       "    }\n",
       "\n",
       "    .dataframe thead th {\n",
       "        text-align: right;\n",
       "    }\n",
       "</style>\n",
       "<table border=\"1\" class=\"dataframe\">\n",
       "  <thead>\n",
       "    <tr style=\"text-align: right;\">\n",
       "      <th></th>\n",
       "      <th>name</th>\n",
       "      <th>area_qnt</th>\n",
       "    </tr>\n",
       "  </thead>\n",
       "  <tbody>\n",
       "    <tr>\n",
       "      <th>0</th>\n",
       "      <td>Яндекс</td>\n",
       "      <td>181</td>\n",
       "    </tr>\n",
       "    <tr>\n",
       "      <th>1</th>\n",
       "      <td>Ростелеком</td>\n",
       "      <td>152</td>\n",
       "    </tr>\n",
       "    <tr>\n",
       "      <th>2</th>\n",
       "      <td>Спецремонт</td>\n",
       "      <td>116</td>\n",
       "    </tr>\n",
       "    <tr>\n",
       "      <th>3</th>\n",
       "      <td>Поляков Денис Иванович</td>\n",
       "      <td>88</td>\n",
       "    </tr>\n",
       "    <tr>\n",
       "      <th>4</th>\n",
       "      <td>ООО ЕФИН</td>\n",
       "      <td>71</td>\n",
       "    </tr>\n",
       "    <tr>\n",
       "      <th>...</th>\n",
       "      <td>...</td>\n",
       "      <td>...</td>\n",
       "    </tr>\n",
       "    <tr>\n",
       "      <th>14761</th>\n",
       "      <td>UniSol</td>\n",
       "      <td>1</td>\n",
       "    </tr>\n",
       "    <tr>\n",
       "      <th>14762</th>\n",
       "      <td>UNISTORY LLC</td>\n",
       "      <td>1</td>\n",
       "    </tr>\n",
       "    <tr>\n",
       "      <th>14763</th>\n",
       "      <td>UNIT6</td>\n",
       "      <td>1</td>\n",
       "    </tr>\n",
       "    <tr>\n",
       "      <th>14764</th>\n",
       "      <td>United Distribution</td>\n",
       "      <td>1</td>\n",
       "    </tr>\n",
       "    <tr>\n",
       "      <th>14765</th>\n",
       "      <td>UNITEL LLC</td>\n",
       "      <td>1</td>\n",
       "    </tr>\n",
       "  </tbody>\n",
       "</table>\n",
       "<p>14766 rows × 2 columns</p>\n",
       "</div>"
      ],
      "text/plain": [
       "                         name  area_qnt\n",
       "0                      Яндекс       181\n",
       "1                  Ростелеком       152\n",
       "2                  Спецремонт       116\n",
       "3      Поляков Денис Иванович        88\n",
       "4                   ООО ЕФИН         71\n",
       "...                       ...       ...\n",
       "14761                  UniSol         1\n",
       "14762            UNISTORY LLC         1\n",
       "14763                   UNIT6         1\n",
       "14764     United Distribution         1\n",
       "14765              UNITEL LLC         1\n",
       "\n",
       "[14766 rows x 2 columns]"
      ]
     },
     "metadata": {},
     "output_type": "display_data"
    }
   ],
   "source": [
    "# Чемпионами по охвату регионов вакансиями являются IT-компании Яндекс и Ростелеком, 181 и 152 региона соответственно.\n",
    "\n",
    "df = pd.read_sql_query(query, connection)\n",
    "display(df)"
   ]
  },
  {
   "cell_type": "markdown",
   "id": "eab2206d-d95b-468b-8e5f-34381abf0ce7",
   "metadata": {
    "id": "eab2206d-d95b-468b-8e5f-34381abf0ce7"
   },
   "source": [
    "4. Напишите запрос для подсчёта количества работодателей, у которых не указана сфера деятельности. "
   ]
  },
  {
   "cell_type": "code",
   "execution_count": 30,
   "id": "80defb23-bfb1-4a18-8be6-bf36aa7165d5",
   "metadata": {
    "id": "80defb23-bfb1-4a18-8be6-bf36aa7165d5"
   },
   "outputs": [],
   "source": [
    "# текст запроса\n",
    "query = f'''\n",
    "SELECT COUNT(*)\n",
    "FROM employers\n",
    "    LEFT JOIN employers_industries as e_i on employers.id = e_i.employer_id\n",
    "WHERE industry_id is null\n",
    "'''"
   ]
  },
  {
   "cell_type": "code",
   "execution_count": 31,
   "id": "Dp_yCx6ysQSu",
   "metadata": {
    "id": "Dp_yCx6ysQSu"
   },
   "outputs": [
    {
     "data": {
      "text/html": [
       "<div>\n",
       "<style scoped>\n",
       "    .dataframe tbody tr th:only-of-type {\n",
       "        vertical-align: middle;\n",
       "    }\n",
       "\n",
       "    .dataframe tbody tr th {\n",
       "        vertical-align: top;\n",
       "    }\n",
       "\n",
       "    .dataframe thead th {\n",
       "        text-align: right;\n",
       "    }\n",
       "</style>\n",
       "<table border=\"1\" class=\"dataframe\">\n",
       "  <thead>\n",
       "    <tr style=\"text-align: right;\">\n",
       "      <th></th>\n",
       "      <th>count</th>\n",
       "    </tr>\n",
       "  </thead>\n",
       "  <tbody>\n",
       "    <tr>\n",
       "      <th>0</th>\n",
       "      <td>8419</td>\n",
       "    </tr>\n",
       "  </tbody>\n",
       "</table>\n",
       "</div>"
      ],
      "text/plain": [
       "   count\n",
       "0   8419"
      ]
     },
     "metadata": {},
     "output_type": "display_data"
    }
   ],
   "source": [
    "# Оказалось 8419 работодателя не указали сферу деятельности.\n",
    "\n",
    "df = pd.read_sql_query(query, connection)\n",
    "display(df)"
   ]
  },
  {
   "cell_type": "markdown",
   "id": "0112af31-f6b0-4e3b-82ab-71296e752e5e",
   "metadata": {
    "id": "0112af31-f6b0-4e3b-82ab-71296e752e5e"
   },
   "source": [
    "5. Напишите запрос, чтобы узнать название компании, находящейся на третьем месте в алфавитном списке (по названию) компаний, у которых указано четыре сферы деятельности. "
   ]
  },
  {
   "cell_type": "code",
   "execution_count": 32,
   "id": "973b0cfc-a972-470a-8b4a-68744ef220c4",
   "metadata": {
    "id": "973b0cfc-a972-470a-8b4a-68744ef220c4"
   },
   "outputs": [],
   "source": [
    "# текст запроса\n",
    "query = f'''\n",
    "SELECT\n",
    "    employers.name,\n",
    "    COUNT(industry_id) as qnt\n",
    "FROM employers\n",
    "    LEFT JOIN employers_industries as e_i on employers.id = e_i.employer_id\n",
    "GROUP BY employers.name\n",
    "having COUNT(industry_id) = 4\n",
    "ORDER BY 1\n",
    "LIMIT 1\n",
    "OFFSET 2\n",
    "\n",
    "'''"
   ]
  },
  {
   "cell_type": "code",
   "execution_count": 33,
   "id": "xsPtpp8EsaED",
   "metadata": {
    "id": "xsPtpp8EsaED"
   },
   "outputs": [
    {
     "data": {
      "text/html": [
       "<div>\n",
       "<style scoped>\n",
       "    .dataframe tbody tr th:only-of-type {\n",
       "        vertical-align: middle;\n",
       "    }\n",
       "\n",
       "    .dataframe tbody tr th {\n",
       "        vertical-align: top;\n",
       "    }\n",
       "\n",
       "    .dataframe thead th {\n",
       "        text-align: right;\n",
       "    }\n",
       "</style>\n",
       "<table border=\"1\" class=\"dataframe\">\n",
       "  <thead>\n",
       "    <tr style=\"text-align: right;\">\n",
       "      <th></th>\n",
       "      <th>name</th>\n",
       "      <th>qnt</th>\n",
       "    </tr>\n",
       "  </thead>\n",
       "  <tbody>\n",
       "    <tr>\n",
       "      <th>0</th>\n",
       "      <td>2ГИС</td>\n",
       "      <td>4</td>\n",
       "    </tr>\n",
       "  </tbody>\n",
       "</table>\n",
       "</div>"
      ],
      "text/plain": [
       "   name  qnt\n",
       "0  2ГИС    4"
      ]
     },
     "metadata": {},
     "output_type": "display_data"
    }
   ],
   "source": [
    "# На третьем месте с четырьмя сферами деятельности оказалась компания 2ГИС\n",
    "\n",
    "df = pd.read_sql_query(query, connection)\n",
    "display(df)"
   ]
  },
  {
   "cell_type": "markdown",
   "id": "3bfcfdaf-755d-4d2b-8ed8-326201dc07ab",
   "metadata": {
    "id": "3bfcfdaf-755d-4d2b-8ed8-326201dc07ab"
   },
   "source": [
    "6. С помощью запроса выясните, у какого количества работодателей в качестве сферы деятельности указана Разработка программного обеспечения.\n"
   ]
  },
  {
   "cell_type": "code",
   "execution_count": 34,
   "id": "ad3f270f-2991-47eb-929b-e8f88a55b0d1",
   "metadata": {
    "id": "ad3f270f-2991-47eb-929b-e8f88a55b0d1"
   },
   "outputs": [],
   "source": [
    "# текст запроса\n",
    "query = f'''\n",
    "SELECT\n",
    "    COUNT(*)\n",
    "FROM employers\n",
    "    JOIN employers_industries as e_i on employers.id = e_i.employer_id\n",
    "    JOIN industries on e_i.industry_id = industries.id\n",
    "WHERE industries.name = 'Разработка программного обеспечения'\n",
    "\n",
    "'''"
   ]
  },
  {
   "cell_type": "code",
   "execution_count": 35,
   "id": "H72qxWM0shPR",
   "metadata": {
    "id": "H72qxWM0shPR"
   },
   "outputs": [
    {
     "data": {
      "text/html": [
       "<div>\n",
       "<style scoped>\n",
       "    .dataframe tbody tr th:only-of-type {\n",
       "        vertical-align: middle;\n",
       "    }\n",
       "\n",
       "    .dataframe tbody tr th {\n",
       "        vertical-align: top;\n",
       "    }\n",
       "\n",
       "    .dataframe thead th {\n",
       "        text-align: right;\n",
       "    }\n",
       "</style>\n",
       "<table border=\"1\" class=\"dataframe\">\n",
       "  <thead>\n",
       "    <tr style=\"text-align: right;\">\n",
       "      <th></th>\n",
       "      <th>count</th>\n",
       "    </tr>\n",
       "  </thead>\n",
       "  <tbody>\n",
       "    <tr>\n",
       "      <th>0</th>\n",
       "      <td>3553</td>\n",
       "    </tr>\n",
       "  </tbody>\n",
       "</table>\n",
       "</div>"
      ],
      "text/plain": [
       "   count\n",
       "0   3553"
      ]
     },
     "metadata": {},
     "output_type": "display_data"
    }
   ],
   "source": [
    "# Разработка програмного обеспечения как сфера деятельности указана у 3553 работодателей.\n",
    "\n",
    "df = pd.read_sql_query(query, connection)\n",
    "display(df)"
   ]
  },
  {
   "cell_type": "markdown",
   "id": "7b02bb86-0546-40fb-94a4-242f050a5c57",
   "metadata": {
    "id": "7b02bb86-0546-40fb-94a4-242f050a5c57"
   },
   "source": [
    "7. Для компании «Яндекс» выведите список регионов-миллионников, в которых представлены вакансии компании, вместе с количеством вакансий в этих регионах. Также добавьте строку Total с общим количеством вакансий компании. Результат отсортируйте по возрастанию количества.\n",
    "\n",
    "Список городов-милионников надо взять [отсюда](https://ru.wikipedia.org/wiki/%D0%93%D0%BE%D1%80%D0%BE%D0%B4%D0%B0-%D0%BC%D0%B8%D0%BB%D0%BB%D0%B8%D0%BE%D0%BD%D0%B5%D1%80%D1%8B_%D0%A0%D0%BE%D1%81%D1%81%D0%B8%D0%B8). \n",
    "\n",
    "Если возникнут трудности с этим задание посмотрите материалы модуля  PYTHON-17. Как получать данные из веб-источников и API. "
   ]
  },
  {
   "cell_type": "code",
   "execution_count": 36,
   "id": "ZdfrL6gIs1Pn",
   "metadata": {
    "id": "ZdfrL6gIs1Pn"
   },
   "outputs": [
    {
     "name": "stdout",
     "output_type": "stream",
     "text": [
      "('Москва', 'Санкт-Петербург', 'Новосибирск', 'Екатеринбург', 'Казань', 'Нижний Новгород', 'Челябинск', 'Красноярск', 'Самара', 'Уфа', 'Ростов-на-Дону', 'Омск', 'Краснодар', 'Воронеж', 'Пермь', 'Волгоград')\n"
     ]
    }
   ],
   "source": [
    "# код для получения списка городов-милионников\n",
    "import requests # Импортируем библиотеку requests\n",
    "from bs4 import BeautifulSoup # Импортируем библиотеку BeautifulSoup\n",
    "import urllib.parse as req\n",
    "\n",
    "# Получение ссылки в нужном виде\n",
    "path_common = req.urlparse('https://ru.wikipedia.org/wiki/Города-миллионеры_России#Список_городов-миллионеров')\n",
    "url = path_common.scheme + '://' + req.quote(path_common.netloc) +  req.quote(path_common.path) + '#'+ req.quote(path_common.fragment)\n",
    "\n",
    "df_mln = pd.read_html(url)[1]\n",
    "srt_del = str('[a]')\n",
    "df_mln['Город'] = df_mln['Город'].str.replace(srt_del, '')\n",
    "df_mln['Город'] = df_mln['Город'].str.replace('[', '')\n",
    "df_mln['Город'] = df_mln['Город'].str.replace(']', '')\n",
    "\n",
    "# Сохраняю список городов в виде кортежа для дальнейшего использования в запросе.\n",
    "city_list = tuple(df_mln['Город'])\n",
    "print(city_list)\n"
   ]
  },
  {
   "cell_type": "code",
   "execution_count": 37,
   "id": "5a0e32a4-e68a-4365-8a39-2fe24c542c36",
   "metadata": {
    "id": "5a0e32a4-e68a-4365-8a39-2fe24c542c36"
   },
   "outputs": [],
   "source": [
    "# текст запроса\n",
    "query = f'''\n",
    "\n",
    "---Таблица с группировкой по городам и сортировкой по количеству---\n",
    "(SELECT\n",
    "    areas.name,\n",
    "    COUNT(*) as qnt\n",
    "FROM employers\n",
    "    JOIN vacancies on employers.id = vacancies.employer_id\n",
    "    JOIN areas on vacancies.area_id = areas.id\n",
    "WHERE employers.name = 'Яндекс'\n",
    "    AND areas.name in {city_list}\n",
    "GROUP BY areas.name\n",
    "ORDER BY 2 )\n",
    "\n",
    "UNION ALL --Склеивание таблицы с итогами\n",
    "\n",
    "---Таблица с общим количеством заявок---\n",
    "SELECT 'Total', sum(qnt)\n",
    "FROM(\n",
    "    SELECT\n",
    "    areas.name,\n",
    "    COUNT(*) as qnt\n",
    "FROM employers\n",
    "    JOIN vacancies on employers.id = vacancies.employer_id\n",
    "    JOIN areas on vacancies.area_id = areas.id\n",
    "WHERE employers.name = 'Яндекс'\n",
    "    AND areas.name in {city_list}\n",
    "GROUP BY areas.name\n",
    ") as total    \n",
    "'''"
   ]
  },
  {
   "cell_type": "code",
   "execution_count": 38,
   "id": "ttPhiO1rsvPq",
   "metadata": {
    "id": "ttPhiO1rsvPq"
   },
   "outputs": [
    {
     "data": {
      "text/html": [
       "<div>\n",
       "<style scoped>\n",
       "    .dataframe tbody tr th:only-of-type {\n",
       "        vertical-align: middle;\n",
       "    }\n",
       "\n",
       "    .dataframe tbody tr th {\n",
       "        vertical-align: top;\n",
       "    }\n",
       "\n",
       "    .dataframe thead th {\n",
       "        text-align: right;\n",
       "    }\n",
       "</style>\n",
       "<table border=\"1\" class=\"dataframe\">\n",
       "  <thead>\n",
       "    <tr style=\"text-align: right;\">\n",
       "      <th></th>\n",
       "      <th>name</th>\n",
       "      <th>qnt</th>\n",
       "    </tr>\n",
       "  </thead>\n",
       "  <tbody>\n",
       "    <tr>\n",
       "      <th>0</th>\n",
       "      <td>Омск</td>\n",
       "      <td>21.0</td>\n",
       "    </tr>\n",
       "    <tr>\n",
       "      <th>1</th>\n",
       "      <td>Челябинск</td>\n",
       "      <td>22.0</td>\n",
       "    </tr>\n",
       "    <tr>\n",
       "      <th>2</th>\n",
       "      <td>Красноярск</td>\n",
       "      <td>23.0</td>\n",
       "    </tr>\n",
       "    <tr>\n",
       "      <th>3</th>\n",
       "      <td>Волгоград</td>\n",
       "      <td>24.0</td>\n",
       "    </tr>\n",
       "    <tr>\n",
       "      <th>4</th>\n",
       "      <td>Пермь</td>\n",
       "      <td>25.0</td>\n",
       "    </tr>\n",
       "    <tr>\n",
       "      <th>5</th>\n",
       "      <td>Казань</td>\n",
       "      <td>25.0</td>\n",
       "    </tr>\n",
       "    <tr>\n",
       "      <th>6</th>\n",
       "      <td>Ростов-на-Дону</td>\n",
       "      <td>25.0</td>\n",
       "    </tr>\n",
       "    <tr>\n",
       "      <th>7</th>\n",
       "      <td>Уфа</td>\n",
       "      <td>26.0</td>\n",
       "    </tr>\n",
       "    <tr>\n",
       "      <th>8</th>\n",
       "      <td>Самара</td>\n",
       "      <td>26.0</td>\n",
       "    </tr>\n",
       "    <tr>\n",
       "      <th>9</th>\n",
       "      <td>Краснодар</td>\n",
       "      <td>30.0</td>\n",
       "    </tr>\n",
       "    <tr>\n",
       "      <th>10</th>\n",
       "      <td>Воронеж</td>\n",
       "      <td>32.0</td>\n",
       "    </tr>\n",
       "    <tr>\n",
       "      <th>11</th>\n",
       "      <td>Новосибирск</td>\n",
       "      <td>35.0</td>\n",
       "    </tr>\n",
       "    <tr>\n",
       "      <th>12</th>\n",
       "      <td>Нижний Новгород</td>\n",
       "      <td>36.0</td>\n",
       "    </tr>\n",
       "    <tr>\n",
       "      <th>13</th>\n",
       "      <td>Екатеринбург</td>\n",
       "      <td>39.0</td>\n",
       "    </tr>\n",
       "    <tr>\n",
       "      <th>14</th>\n",
       "      <td>Санкт-Петербург</td>\n",
       "      <td>42.0</td>\n",
       "    </tr>\n",
       "    <tr>\n",
       "      <th>15</th>\n",
       "      <td>Москва</td>\n",
       "      <td>54.0</td>\n",
       "    </tr>\n",
       "    <tr>\n",
       "      <th>16</th>\n",
       "      <td>Total</td>\n",
       "      <td>485.0</td>\n",
       "    </tr>\n",
       "  </tbody>\n",
       "</table>\n",
       "</div>"
      ],
      "text/plain": [
       "               name    qnt\n",
       "0              Омск   21.0\n",
       "1         Челябинск   22.0\n",
       "2        Красноярск   23.0\n",
       "3         Волгоград   24.0\n",
       "4             Пермь   25.0\n",
       "5            Казань   25.0\n",
       "6    Ростов-на-Дону   25.0\n",
       "7               Уфа   26.0\n",
       "8            Самара   26.0\n",
       "9         Краснодар   30.0\n",
       "10          Воронеж   32.0\n",
       "11      Новосибирск   35.0\n",
       "12  Нижний Новгород   36.0\n",
       "13     Екатеринбург   39.0\n",
       "14  Санкт-Петербург   42.0\n",
       "15           Москва   54.0\n",
       "16            Total  485.0"
      ]
     },
     "metadata": {},
     "output_type": "display_data"
    }
   ],
   "source": [
    "# Всего в городах - милионниках Яндекс разместил 485 вакансий, больше всего в Москве и СПб,\n",
    "# менее всего в Омске и Челябинске.\n",
    "df = pd.read_sql_query(query, connection)\n",
    "display(df)"
   ]
  },
  {
   "cell_type": "markdown",
   "id": "04966e40-3bc3-4dc8-9ba2-e80580ce3abc",
   "metadata": {
    "id": "04966e40-3bc3-4dc8-9ba2-e80580ce3abc"
   },
   "source": [
    "***"
   ]
  },
  {
   "cell_type": "code",
   "execution_count": 39,
   "id": "aGGyER-yt4SR",
   "metadata": {
    "id": "aGGyER-yt4SR"
   },
   "outputs": [],
   "source": [
    "# выводы по анализу работодателей\n",
    "# По количеству вакансий лидируют представители IT-сектора (Яндекс, Ростелеком),\n",
    "# довольно близок к ним банковский сектор (Тинькофф, Сбер), пятерку лидеров замыкает Газпром нефть.\n",
    "# Локации с самыми большими скоплениями работодателей совпадают со скоплениями вакансий.\n",
    "# Это города: Москва, Санкт-Петербург, Минск, Новосибирск, Алматы.\n",
    "# Наибольший охват регионов вакансиями у Яндекса и Ростелекома, 181 и 152 региона соответственно.\n",
    "# Яндекс оказался очень плодовит на вакансии, только по городам-миллионникам 485 вакансий. Дополнительно\n",
    "# провел и сследование вакансий Яндекса во Владивостоке (код в разделе \"Дополнительные исследования\"). По\n",
    "# Владивостоку оказалось 27 вакансий от Яндекс, но после первых трех уровни оплаты идут несоизмеримо\n",
    "# низкие для сдешнего уровня жизни. Например, продукты питания и первой необходимости стоят ощутимо дороже,\n",
    "# чем в Москве, проживание тоже недешевое. Думаю, что закрыть вакансии с уровнем 15-30 тыс руб нормальными кадрами во \n",
    "# Владивостоке задача не из простых. Вероятно, отсюда и такое немалое количество вакансий."
   ]
  },
  {
   "cell_type": "markdown",
   "id": "b1ef156a-efcb-49ce-bb23-90763e7f35b2",
   "metadata": {
    "id": "b1ef156a-efcb-49ce-bb23-90763e7f35b2",
    "tags": []
   },
   "source": [
    "# Юнит 6. Предметный анализ"
   ]
  },
  {
   "cell_type": "markdown",
   "id": "b9cd50a0-992d-4988-8463-2b2b1c4629b4",
   "metadata": {
    "id": "b9cd50a0-992d-4988-8463-2b2b1c4629b4"
   },
   "source": [
    "1. Сколько вакансий имеет отношение к данным?\n",
    "\n",
    "Считаем, что вакансия имеет отношение к данным, если в её названии содержатся слова 'data' или 'данн'.\n",
    "\n",
    "*Подсказка: Обратите внимание, что названия вакансий могут быть написаны в любом регистре.* \n"
   ]
  },
  {
   "cell_type": "code",
   "execution_count": 40,
   "id": "54ab0e50-c0f1-47cc-a54b-bc5c8bc363f9",
   "metadata": {
    "id": "54ab0e50-c0f1-47cc-a54b-bc5c8bc363f9"
   },
   "outputs": [],
   "source": [
    "# текст запроса\n",
    "query = f'''\n",
    "SELECT COUNT(*)\n",
    "FROM public.vacancies\n",
    "where name ilike '%data%' or name ilike '%данн%' \n",
    "'''"
   ]
  },
  {
   "cell_type": "code",
   "execution_count": 41,
   "id": "9F1meAqsuUjd",
   "metadata": {
    "id": "9F1meAqsuUjd"
   },
   "outputs": [
    {
     "data": {
      "text/html": [
       "<div>\n",
       "<style scoped>\n",
       "    .dataframe tbody tr th:only-of-type {\n",
       "        vertical-align: middle;\n",
       "    }\n",
       "\n",
       "    .dataframe tbody tr th {\n",
       "        vertical-align: top;\n",
       "    }\n",
       "\n",
       "    .dataframe thead th {\n",
       "        text-align: right;\n",
       "    }\n",
       "</style>\n",
       "<table border=\"1\" class=\"dataframe\">\n",
       "  <thead>\n",
       "    <tr style=\"text-align: right;\">\n",
       "      <th></th>\n",
       "      <th>count</th>\n",
       "    </tr>\n",
       "  </thead>\n",
       "  <tbody>\n",
       "    <tr>\n",
       "      <th>0</th>\n",
       "      <td>1771</td>\n",
       "    </tr>\n",
       "  </tbody>\n",
       "</table>\n",
       "</div>"
      ],
      "text/plain": [
       "   count\n",
       "0   1771"
      ]
     },
     "metadata": {},
     "output_type": "display_data"
    }
   ],
   "source": [
    "# Всего в данной выборке 1771 вакансия, связанная с данными.\n",
    "\n",
    "df = pd.read_sql_query(query, connection)\n",
    "display(df)"
   ]
  },
  {
   "cell_type": "markdown",
   "id": "4dea20cb-a36b-474a-a0b9-e08e8e3857a5",
   "metadata": {
    "id": "4dea20cb-a36b-474a-a0b9-e08e8e3857a5"
   },
   "source": [
    "2. Сколько есть подходящих вакансий для начинающего дата-сайентиста? \n",
    "Будем считать вакансиями для дата-сайентистов такие, в названии которых есть хотя бы одно из следующих сочетаний:\n",
    "* 'data scientist'\n",
    "* 'data science'\n",
    "* 'исследователь данных'\n",
    "* 'ML' (здесь не нужно брать вакансии по HTML)\n",
    "* 'machine learning'\n",
    "* 'машинн%обучен%'\n",
    "\n",
    "** В следующих заданиях мы продолжим работать с вакансиями по этому условию.*\n",
    "\n",
    "Считаем вакансиями для специалистов уровня Junior следующие:\n",
    "* в названии есть слово 'junior' *или*\n",
    "* требуемый опыт — Нет опыта *или*\n",
    "* тип трудоустройства — Стажировка.\n",
    " "
   ]
  },
  {
   "cell_type": "code",
   "execution_count": 42,
   "id": "9c61b3c0-bb66-46c9-ae1e-81d3f5752b4a",
   "metadata": {
    "id": "9c61b3c0-bb66-46c9-ae1e-81d3f5752b4a"
   },
   "outputs": [],
   "source": [
    "# Сохраняю набор условий для дальнейшего использования в запросах\n",
    "condition_ds = str(\"\"\"\n",
    "    LOWER(name) LIKE '%data scientist%' or \n",
    "    LOWER(name) LIKE '%data science%' or\n",
    "    LOWER(name) LIKE '%исследователь данных%' or\n",
    "    name LIKE '%ML%' AND name  not LIKE '%HTML%' or\n",
    "    LOWER(name) LIKE '%machine learning%' or\n",
    "    LOWER(name) LIKE '%машинн%обучен%'\"\"\")\n",
    "\n",
    "# текст запроса\n",
    "query = f'''\n",
    "SELECT COUNT(*)\n",
    "FROM vacancies\n",
    "WHERE \n",
    "    ({condition_ds})\n",
    "    AND\n",
    "    (LOWER(name) LIKE '%junior%' or\n",
    "    experience = 'Нет опыта' or\n",
    "    employment = 'Стажировка')   \n",
    "'''"
   ]
  },
  {
   "cell_type": "code",
   "execution_count": 43,
   "id": "ZNM-LLYuu1dj",
   "metadata": {
    "id": "ZNM-LLYuu1dj"
   },
   "outputs": [
    {
     "data": {
      "text/html": [
       "<div>\n",
       "<style scoped>\n",
       "    .dataframe tbody tr th:only-of-type {\n",
       "        vertical-align: middle;\n",
       "    }\n",
       "\n",
       "    .dataframe tbody tr th {\n",
       "        vertical-align: top;\n",
       "    }\n",
       "\n",
       "    .dataframe thead th {\n",
       "        text-align: right;\n",
       "    }\n",
       "</style>\n",
       "<table border=\"1\" class=\"dataframe\">\n",
       "  <thead>\n",
       "    <tr style=\"text-align: right;\">\n",
       "      <th></th>\n",
       "      <th>count</th>\n",
       "    </tr>\n",
       "  </thead>\n",
       "  <tbody>\n",
       "    <tr>\n",
       "      <th>0</th>\n",
       "      <td>51</td>\n",
       "    </tr>\n",
       "  </tbody>\n",
       "</table>\n",
       "</div>"
      ],
      "text/plain": [
       "   count\n",
       "0     51"
      ]
     },
     "metadata": {},
     "output_type": "display_data"
    }
   ],
   "source": [
    "# для начинающего дата-сайентиста есть 51 подходящая вакансия\n",
    "\n",
    "df = pd.read_sql_query(query, connection)\n",
    "display(df)"
   ]
  },
  {
   "cell_type": "markdown",
   "id": "eedceb80-c5ca-480e-b27a-278dfb8b4438",
   "metadata": {
    "id": "eedceb80-c5ca-480e-b27a-278dfb8b4438"
   },
   "source": [
    "3. Сколько есть вакансий для DS, в которых в качестве ключевого навыка указан SQL или postgres?\n",
    "\n",
    "** Критерии для отнесения вакансии к DS указаны в предыдущем задании.*"
   ]
  },
  {
   "cell_type": "code",
   "execution_count": 44,
   "id": "69621713-0cc5-4f1b-a1d7-bb144fa6148c",
   "metadata": {
    "id": "69621713-0cc5-4f1b-a1d7-bb144fa6148c"
   },
   "outputs": [],
   "source": [
    "# текст запроса\n",
    "query = f'''\n",
    "SELECT COUNT(*)\n",
    "FROM vacancies\n",
    "WHERE \n",
    "    ({condition_ds})\n",
    "    AND\n",
    "    (LOWER(key_skills) LIKE '%sql%' or LOWER(key_skills) LIKE '%postgres%' )   \n",
    "'''"
   ]
  },
  {
   "cell_type": "code",
   "execution_count": 45,
   "id": "alA8WEAAvGdf",
   "metadata": {
    "id": "alA8WEAAvGdf"
   },
   "outputs": [
    {
     "data": {
      "text/html": [
       "<div>\n",
       "<style scoped>\n",
       "    .dataframe tbody tr th:only-of-type {\n",
       "        vertical-align: middle;\n",
       "    }\n",
       "\n",
       "    .dataframe tbody tr th {\n",
       "        vertical-align: top;\n",
       "    }\n",
       "\n",
       "    .dataframe thead th {\n",
       "        text-align: right;\n",
       "    }\n",
       "</style>\n",
       "<table border=\"1\" class=\"dataframe\">\n",
       "  <thead>\n",
       "    <tr style=\"text-align: right;\">\n",
       "      <th></th>\n",
       "      <th>count</th>\n",
       "    </tr>\n",
       "  </thead>\n",
       "  <tbody>\n",
       "    <tr>\n",
       "      <th>0</th>\n",
       "      <td>201</td>\n",
       "    </tr>\n",
       "  </tbody>\n",
       "</table>\n",
       "</div>"
      ],
      "text/plain": [
       "   count\n",
       "0    201"
      ]
     },
     "metadata": {},
     "output_type": "display_data"
    }
   ],
   "source": [
    "# SQL или postgres востребованы в 201 вакансии\n",
    "df = pd.read_sql_query(query, connection)\n",
    "display(df)"
   ]
  },
  {
   "cell_type": "markdown",
   "id": "1be1e9c6-37cf-4a5f-bfeb-04cab799dc80",
   "metadata": {
    "id": "1be1e9c6-37cf-4a5f-bfeb-04cab799dc80"
   },
   "source": [
    "4. Проверьте, насколько популярен Python в требованиях работодателей к DS.Для этого вычислите количество вакансий, в которых в качестве ключевого навыка указан Python.\n",
    "\n",
    "** Это можно сделать помощью запроса, аналогичного предыдущему.*"
   ]
  },
  {
   "cell_type": "code",
   "execution_count": 46,
   "id": "0036a355-9ccf-4564-8b01-73d8194297e7",
   "metadata": {
    "id": "0036a355-9ccf-4564-8b01-73d8194297e7"
   },
   "outputs": [],
   "source": [
    "# текст запроса\n",
    "query = f'''\n",
    "SELECT COUNT(*)\n",
    "FROM vacancies\n",
    "WHERE \n",
    "    ({condition_ds})\n",
    "    AND\n",
    "    (LOWER(key_skills) LIKE '%python%')   \n",
    "'''"
   ]
  },
  {
   "cell_type": "code",
   "execution_count": 47,
   "id": "1i-5WyucvQ6v",
   "metadata": {
    "id": "1i-5WyucvQ6v"
   },
   "outputs": [
    {
     "data": {
      "text/html": [
       "<div>\n",
       "<style scoped>\n",
       "    .dataframe tbody tr th:only-of-type {\n",
       "        vertical-align: middle;\n",
       "    }\n",
       "\n",
       "    .dataframe tbody tr th {\n",
       "        vertical-align: top;\n",
       "    }\n",
       "\n",
       "    .dataframe thead th {\n",
       "        text-align: right;\n",
       "    }\n",
       "</style>\n",
       "<table border=\"1\" class=\"dataframe\">\n",
       "  <thead>\n",
       "    <tr style=\"text-align: right;\">\n",
       "      <th></th>\n",
       "      <th>count</th>\n",
       "    </tr>\n",
       "  </thead>\n",
       "  <tbody>\n",
       "    <tr>\n",
       "      <th>0</th>\n",
       "      <td>351</td>\n",
       "    </tr>\n",
       "  </tbody>\n",
       "</table>\n",
       "</div>"
      ],
      "text/plain": [
       "   count\n",
       "0    351"
      ]
     },
     "metadata": {},
     "output_type": "display_data"
    }
   ],
   "source": [
    "# Python оказался еще более популярен, чем SQL, и указан как ключевой навык в 351 вакансии.\n",
    "\n",
    "df = pd.read_sql_query(query, connection)\n",
    "display(df)"
   ]
  },
  {
   "cell_type": "markdown",
   "id": "ec3c8db7-fa21-4a41-a994-1af63742a642",
   "metadata": {
    "id": "ec3c8db7-fa21-4a41-a994-1af63742a642"
   },
   "source": [
    "5. Сколько ключевых навыков в среднем указывают в вакансиях для DS?\n",
    "Ответ округлите до двух знаков после точки-разделителя."
   ]
  },
  {
   "cell_type": "code",
   "execution_count": 48,
   "id": "949132bc-d5b6-4611-8218-0b9a504d74f4",
   "metadata": {
    "id": "949132bc-d5b6-4611-8218-0b9a504d74f4"
   },
   "outputs": [],
   "source": [
    "# текст запроса\n",
    "query = f'''\n",
    "SELECT \n",
    "    ROUND(AVG(LENGTH(key_skills) - LENGTH(REPLACE(key_skills, CHR (9),'')) + 1), 2) as qnt\n",
    "FROM vacancies\n",
    "WHERE \n",
    "    ({condition_ds}) \n",
    "'''"
   ]
  },
  {
   "cell_type": "code",
   "execution_count": 49,
   "id": "a3V24Tvmviqk",
   "metadata": {
    "id": "a3V24Tvmviqk"
   },
   "outputs": [
    {
     "data": {
      "text/html": [
       "<div>\n",
       "<style scoped>\n",
       "    .dataframe tbody tr th:only-of-type {\n",
       "        vertical-align: middle;\n",
       "    }\n",
       "\n",
       "    .dataframe tbody tr th {\n",
       "        vertical-align: top;\n",
       "    }\n",
       "\n",
       "    .dataframe thead th {\n",
       "        text-align: right;\n",
       "    }\n",
       "</style>\n",
       "<table border=\"1\" class=\"dataframe\">\n",
       "  <thead>\n",
       "    <tr style=\"text-align: right;\">\n",
       "      <th></th>\n",
       "      <th>qnt</th>\n",
       "    </tr>\n",
       "  </thead>\n",
       "  <tbody>\n",
       "    <tr>\n",
       "      <th>0</th>\n",
       "      <td>6.41</td>\n",
       "    </tr>\n",
       "  </tbody>\n",
       "</table>\n",
       "</div>"
      ],
      "text/plain": [
       "    qnt\n",
       "0  6.41"
      ]
     },
     "metadata": {},
     "output_type": "display_data"
    }
   ],
   "source": [
    "# В среднем в вакансиях для DS указывают 6-7 ключевых навыков.\n",
    "\n",
    "df = pd.read_sql_query(query, connection)\n",
    "display(df)"
   ]
  },
  {
   "cell_type": "markdown",
   "id": "1041c17a-ca8f-4543-a0ca-32778914fb00",
   "metadata": {
    "id": "1041c17a-ca8f-4543-a0ca-32778914fb00"
   },
   "source": [
    "6. Напишите запрос, позволяющий вычислить, какую зарплату для DS в **среднем** указывают для каждого типа требуемого опыта (уникальное значение из поля *experience*). \n",
    "\n",
    "При решении задачи примите во внимание следующее:\n",
    "1. Рассматриваем только вакансии, у которых заполнено хотя бы одно из двух полей с зарплатой.\n",
    "2. Если заполнены оба поля с зарплатой, то считаем зарплату по каждой вакансии как сумму двух полей, делённую на 2. Если заполнено только одно из полей, то его и считаем зарплатой по вакансии.\n",
    "3. Если в расчётах участвует null, в результате он тоже даст null (посмотрите, что возвращает запрос SELECT 1 + null). Чтобы избежать этой ситуацию, мы воспользуемся функцией [coalesce](https://postgrespro.ru/docs/postgresql/9.5/functions-conditional#functions-coalesce-nvl-ifnull), которая заменит null на значение, которое мы передадим. Например, посмотрите, что возвращает запрос `SELECT 1 + coalesce(null, 0)`\n",
    "\n",
    "Выясните, на какую зарплату в среднем может рассчитывать дата-сайентист с опытом работы от 3 до 6 лет. Результат округлите до целого числа. "
   ]
  },
  {
   "cell_type": "code",
   "execution_count": 50,
   "id": "6a743d39-5204-48d3-8271-b9f88e68d40e",
   "metadata": {
    "id": "6a743d39-5204-48d3-8271-b9f88e68d40e"
   },
   "outputs": [],
   "source": [
    "# текст запроса\n",
    "query = f'''\n",
    "SELECT\n",
    "    experience,\n",
    "    ROUND(AVG(salary),0) as salary_mean\n",
    "FROM(\n",
    "    (SELECT \n",
    "        experience,\n",
    "        (salary_FROM + salary_to) / 2 as salary\n",
    "    FROM vacancies\n",
    "    WHERE \n",
    "        ({condition_ds})\n",
    "        AND\n",
    "        (salary_FROM is not null AND salary_to is not null)\n",
    "    )  \n",
    "      \n",
    "    UNION ALL\n",
    "    \n",
    "    (SELECT \n",
    "        experience,\n",
    "        coalesce(salary_FROM, 0) + coalesce(salary_to, 0) as salary\n",
    "    FROM vacancies\n",
    "    WHERE \n",
    "        ({condition_ds})\n",
    "        AND\n",
    "        (salary_FROM is not null AND salary_to is null \n",
    "            or salary_FROM is null AND salary_to is not null)\n",
    "    )\n",
    ") as salary_all\n",
    "GROUP BY experience\n",
    "'''"
   ]
  },
  {
   "cell_type": "code",
   "execution_count": 51,
   "id": "aRIJ0mZEwU1_",
   "metadata": {
    "id": "aRIJ0mZEwU1_"
   },
   "outputs": [
    {
     "data": {
      "text/html": [
       "<div>\n",
       "<style scoped>\n",
       "    .dataframe tbody tr th:only-of-type {\n",
       "        vertical-align: middle;\n",
       "    }\n",
       "\n",
       "    .dataframe tbody tr th {\n",
       "        vertical-align: top;\n",
       "    }\n",
       "\n",
       "    .dataframe thead th {\n",
       "        text-align: right;\n",
       "    }\n",
       "</style>\n",
       "<table border=\"1\" class=\"dataframe\">\n",
       "  <thead>\n",
       "    <tr style=\"text-align: right;\">\n",
       "      <th></th>\n",
       "      <th>experience</th>\n",
       "      <th>salary_mean</th>\n",
       "    </tr>\n",
       "  </thead>\n",
       "  <tbody>\n",
       "    <tr>\n",
       "      <th>0</th>\n",
       "      <td>Нет опыта</td>\n",
       "      <td>74643.0</td>\n",
       "    </tr>\n",
       "    <tr>\n",
       "      <th>1</th>\n",
       "      <td>От 1 года до 3 лет</td>\n",
       "      <td>139675.0</td>\n",
       "    </tr>\n",
       "    <tr>\n",
       "      <th>2</th>\n",
       "      <td>От 3 до 6 лет</td>\n",
       "      <td>243115.0</td>\n",
       "    </tr>\n",
       "  </tbody>\n",
       "</table>\n",
       "</div>"
      ],
      "text/plain": [
       "           experience  salary_mean\n",
       "0           Нет опыта      74643.0\n",
       "1  От 1 года до 3 лет     139675.0\n",
       "2       От 3 до 6 лет     243115.0"
      ]
     },
     "metadata": {},
     "output_type": "display_data"
    }
   ],
   "source": [
    "# Для соискателей в области DS без опыта работы, в среднем работодатели указывают зарплату 75 тыс руб.\n",
    "# С опытом работы от 1 до 3 лет уровень ЗП поднимается до 140 тыс, а с опытом от 3 до 6 лет средний уровень ЗП 243 тыс руб.\n",
    "\n",
    "df = pd.read_sql_query(query, connection)\n",
    "display(df)"
   ]
  },
  {
   "cell_type": "markdown",
   "id": "6a7892b4-4113-4746-adce-18aa2844f18e",
   "metadata": {
    "id": "6a7892b4-4113-4746-adce-18aa2844f18e"
   },
   "source": [
    "***"
   ]
  },
  {
   "cell_type": "code",
   "execution_count": 59,
   "id": "UjLWUptVwY1o",
   "metadata": {
    "id": "UjLWUptVwY1o"
   },
   "outputs": [],
   "source": [
    "# Всего в выборке найдено более 1700 вакансий, связанных с данными. В качестве ключевых навыков python указывают чаще, \n",
    "# чем SQL, хотя SQL тоже довольно востребован. \n",
    "# Уровень зарплаты дата-сайентиста практически прямопропорционален опыту работы.\n"
   ]
  },
  {
   "cell_type": "markdown",
   "id": "c0ED6fh7wiBT",
   "metadata": {
    "id": "c0ED6fh7wiBT"
   },
   "source": [
    "# Общий вывод по проекту"
   ]
  },
  {
   "cell_type": "code",
   "execution_count": 53,
   "id": "h9B3BL-wwj18",
   "metadata": {
    "id": "h9B3BL-wwj18"
   },
   "outputs": [],
   "source": [
    "#     1. Одним из вопросов для размышлений после проведенных исследований для меня осталась особенность работодателя\n",
    "# не указывать уровень зарплаты. Логично предположить, что, указав уровень, снимается много вопросов со стороны\n",
    "# соискателей, и происходит естественная фильтрация кандидатов. Яркий пример есть в дополнительных исследованиях,\n",
    "# где, условно, Яндекс говорит: \"Да, у меня много вакансий во Владивостоке, уровень оплаты 15 тыс руб\". И это сразу\n",
    "# отсеивает соискателей, которые и не против поработать в Яндексе, но не за такую зарплату. \n",
    "# С другой стороны, если работодатель не указывает уровень зарплаты, значит, он готов выслушать предложение от \n",
    "# соискателя. И это дает возможность соискателю получить желаемый уровень ЗП, а работодателю получить сотрудника\n",
    "# нужной квалификации. Данный метод, на мой взгляд, подходит для набора специалистов высокого уровня. И если\n",
    "# соискатель считает себя таковым, то стоит рассматривать вакансии без указания уровня ЗП.\n",
    "#     2. Из тех вакансий, где уровень зарплаты указывается, зарплатная вилка получилась около 70-110 тыс руб.\n",
    "# А для дата-сайентистов вилка 74-243 тыс руб, что делает данную отрасль в два раза привлекательнее, чем \n",
    "# \"среднестатистичские\" вакансии.\n",
    "#     3. Большое количество вакансий не обязательно у крупных и именитых компаний. Пример тому \"Поляков Денис Иванович\"\n",
    "# у которого 127 вакансий компьютерных мастеров в 88 регионах. Подробнее в дополнительных исследованиях."
   ]
  },
  {
   "cell_type": "markdown",
   "id": "a6a43508",
   "metadata": {},
   "source": [
    "# Дополнительные исследования"
   ]
  },
  {
   "cell_type": "markdown",
   "id": "e6711887",
   "metadata": {},
   "source": [
    "В блоке про анализ работодателей заинтересовал некий работодатель \"Поляков Денис Иванович\", разместивший \n",
    "вакансии в 88 регионах, по охвату регионов попал в ТОП 5 наряду с Яндексом и Ростелекомом. Узнаем, сколько каких вакансий\n",
    "предлагает этот работодатель, какой в среднем начальный уровень зарплаты, какой график работы."
   ]
  },
  {
   "cell_type": "code",
   "execution_count": 54,
   "id": "c9dc74d8",
   "metadata": {},
   "outputs": [],
   "source": [
    "# текст запроса\n",
    "query = f'''\n",
    "SELECT\n",
    "    employers.name,\n",
    "    vacancies.name,\n",
    "    vacancies.schedule,\n",
    "    round(AVG(salary_from), 0) as salary_from,\n",
    "    COUNT(vacancies.name) as qnt_vacancies\n",
    "    \n",
    "FROM vacancies\n",
    "    JOIN employers on  vacancies.employer_id = employers.id\n",
    "\n",
    "WHERE vacancies.employer_id = '5130287'\n",
    "GROUP BY vacancies.name, vacancies.schedule, employers.name\n",
    "'''"
   ]
  },
  {
   "cell_type": "code",
   "execution_count": 55,
   "id": "456c4cfe",
   "metadata": {},
   "outputs": [
    {
     "data": {
      "text/html": [
       "<div>\n",
       "<style scoped>\n",
       "    .dataframe tbody tr th:only-of-type {\n",
       "        vertical-align: middle;\n",
       "    }\n",
       "\n",
       "    .dataframe tbody tr th {\n",
       "        vertical-align: top;\n",
       "    }\n",
       "\n",
       "    .dataframe thead th {\n",
       "        text-align: right;\n",
       "    }\n",
       "</style>\n",
       "<table border=\"1\" class=\"dataframe\">\n",
       "  <thead>\n",
       "    <tr style=\"text-align: right;\">\n",
       "      <th></th>\n",
       "      <th>name</th>\n",
       "      <th>name</th>\n",
       "      <th>schedule</th>\n",
       "      <th>salary_from</th>\n",
       "      <th>qnt_vacancies</th>\n",
       "    </tr>\n",
       "  </thead>\n",
       "  <tbody>\n",
       "    <tr>\n",
       "      <th>0</th>\n",
       "      <td>Поляков Денис Иванович</td>\n",
       "      <td>Компьютерный мастер</td>\n",
       "      <td>Полный день</td>\n",
       "      <td>57568.0</td>\n",
       "      <td>74</td>\n",
       "    </tr>\n",
       "    <tr>\n",
       "      <th>1</th>\n",
       "      <td>Поляков Денис Иванович</td>\n",
       "      <td>Компьютерный мастер</td>\n",
       "      <td>Сменный график</td>\n",
       "      <td>60000.0</td>\n",
       "      <td>5</td>\n",
       "    </tr>\n",
       "    <tr>\n",
       "      <th>2</th>\n",
       "      <td>Поляков Денис Иванович</td>\n",
       "      <td>Ученик компьютерного мастера</td>\n",
       "      <td>Полный день</td>\n",
       "      <td>31458.0</td>\n",
       "      <td>48</td>\n",
       "    </tr>\n",
       "  </tbody>\n",
       "</table>\n",
       "</div>"
      ],
      "text/plain": [
       "                     name                          name        schedule  \\\n",
       "0  Поляков Денис Иванович           Компьютерный мастер     Полный день   \n",
       "1  Поляков Денис Иванович           Компьютерный мастер  Сменный график   \n",
       "2  Поляков Денис Иванович  Ученик компьютерного мастера     Полный день   \n",
       "\n",
       "   salary_from  qnt_vacancies  \n",
       "0      57568.0             74  \n",
       "1      60000.0              5  \n",
       "2      31458.0             48  "
      ]
     },
     "metadata": {},
     "output_type": "display_data"
    }
   ],
   "source": [
    "df = pd.read_sql_query(query, connection)\n",
    "display(df)"
   ]
  },
  {
   "cell_type": "code",
   "execution_count": 56,
   "id": "995220d0",
   "metadata": {},
   "outputs": [],
   "source": [
    "# Предлагаемые вакансии это Компьютерный мастер\t и Ученик компьютерного мастера\t с начальным уровнем\n",
    "# зарплаты около 30 и 60 тыс руб соответственно. Основной график работ - Полный день."
   ]
  },
  {
   "cell_type": "markdown",
   "id": "f8e67595",
   "metadata": {},
   "source": [
    "В блоке про города-милионники насчитали 485 вакансий от Яндекс. Дополнительно хочу узнать, сколько вакансий\n",
    "от Яндекс есть в моем городе Владивосток, построить рейтинг вакансий по уровню зарплаты."
   ]
  },
  {
   "cell_type": "code",
   "execution_count": 57,
   "id": "ce774ff4",
   "metadata": {},
   "outputs": [],
   "source": [
    "# текст запроса\n",
    "query = f'''\n",
    "(SELECT\n",
    "    'Владивосток' as city,\n",
    "    'Всего вакансий от Яндекс во Владивостоке' as vacancies_name ,\n",
    "    COUNT(vacancies.name) as salary_max\n",
    "FROM employers\n",
    "    JOIN vacancies on employers.id = vacancies.employer_id\n",
    "    JOIN areas on vacancies.area_id = areas.id\n",
    "WHERE employers.name = 'Яндекс'\n",
    "    AND areas.name in ('Владивосток')\n",
    ")\n",
    "\n",
    "UNION ALL \n",
    "\n",
    "(SELECT\n",
    "    areas.name,\n",
    "    vacancies.name,\n",
    "    ----Выбираю максимум из зарплатной вилки-------\n",
    "    CASE WHEN vacancies.salary_to is null THEN vacancies.salary_from\n",
    "        ELSE vacancies.salary_to END salary_max\n",
    "FROM employers\n",
    "    JOIN vacancies on employers.id = vacancies.employer_id\n",
    "    JOIN areas on vacancies.area_id = areas.id\n",
    "WHERE employers.name = 'Яндекс'\n",
    "    AND areas.name in ('Владивосток')\n",
    "ORDER BY salary_max DESC NULLS LAST\n",
    ")\n",
    "'''"
   ]
  },
  {
   "cell_type": "code",
   "execution_count": 58,
   "id": "2a772d01",
   "metadata": {},
   "outputs": [
    {
     "data": {
      "text/html": [
       "<div>\n",
       "<style scoped>\n",
       "    .dataframe tbody tr th:only-of-type {\n",
       "        vertical-align: middle;\n",
       "    }\n",
       "\n",
       "    .dataframe tbody tr th {\n",
       "        vertical-align: top;\n",
       "    }\n",
       "\n",
       "    .dataframe thead th {\n",
       "        text-align: right;\n",
       "    }\n",
       "</style>\n",
       "<table border=\"1\" class=\"dataframe\">\n",
       "  <thead>\n",
       "    <tr style=\"text-align: right;\">\n",
       "      <th></th>\n",
       "      <th>city</th>\n",
       "      <th>vacancies_name</th>\n",
       "      <th>salary_max</th>\n",
       "    </tr>\n",
       "  </thead>\n",
       "  <tbody>\n",
       "    <tr>\n",
       "      <th>0</th>\n",
       "      <td>Владивосток</td>\n",
       "      <td>Всего вакансий от Яндекс во Владивостоке</td>\n",
       "      <td>27.0</td>\n",
       "    </tr>\n",
       "    <tr>\n",
       "      <th>1</th>\n",
       "      <td>Владивосток</td>\n",
       "      <td>Разработчик (поисковая выдача)</td>\n",
       "      <td>75000.0</td>\n",
       "    </tr>\n",
       "    <tr>\n",
       "      <th>2</th>\n",
       "      <td>Владивосток</td>\n",
       "      <td>Специалист службы поддержки в Директ</td>\n",
       "      <td>60000.0</td>\n",
       "    </tr>\n",
       "    <tr>\n",
       "      <th>3</th>\n",
       "      <td>Владивосток</td>\n",
       "      <td>Тимлид клиентского сервиса</td>\n",
       "      <td>45000.0</td>\n",
       "    </tr>\n",
       "    <tr>\n",
       "      <th>4</th>\n",
       "      <td>Владивосток</td>\n",
       "      <td>Специалист поддержки в Yandex Cloud</td>\n",
       "      <td>27000.0</td>\n",
       "    </tr>\n",
       "    <tr>\n",
       "      <th>5</th>\n",
       "      <td>Владивосток</td>\n",
       "      <td>Эксперт по ответам на вопросы о Яндекс Бизнесе</td>\n",
       "      <td>26000.0</td>\n",
       "    </tr>\n",
       "    <tr>\n",
       "      <th>6</th>\n",
       "      <td>Владивосток</td>\n",
       "      <td>Специалист поддержки в Яндекс Бизнес</td>\n",
       "      <td>26000.0</td>\n",
       "    </tr>\n",
       "    <tr>\n",
       "      <th>7</th>\n",
       "      <td>Владивосток</td>\n",
       "      <td>Специалист службы поддержки в Яндекс Бизнес</td>\n",
       "      <td>26000.0</td>\n",
       "    </tr>\n",
       "    <tr>\n",
       "      <th>8</th>\n",
       "      <td>Владивосток</td>\n",
       "      <td>Специалист службы поддержки с техническими зна...</td>\n",
       "      <td>15000.0</td>\n",
       "    </tr>\n",
       "    <tr>\n",
       "      <th>9</th>\n",
       "      <td>Владивосток</td>\n",
       "      <td>Специалист службы поддержки с техническими зна...</td>\n",
       "      <td>15000.0</td>\n",
       "    </tr>\n",
       "    <tr>\n",
       "      <th>10</th>\n",
       "      <td>Владивосток</td>\n",
       "      <td>Специалист службы поддержки с техническими зна...</td>\n",
       "      <td>15000.0</td>\n",
       "    </tr>\n",
       "    <tr>\n",
       "      <th>11</th>\n",
       "      <td>Владивосток</td>\n",
       "      <td>Сотрудник службы поддержки с техническими знан...</td>\n",
       "      <td>15000.0</td>\n",
       "    </tr>\n",
       "    <tr>\n",
       "      <th>12</th>\n",
       "      <td>Владивосток</td>\n",
       "      <td>Специалист поддержки в Толоку со знанием англи...</td>\n",
       "      <td>15000.0</td>\n",
       "    </tr>\n",
       "    <tr>\n",
       "      <th>13</th>\n",
       "      <td>Владивосток</td>\n",
       "      <td>Консультант онлайн-поддержки с техническими зн...</td>\n",
       "      <td>15000.0</td>\n",
       "    </tr>\n",
       "    <tr>\n",
       "      <th>14</th>\n",
       "      <td>Владивосток</td>\n",
       "      <td>Специалист службы поддержки с техническими зна...</td>\n",
       "      <td>15000.0</td>\n",
       "    </tr>\n",
       "    <tr>\n",
       "      <th>15</th>\n",
       "      <td>Владивосток</td>\n",
       "      <td>Специалист службы поддержки (с техническими зн...</td>\n",
       "      <td>15000.0</td>\n",
       "    </tr>\n",
       "    <tr>\n",
       "      <th>16</th>\n",
       "      <td>Владивосток</td>\n",
       "      <td>Специалист службы поддержки с техническими зна...</td>\n",
       "      <td>15000.0</td>\n",
       "    </tr>\n",
       "    <tr>\n",
       "      <th>17</th>\n",
       "      <td>Владивосток</td>\n",
       "      <td>Специалист службы поддержки с техническими зна...</td>\n",
       "      <td>15000.0</td>\n",
       "    </tr>\n",
       "    <tr>\n",
       "      <th>18</th>\n",
       "      <td>Владивосток</td>\n",
       "      <td>Специалист службы поддержки с техническими зна...</td>\n",
       "      <td>15000.0</td>\n",
       "    </tr>\n",
       "    <tr>\n",
       "      <th>19</th>\n",
       "      <td>Владивосток</td>\n",
       "      <td>Специалист службы поддержки с техническими зна...</td>\n",
       "      <td>15000.0</td>\n",
       "    </tr>\n",
       "    <tr>\n",
       "      <th>20</th>\n",
       "      <td>Владивосток</td>\n",
       "      <td>Специалист службы поддержки с техническими зна...</td>\n",
       "      <td>15000.0</td>\n",
       "    </tr>\n",
       "    <tr>\n",
       "      <th>21</th>\n",
       "      <td>Владивосток</td>\n",
       "      <td>Сотрудник службы поддержки с техническими знан...</td>\n",
       "      <td>15000.0</td>\n",
       "    </tr>\n",
       "    <tr>\n",
       "      <th>22</th>\n",
       "      <td>Владивосток</td>\n",
       "      <td>Специалист службы поддержки с техническими зна...</td>\n",
       "      <td>15000.0</td>\n",
       "    </tr>\n",
       "    <tr>\n",
       "      <th>23</th>\n",
       "      <td>Владивосток</td>\n",
       "      <td>Специалист службы поддержки пользователей</td>\n",
       "      <td>13000.0</td>\n",
       "    </tr>\n",
       "    <tr>\n",
       "      <th>24</th>\n",
       "      <td>Владивосток</td>\n",
       "      <td>Сотрудник поддержки поиска Яндекса</td>\n",
       "      <td>13000.0</td>\n",
       "    </tr>\n",
       "    <tr>\n",
       "      <th>25</th>\n",
       "      <td>Владивосток</td>\n",
       "      <td>Асессор-тестировщик</td>\n",
       "      <td>NaN</td>\n",
       "    </tr>\n",
       "    <tr>\n",
       "      <th>26</th>\n",
       "      <td>Владивосток</td>\n",
       "      <td>Технический писатель (дистанционный автор)</td>\n",
       "      <td>NaN</td>\n",
       "    </tr>\n",
       "    <tr>\n",
       "      <th>27</th>\n",
       "      <td>Владивосток</td>\n",
       "      <td>Младший специалист ручного тестирования</td>\n",
       "      <td>NaN</td>\n",
       "    </tr>\n",
       "  </tbody>\n",
       "</table>\n",
       "</div>"
      ],
      "text/plain": [
       "           city                                     vacancies_name  salary_max\n",
       "0   Владивосток           Всего вакансий от Яндекс во Владивостоке        27.0\n",
       "1   Владивосток                     Разработчик (поисковая выдача)     75000.0\n",
       "2   Владивосток               Специалист службы поддержки в Директ     60000.0\n",
       "3   Владивосток                         Тимлид клиентского сервиса     45000.0\n",
       "4   Владивосток                Специалист поддержки в Yandex Cloud     27000.0\n",
       "5   Владивосток     Эксперт по ответам на вопросы о Яндекс Бизнесе     26000.0\n",
       "6   Владивосток               Специалист поддержки в Яндекс Бизнес     26000.0\n",
       "7   Владивосток        Специалист службы поддержки в Яндекс Бизнес     26000.0\n",
       "8   Владивосток  Специалист службы поддержки с техническими зна...     15000.0\n",
       "9   Владивосток  Специалист службы поддержки с техническими зна...     15000.0\n",
       "10  Владивосток  Специалист службы поддержки с техническими зна...     15000.0\n",
       "11  Владивосток  Сотрудник службы поддержки с техническими знан...     15000.0\n",
       "12  Владивосток  Специалист поддержки в Толоку со знанием англи...     15000.0\n",
       "13  Владивосток  Консультант онлайн-поддержки с техническими зн...     15000.0\n",
       "14  Владивосток  Специалист службы поддержки с техническими зна...     15000.0\n",
       "15  Владивосток  Специалист службы поддержки (с техническими зн...     15000.0\n",
       "16  Владивосток  Специалист службы поддержки с техническими зна...     15000.0\n",
       "17  Владивосток  Специалист службы поддержки с техническими зна...     15000.0\n",
       "18  Владивосток  Специалист службы поддержки с техническими зна...     15000.0\n",
       "19  Владивосток  Специалист службы поддержки с техническими зна...     15000.0\n",
       "20  Владивосток  Специалист службы поддержки с техническими зна...     15000.0\n",
       "21  Владивосток  Сотрудник службы поддержки с техническими знан...     15000.0\n",
       "22  Владивосток  Специалист службы поддержки с техническими зна...     15000.0\n",
       "23  Владивосток          Специалист службы поддержки пользователей     13000.0\n",
       "24  Владивосток                 Сотрудник поддержки поиска Яндекса     13000.0\n",
       "25  Владивосток                                Асессор-тестировщик         NaN\n",
       "26  Владивосток         Технический писатель (дистанционный автор)         NaN\n",
       "27  Владивосток            Младший специалист ручного тестирования         NaN"
      ]
     },
     "metadata": {},
     "output_type": "display_data"
    }
   ],
   "source": [
    "# Во Владивостоке оказалось 27 вакансий, подавляющее большинство это специалисты поддержки.\n",
    "# Максимальный уровень зарплаты из указанных это 75000р, вакансия Разработчик (поисковая выдача).\n",
    "# Это довольно невысокий уровень для Владивостока. После первых трех вакансий уровень снижается ниже\n",
    "# 30 000р, прожить на такую зп во Владивостоке весьма проблематично. Но может подойти студентам без опыта в \n",
    "# качестве подработки.\n",
    "\n",
    "df = pd.read_sql_query(query, connection)\n",
    "display(df)"
   ]
  },
  {
   "cell_type": "code",
   "execution_count": 6,
   "id": "77f9fdba",
   "metadata": {},
   "outputs": [],
   "source": [
    "# Закрываем соединение\n",
    "connection.close()"
   ]
  }
 ],
 "metadata": {
  "colab": {
   "collapsed_sections": [
    "8d62a9f3-f64e-4fe7-bdac-c4dffa16155e"
   ],
   "provenance": []
  },
  "kernelspec": {
   "display_name": "Python 3 (ipykernel)",
   "language": "python",
   "name": "python3"
  },
  "language_info": {
   "codemirror_mode": {
    "name": "ipython",
    "version": 3
   },
   "file_extension": ".py",
   "mimetype": "text/x-python",
   "name": "python",
   "nbconvert_exporter": "python",
   "pygments_lexer": "ipython3",
   "version": "3.9.10"
  },
  "vscode": {
   "interpreter": {
    "hash": "cf92aa13fedf815d5c8dd192b8d835913fde3e8bc926b2a0ad6cc74ef2ba3ca2"
   }
  }
 },
 "nbformat": 4,
 "nbformat_minor": 5
}
